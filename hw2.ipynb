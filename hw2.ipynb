{
  "nbformat": 4,
  "nbformat_minor": 0,
  "metadata": {
    "kernelspec": {
      "display_name": "Python 3",
      "language": "python",
      "name": "python3"
    },
    "language_info": {
      "codemirror_mode": {
        "name": "ipython",
        "version": 3
      },
      "file_extension": ".py",
      "mimetype": "text/x-python",
      "name": "python",
      "nbconvert_exporter": "python",
      "pygments_lexer": "ipython3",
      "version": "3.7.3"
    },
    "colab": {
      "name": "hw2.ipynb",
      "provenance": [],
      "collapsed_sections": [
        "6yo7ZHc3MEb7",
        "hiHyrFb_YreD",
        "ZnlgPuCBYreH",
        "eGSDF2bhYreK",
        "TSpw2iXRP_wX"
      ]
    }
  },
  "cells": [
    {
      "cell_type": "markdown",
      "metadata": {
        "id": "FBTp-3cqYrd7",
        "colab_type": "text"
      },
      "source": [
        "## 1. Матрица Вандермонда (10 баллов)"
      ]
    },
    {
      "cell_type": "markdown",
      "metadata": {
        "id": "f5QHUadVYrd7",
        "colab_type": "text"
      },
      "source": [
        "Напишите функцию, генерирующую матрицу [Вандермонда](https://ru.wikipedia.org/wiki/Определитель_Вандермонда), принимающую на вход вектор $(𝑥_1,...,𝑥_𝑛)$ .\n",
        "В этом задании запрещается пользоваться готовыми реализациями (например, numpy.vander), а также np.repeat и np.transpose.\n",
        "При решении задействуйте np.reshape и/или np.newaxis."
      ]
    },
    {
      "cell_type": "code",
      "metadata": {
        "id": "CqAhluxBPnSw",
        "colab_type": "code",
        "colab": {}
      },
      "source": [
        "import numpy as np"
      ],
      "execution_count": 0,
      "outputs": []
    },
    {
      "cell_type": "code",
      "metadata": {
        "id": "XJ92XsJ8Yrd8",
        "colab_type": "code",
        "outputId": "cbfa82f5-4b2c-44ef-89fe-aff0b125c4a1",
        "colab": {
          "base_uri": "https://localhost:8080/",
          "height": 35
        }
      },
      "source": [
        "vect = np.random.randint(50, size=5)\n",
        "vect "
      ],
      "execution_count": 0,
      "outputs": [
        {
          "output_type": "execute_result",
          "data": {
            "text/plain": [
              "array([25, 15,  3, 45, 24])"
            ]
          },
          "metadata": {
            "tags": []
          },
          "execution_count": 7
        }
      ]
    },
    {
      "cell_type": "code",
      "metadata": {
        "id": "tixMO8DnCCA7",
        "colab_type": "code",
        "colab": {}
      },
      "source": [
        "def vandermonde(vect):\n",
        "  notnull = np.where(vect!=0)\n",
        "  length = len(vect)\n",
        "  zero = np.zeros((length, length-1))\n",
        "  vector = vect[notnull[0]]\n",
        "  step = np.power(vector, (length-1))\n",
        "  geom = np.geomspace(vector, step, num=(length-1)).swapaxes(0,1)\n",
        "  zero[notnull[0]]= geom\n",
        "  vander = np.hstack((np.ones(length).reshape(length,1), zero)).round().astype(int)\n",
        "  return vander"
      ],
      "execution_count": 0,
      "outputs": []
    },
    {
      "cell_type": "code",
      "metadata": {
        "id": "lNFma5eRC6kZ",
        "colab_type": "code",
        "outputId": "0c0fba03-15c7-484b-b886-0a3f82ac4159",
        "colab": {
          "base_uri": "https://localhost:8080/",
          "height": 104
        }
      },
      "source": [
        "vandermonde(vect)"
      ],
      "execution_count": 0,
      "outputs": [
        {
          "output_type": "execute_result",
          "data": {
            "text/plain": [
              "array([[      1,      25,     625,   15625,  390625],\n",
              "       [      1,      15,     225,    3375,   50625],\n",
              "       [      1,       3,       9,      27,      81],\n",
              "       [      1,      45,    2025,   91125, 4100625],\n",
              "       [      1,      24,     576,   13824,  331776]])"
            ]
          },
          "metadata": {
            "tags": []
          },
          "execution_count": 9
        }
      ]
    },
    {
      "cell_type": "markdown",
      "metadata": {
        "id": "6m_VPlYwYrd_",
        "colab_type": "text"
      },
      "source": [
        "## 2. Марафон (30 баллов)"
      ]
    },
    {
      "cell_type": "markdown",
      "metadata": {
        "id": "Dno0b6OEYreA",
        "colab_type": "text"
      },
      "source": [
        "#### История\n",
        "Как-то раз Винни-Пух, Пятачок, Кролик и Иа-Иа решили пробежать марафон. Они договорились бежать $n$ часов. Побеждает тот, кто пробегает за эти $n$ часов больше всего километров. Каждый участник бежит по-разному, то сколько он пробежит за один час поддается одному из законов распределений. Например, если имеется равномерное распределение $U[1,3]$, то участник может пробежать за первый час 1.3км, за второй 2.4км и так далее.\n",
        "\n",
        "* Винни-Пух в целом может пробежать достаточно много, но с большой вероятностью останавливается покушать мёда и пробегает мало. Его закон распределения это показательное распределение с $\\lambda = 1$.\n",
        "* Пятачок бежит в одном темпе и старается пробегать приблизительно одинаковую дистанцию. Изредка, он может перепутать направление и немного пробежать не в ту сторону. Его закон распределения это нормальное распределение $N(1, 1)$.\n",
        "* Кролик - перфекционист. Он бежит целое количество киллометров. Если он понимает, что за оставшееся время он уже не пробежит еще один километр, то он останавливается и ждет следующий час. Его закон распределения это распределение Пуассона с $\\lambda = 1$.\n",
        "* Иа-Иа в течение часа может грустить с вероятностью 0.5 и пробжеать 0 километров или быть очень веселым (с вероятностью 0.5) и пробежать 2 километра. Его закон распределения это распределение Бернулли.\n",
        "\n",
        "#### Задание №1\n",
        "\n",
        "Вам нужно: \n",
        "* Создать трехмерную матрицу размера $10^4 \\times 4 \\times n$. Первая ось отвечает за номер марафона, вторая ось за каждого участника, а третья ось за каждый час марафона. Вторую и третью ось можно поменять, если вам так удобнее.\n",
        "* Выявить победителя в каждом из $10^4$ марафонов. \n",
        "* Нарисовать столбчатую диаграмму, на которой будет видно кто и сколько раз побеждал в марафоне.\n",
        "* Запрещено пользоваться циклами. Нужно использовать возможности numpy.\n",
        "\n",
        "Что можно сказать о результатах?\n",
        "\n",
        "#### Задание №2\n",
        " \n",
        "Участники решили объединиться в пары: Винни-Пух с Пятачком, Кролик с Иа-Иа. Они решили суммировать свои результаты.\n",
        "\n",
        "Вам нужно: \n",
        "* Сгенерировать новую трехмерную матрицу, но уже объединив участников в команды.\n",
        "* Выявить команду-победителя в каждом из $10^4$ марафонов. \n",
        "* Нарисовать столбчатую диаграмму, на которой будет видно кто и сколько раз побеждал в марафоне.\n",
        "\n",
        "Логичны ли полученные результаты?"
      ]
    },
    {
      "cell_type": "markdown",
      "metadata": {
        "id": "R-RsRBPbLYwr",
        "colab_type": "text"
      },
      "source": [
        "###Задание 1"
      ]
    },
    {
      "cell_type": "code",
      "metadata": {
        "id": "_RH0wHLea7mQ",
        "colab_type": "code",
        "colab": {}
      },
      "source": [
        "import numpy as np\n",
        "import matplotlib.pyplot as plt\n"
      ],
      "execution_count": 0,
      "outputs": []
    },
    {
      "cell_type": "code",
      "metadata": {
        "id": "Qi_HadzoYreA",
        "colab_type": "code",
        "outputId": "c5e926f2-0907-417c-cdd2-0d156cf8577a",
        "colab": {
          "base_uri": "https://localhost:8080/",
          "height": 35
        }
      },
      "source": [
        "n=15 #длительность марафона в часах\n",
        "vin = np.random.exponential(1,size=(10**4,n)).reshape(n*10**4)\n",
        "pyat = np.random.normal(1,1,size=(10**4,n)).reshape(n*10**4)\n",
        "krol = np.random.poisson(1,size=(10**4,n)).reshape(n*10**4)\n",
        "ia = (np.random.binomial(1,0.5, size=(10**4,n))*2).reshape(n*10**4)\n",
        "mar = np.array([vin,pyat,krol,ia])\n",
        "mar = np.reshape(mar, (10**4*4,n))\n",
        "mar = np.reshape(mar, (10**4,4,n), order='F')\n",
        "mar.shape"
      ],
      "execution_count": 0,
      "outputs": [
        {
          "output_type": "execute_result",
          "data": {
            "text/plain": [
              "(10000, 4, 15)"
            ]
          },
          "metadata": {
            "tags": []
          },
          "execution_count": 308
        }
      ]
    },
    {
      "cell_type": "code",
      "metadata": {
        "id": "Yj-A28uECHWZ",
        "colab_type": "code",
        "outputId": "241eb419-02f6-489a-e6d1-fa833736b0e2",
        "colab": {
          "base_uri": "https://localhost:8080/",
          "height": 87
        }
      },
      "source": [
        "#Выявим победителя в каждом марафоне\n",
        "pobed = np.reshape(mar,(40000,n))\n",
        "pobed = np.sum(pobed, axis=1)\n",
        "pobed = np.reshape(pobed,(10000,4))\n",
        "pobed = pobed.argmax(axis=1)\n",
        "print('Количество побед Винни-Пуха',np.sum(pobed==0))\n",
        "print('Количество побед Пятачка',np.sum(pobed==1))\n",
        "print('Количество побед Кролика',np.sum(pobed==2))\n",
        "print('Количество побед Иа-Иа',np.sum(pobed==3))"
      ],
      "execution_count": 0,
      "outputs": [
        {
          "output_type": "stream",
          "text": [
            "Количество побед Винни-Пуха 2411\n",
            "Количество побед Пятачка 2551\n",
            "Количество побед Кролика 2596\n",
            "Количество побед Иа-Иа 2442\n"
          ],
          "name": "stdout"
        }
      ]
    },
    {
      "cell_type": "code",
      "metadata": {
        "id": "RH7CYkuxFoJH",
        "colab_type": "code",
        "outputId": "9782197c-b334-4e08-8135-efcda7027192",
        "colab": {
          "base_uri": "https://localhost:8080/",
          "height": 296
        }
      },
      "source": [
        "plt.style.use('seaborn')\n",
        "fig, ax = plt.subplots(figsize=(7,4))\n",
        "ax.bar(['Винни','Пятачок','Кролик','Иа-Иа'], height=(np.sum(pobed==0),np.sum(pobed==1),np.sum(pobed==2),np.sum(pobed==3)))\n",
        "ax.set_xlabel('Участники марафона')\n",
        "ax.set_ylabel('Количество побед')\n",
        "ax.set_title('Распределение побед в {}-часовом марафоне между участниками'.format(n))\n",
        "plt.show()"
      ],
      "execution_count": 0,
      "outputs": [
        {
          "output_type": "display_data",
          "data": {
            "image/png": "[encoded data removed]",
            "text/plain": [
              "<Figure size 504x288 with 1 Axes>"
            ]
          },
          "metadata": {
            "tags": []
          }
        }
      ]
    },
    {
      "cell_type": "markdown",
      "metadata": {
        "id": "2XUVBySdN8JN",
        "colab_type": "text"
      },
      "source": [
        "Распределение побед между участниками примерно равное, поскольку математические ожидания для всех четырех распределений равны 1, а значит при больших выборках среднее по всем наблюдениям для каждого из участников будет сходиться к мат ожиданию, а количество побед будет равномерно распредлено между ними.  Дисперсии всех трех распределений тоже равны 1, поэтому даже при небольших n распределение побед будет примерно равномерным.\n"
      ]
    },
    {
      "cell_type": "markdown",
      "metadata": {
        "id": "6yo7ZHc3MEb7",
        "colab_type": "text"
      },
      "source": [
        "###Задание 2"
      ]
    },
    {
      "cell_type": "code",
      "metadata": {
        "id": "JrMjjsFBMJv3",
        "colab_type": "code",
        "outputId": "a6c0f526-b7dc-42d8-fc67-92d9705c1788",
        "colab": {
          "base_uri": "https://localhost:8080/",
          "height": 35
        }
      },
      "source": [
        "n=10\n",
        "vin = np.random.exponential(1,size=(10**4,n)).reshape(n*10**4)\n",
        "pyat = np.random.normal(1,1,size=(10**4,n)).reshape(n*10**4)\n",
        "krol = np.random.poisson(1,size=(10**4,n)).reshape(n*10**4)\n",
        "ia = (np.random.binomial(1,0.5, size=(10**4,n))*2).reshape(n*10**4)\n",
        "mar = np.array([vin+pyat,krol+ia])\n",
        "mar = np.reshape(mar, (10**4*2,n))\n",
        "mar = np.reshape(mar, (10**4,2,n), order='F')\n",
        "mar.shape"
      ],
      "execution_count": 0,
      "outputs": [
        {
          "output_type": "execute_result",
          "data": {
            "text/plain": [
              "(10000, 2, 10)"
            ]
          },
          "metadata": {
            "tags": []
          },
          "execution_count": 318
        }
      ]
    },
    {
      "cell_type": "code",
      "metadata": {
        "id": "zOTHaZ0uMbI2",
        "colab_type": "code",
        "outputId": "94c04c9a-b58c-40f5-bdab-3063e8bb3fb1",
        "colab": {
          "base_uri": "https://localhost:8080/",
          "height": 52
        }
      },
      "source": [
        "pobed = np.reshape(mar,(20000,n))\n",
        "pobed = np.sum(pobed, axis=1)\n",
        "pobed = np.reshape(pobed,(10000,2))\n",
        "pobed = pobed.argmax(axis=1)\n",
        "print('Количество побед Винни-Пуха и Пятачка',np.sum(pobed==0))\n",
        "print('Количество побед Кролика и Иа-Иа',np.sum(pobed==1))"
      ],
      "execution_count": 0,
      "outputs": [
        {
          "output_type": "stream",
          "text": [
            "Количество побед Винни-Пуха и Пятачка 4973\n",
            "Количество побед Кролика и Иа-Иа 5027\n"
          ],
          "name": "stdout"
        }
      ]
    },
    {
      "cell_type": "code",
      "metadata": {
        "id": "sCx2i-mMM7-g",
        "colab_type": "code",
        "outputId": "ffda865c-3b98-4d86-f908-468f523db7a6",
        "colab": {
          "base_uri": "https://localhost:8080/",
          "height": 296
        }
      },
      "source": [
        "plt.style.use('seaborn')\n",
        "fig, ax = plt.subplots(figsize=(7,4))\n",
        "ax.bar(['Винни и Пятачок','Кролик и Иа-Иа'], height=(np.sum(pobed==0),np.sum(pobed==1)))\n",
        "ax.set_xlabel('Участники марафона')\n",
        "ax.set_ylabel('Количество побед')\n",
        "ax.set_title('Распределение побед в {}-часовом марафоне между участниками'.format(n))\n",
        "plt.show()"
      ],
      "execution_count": 0,
      "outputs": [
        {
          "output_type": "display_data",
          "data": {
            "image/png": "[encoded data removed]",
            "text/plain": [
              "<Figure size 504x288 with 1 Axes>"
            ]
          },
          "metadata": {
            "tags": []
          }
        }
      ]
    },
    {
      "cell_type": "markdown",
      "metadata": {
        "id": "rXt98-mQU1zm",
        "colab_type": "text"
      },
      "source": [
        "Поскольку мы просто объединили команды, а для каждого участника среднее сходится к мат ожиданию, а дисперсия суммы - это сумма дисперсий, то и для команд из двух участников количество побед будет примерно равным"
      ]
    },
    {
      "cell_type": "markdown",
      "metadata": {
        "id": "hiHyrFb_YreD",
        "colab_type": "text"
      },
      "source": [
        "## 3. Avito (30 баллов)"
      ]
    },
    {
      "cell_type": "markdown",
      "metadata": {
        "id": "vSqYbfz0YreD",
        "colab_type": "text"
      },
      "source": [
        "В этом задании вам нужно будет написать функцию, которая парсит [Авито](https://www.avito.ru) (будем рассматривать только Москву). Эта функция принимает два параметра:\n",
        "* search - то, что мы ищем на avito\n",
        "* page - номер страницы, с которой парсим информацию\n",
        "\n",
        "```python\n",
        "def parse_page(search, page):\n",
        "    # тут ваш код\n",
        "df = parse_page('гречка', 4)\n",
        "```\n",
        "Нужно скачать следующую информацию:\n",
        "* название объявления\n",
        "* ссылка на объявление\n",
        "* цена\n",
        "* метро (если есть), вам нужно аккуратно обрабатывать None или использовать конструкцию try-except\n",
        "* сколько метров от метро (если есть)\n",
        "\n",
        "Эту информацию лучше сохранить в виде pandas df.\n",
        "\n",
        "В данном задании **не нужно** парсить все страницы (вас могут забанить). Нужно лишь сделать функцию, которая парсит одну страницу. Чтобы вас не забанили сделаейте request один раз и работайте с вашей страничкой без функции. После того как все будет готово, оберните весь ваш код в функцию."
      ]
    },
    {
      "cell_type": "code",
      "metadata": {
        "id": "TWwsRqmjYreE",
        "colab_type": "code",
        "colab": {}
      },
      "source": [
        "import requests\n",
        "from bs4 import BeautifulSoup\n",
        "import pandas as pd\n",
        "import numpy as np\n"
      ],
      "execution_count": 0,
      "outputs": []
    },
    {
      "cell_type": "code",
      "metadata": {
        "id": "mW_ntG5PbEco",
        "colab_type": "code",
        "colab": {}
      },
      "source": [
        "def parse_page(search, page):\n",
        "  file = requests.get('https://www.avito.ru/moskva?q=' + str(search) + '&p=' + str(page))\n",
        "  work = BeautifulSoup(file.content, 'html.parser')\n",
        "  a = work.find_all('div', class_='item__line')\n",
        "  data = []\n",
        "  for i in range(len(a)):\n",
        "    buy = []\n",
        "    buy.append(a[i].find('a', class_='snippet-link').text.strip())\n",
        "    buy.append('avito.ru' + str(a[i].a.get('href')))\n",
        "    if a[i].find('span', class_='snippet-price').text.strip() == 'Бесплатно':\n",
        "      buy.append(0)\n",
        "    elif a[i].find('span', class_='snippet-price').text.strip() == 'Цена не указана' or a[i].find('span', class_='snippet-price').text.strip() == 'Зарплата не указана':\n",
        "      buy.append(np.nan)\n",
        "    else:\n",
        "      try:\n",
        "        buy.append(int(a[i].find('span', class_='snippet-price').text.replace('₽','').strip().replace(' ', '')))\n",
        "      except:\n",
        "        if a[i].find('span', class_='snippet-price').text.replace('₽\\n','').strip()[-7:] == 'в месяц':\n",
        "          buy.append(int(a[i].find('span', class_='snippet-price').text.replace('₽','').strip()[:-7].replace(' ', '')))\n",
        "        elif a[i].find('span', class_='snippet-price').text.replace('₽\\n','').strip()[-8:] == 'за сутки':\n",
        "          buy.append(int(a[i].find('span', class_='snippet-price').text.replace('₽','').strip()[:-8].replace(' ', '')))\n",
        "    # на случай, если там не метро, то не будет цветовой метки ветки \n",
        "    # просто класс item-address-georeferences-item__content не показательный, так как там часто лежит не метро\n",
        "    if a[i].find('i', class_=\"item-address-georeferences-item-icons__icon\") != None:\n",
        "      buy.append(a[i].find('span', class_='item-address-georeferences-item__content').text)\n",
        "    else:\n",
        "      buy.append(np.nan)\n",
        "    if a[i].find('span', class_=\"item-address-georeferences-item__after\") != None:\n",
        "      way = a[i].find('span', class_=\"item-address-georeferences-item__after\").text.replace('\\xa0', '').strip()\n",
        "      if way[-2:] != 'км':\n",
        "        buy.append(int(way[:-1]))\n",
        "      else:\n",
        "        buy.append(int(float(way[:-2].replace(',', '.'))*1000))\n",
        "    else:\n",
        "      buy.append(np.nan)\n",
        "    data.append(buy)\n",
        "  df = pd.DataFrame(data, columns= ('Название объявления', 'Cсылка на объявление', 'Цена (₽)', 'Метро', 'Расстояние до метро (в метрах)'))\n",
        "  return df"
      ],
      "execution_count": 0,
      "outputs": []
    },
    {
      "cell_type": "code",
      "metadata": {
        "id": "qg5YnZAlpA9o",
        "colab_type": "code",
        "outputId": "57cedf21-2256-497c-9dd2-88532dcb385f",
        "colab": {
          "base_uri": "https://localhost:8080/",
          "height": 1000
        }
      },
      "source": [
        "parse_page('квартира', 3)"
      ],
      "execution_count": 0,
      "outputs": [
        {
          "output_type": "execute_result",
          "data": {
            "text/html": [
              "<div>\n",
              "<style scoped>\n",
              "    .dataframe tbody tr th:only-of-type {\n",
              "        vertical-align: middle;\n",
              "    }\n",
              "\n",
              "    .dataframe tbody tr th {\n",
              "        vertical-align: top;\n",
              "    }\n",
              "\n",
              "    .dataframe thead th {\n",
              "        text-align: right;\n",
              "    }\n",
              "</style>\n",
              "<table border=\"1\" class=\"dataframe\">\n",
              "  <thead>\n",
              "    <tr style=\"text-align: right;\">\n",
              "      <th></th>\n",
              "      <th>Название объявления</th>\n",
              "      <th>Cсылка на объявление</th>\n",
              "      <th>Цена (₽)</th>\n",
              "      <th>Метро</th>\n",
              "      <th>Расстояние до метро (в метрах)</th>\n",
              "    </tr>\n",
              "  </thead>\n",
              "  <tbody>\n",
              "    <tr>\n",
              "      <th>0</th>\n",
              "      <td>2-к квартира, 33.1 м², 4/8 эт.</td>\n",
              "      <td>avito.ru/moskva/kvartiry/2-k_kvartira_33.1_m_4...</td>\n",
              "      <td>7200000</td>\n",
              "      <td>Селигерская</td>\n",
              "      <td>500.0</td>\n",
              "    </tr>\n",
              "    <tr>\n",
              "      <th>1</th>\n",
              "      <td>2-к квартира, 60 м², 20/25 эт.</td>\n",
              "      <td>avito.ru/moskva/kvartiry/2-k_kvartira_60_m_202...</td>\n",
              "      <td>9500000</td>\n",
              "      <td>Пятницкое шоссе</td>\n",
              "      <td>1200.0</td>\n",
              "    </tr>\n",
              "    <tr>\n",
              "      <th>2</th>\n",
              "      <td>Студия, 12.1 м², 1/9 эт.</td>\n",
              "      <td>avito.ru/moskva/kvartiry/studiya_12.1_m_19_et....</td>\n",
              "      <td>2490000</td>\n",
              "      <td>Рязанский проспект</td>\n",
              "      <td>500.0</td>\n",
              "    </tr>\n",
              "    <tr>\n",
              "      <th>3</th>\n",
              "      <td>1-к квартира, 42 м², 9/20 эт.</td>\n",
              "      <td>avito.ru/moskva/kvartiry/1-k_kvartira_42_m_920...</td>\n",
              "      <td>1690</td>\n",
              "      <td>Строгино</td>\n",
              "      <td>1000.0</td>\n",
              "    </tr>\n",
              "    <tr>\n",
              "      <th>4</th>\n",
              "      <td>1-к квартира, 34 м², 4/12 эт.</td>\n",
              "      <td>avito.ru/moskva/kvartiry/1-k_kvartira_34_m_412...</td>\n",
              "      <td>28000</td>\n",
              "      <td>NaN</td>\n",
              "      <td>NaN</td>\n",
              "    </tr>\n",
              "    <tr>\n",
              "      <th>5</th>\n",
              "      <td>2-к квартира, 76 м², 11/22 эт.</td>\n",
              "      <td>avito.ru/moskva/kvartiry/2-k_kvartira_76_m_112...</td>\n",
              "      <td>1500</td>\n",
              "      <td>Речной вокзал</td>\n",
              "      <td>600.0</td>\n",
              "    </tr>\n",
              "    <tr>\n",
              "      <th>6</th>\n",
              "      <td>1-к квартира, 38 м², 3/8 эт.</td>\n",
              "      <td>avito.ru/moskva/kvartiry/1-k_kvartira_38_m_38_...</td>\n",
              "      <td>8000000</td>\n",
              "      <td>Солнцево</td>\n",
              "      <td>500.0</td>\n",
              "    </tr>\n",
              "    <tr>\n",
              "      <th>7</th>\n",
              "      <td>Студия, 24.3 м², 1/12 эт.</td>\n",
              "      <td>avito.ru/moskva/kvartiry/studiya_24.3_m_112_et...</td>\n",
              "      <td>4000000</td>\n",
              "      <td>Бибирево</td>\n",
              "      <td>300.0</td>\n",
              "    </tr>\n",
              "    <tr>\n",
              "      <th>8</th>\n",
              "      <td>1-к квартира, 35 м², 2/5 эт.</td>\n",
              "      <td>avito.ru/moskva/kvartiry/1-k_kvartira_35_m_25_...</td>\n",
              "      <td>1400</td>\n",
              "      <td>Петровский парк</td>\n",
              "      <td>900.0</td>\n",
              "    </tr>\n",
              "    <tr>\n",
              "      <th>9</th>\n",
              "      <td>6-к квартира, 251.5 м², 3/3 эт.</td>\n",
              "      <td>avito.ru/moskva/kvartiry/6-k_kvartira_251.5_m_...</td>\n",
              "      <td>45000000</td>\n",
              "      <td>Чкаловская</td>\n",
              "      <td>800.0</td>\n",
              "    </tr>\n",
              "    <tr>\n",
              "      <th>10</th>\n",
              "      <td>2-к квартира, 38 м², 5/9 эт.</td>\n",
              "      <td>avito.ru/moskva/kvartiry/2-k_kvartira_38_m_59_...</td>\n",
              "      <td>40000</td>\n",
              "      <td>Бабушкинская</td>\n",
              "      <td>1600.0</td>\n",
              "    </tr>\n",
              "    <tr>\n",
              "      <th>11</th>\n",
              "      <td>1-к квартира, 40 м², 7/9 эт.</td>\n",
              "      <td>avito.ru/moskva/kvartiry/1-k_kvartira_40_m_79_...</td>\n",
              "      <td>2000</td>\n",
              "      <td>Октябрьская</td>\n",
              "      <td>100.0</td>\n",
              "    </tr>\n",
              "    <tr>\n",
              "      <th>12</th>\n",
              "      <td>1-к квартира, 43 м², 7/12 эт.</td>\n",
              "      <td>avito.ru/moskva/kvartiry/1-k_kvartira_43_m_712...</td>\n",
              "      <td>1300</td>\n",
              "      <td>Чертановская</td>\n",
              "      <td>400.0</td>\n",
              "    </tr>\n",
              "    <tr>\n",
              "      <th>13</th>\n",
              "      <td>5-к квартира, 141.9 м², 19/22 эт.</td>\n",
              "      <td>avito.ru/moskva/kvartiry/5-k_kvartira_141.9_m_...</td>\n",
              "      <td>27733120</td>\n",
              "      <td>Спартак</td>\n",
              "      <td>500.0</td>\n",
              "    </tr>\n",
              "    <tr>\n",
              "      <th>14</th>\n",
              "      <td>3-к квартира, 56.5 м², 3/9 эт.</td>\n",
              "      <td>avito.ru/moskva/kvartiry/3-k_kvartira_56.5_m_3...</td>\n",
              "      <td>40000</td>\n",
              "      <td>Шипиловская</td>\n",
              "      <td>400.0</td>\n",
              "    </tr>\n",
              "    <tr>\n",
              "      <th>15</th>\n",
              "      <td>2-к квартира, 60 м², 4/9 эт.</td>\n",
              "      <td>avito.ru/moskva/kvartiry/2-k_kvartira_60_m_49_...</td>\n",
              "      <td>2500</td>\n",
              "      <td>Ясенево</td>\n",
              "      <td>200.0</td>\n",
              "    </tr>\n",
              "    <tr>\n",
              "      <th>16</th>\n",
              "      <td>2-к квартира, 40 м², 6/9 эт.</td>\n",
              "      <td>avito.ru/moskva/kvartiry/2-k_kvartira_40_m_69_...</td>\n",
              "      <td>2500</td>\n",
              "      <td>Новые Черемушки</td>\n",
              "      <td>900.0</td>\n",
              "    </tr>\n",
              "    <tr>\n",
              "      <th>17</th>\n",
              "      <td>1-к квартира, 42 м², 5/5 эт.</td>\n",
              "      <td>avito.ru/moskva/kvartiry/1-k_kvartira_42_m_55_...</td>\n",
              "      <td>1500</td>\n",
              "      <td>Кузьминки</td>\n",
              "      <td>500.0</td>\n",
              "    </tr>\n",
              "    <tr>\n",
              "      <th>18</th>\n",
              "      <td>2-к квартира, 47.2 м², 7/17 эт.</td>\n",
              "      <td>avito.ru/moskva/kvartiry/2-k_kvartira_47.2_m_7...</td>\n",
              "      <td>38000</td>\n",
              "      <td>Царицыно</td>\n",
              "      <td>2300.0</td>\n",
              "    </tr>\n",
              "    <tr>\n",
              "      <th>19</th>\n",
              "      <td>1-к квартира, 19.9 м², 10/10 эт.</td>\n",
              "      <td>avito.ru/moskva/kvartiry/1-k_kvartira_19.9_m_1...</td>\n",
              "      <td>31100</td>\n",
              "      <td>Домодедовская</td>\n",
              "      <td>1200.0</td>\n",
              "    </tr>\n",
              "    <tr>\n",
              "      <th>20</th>\n",
              "      <td>1-к квартира, 35.9 м², 1/33 эт.</td>\n",
              "      <td>avito.ru/moskva/kvartiry/1-k_kvartira_35.9_m_1...</td>\n",
              "      <td>29600</td>\n",
              "      <td>Строгино</td>\n",
              "      <td>1700.0</td>\n",
              "    </tr>\n",
              "    <tr>\n",
              "      <th>21</th>\n",
              "      <td>2-к квартира, 44.7 м², 1/5 эт.</td>\n",
              "      <td>avito.ru/moskva/kvartiry/2-k_kvartira_44.7_m_1...</td>\n",
              "      <td>41300</td>\n",
              "      <td>Новогиреево</td>\n",
              "      <td>700.0</td>\n",
              "    </tr>\n",
              "    <tr>\n",
              "      <th>22</th>\n",
              "      <td>2-к квартира, 59.4 м², 4/17 эт.</td>\n",
              "      <td>avito.ru/moskva/kvartiry/2-k_kvartira_59.4_m_4...</td>\n",
              "      <td>46600</td>\n",
              "      <td>Саларьево</td>\n",
              "      <td>900.0</td>\n",
              "    </tr>\n",
              "    <tr>\n",
              "      <th>23</th>\n",
              "      <td>1-к квартира, 32.7 м², 2/9 эт.</td>\n",
              "      <td>avito.ru/moskva/kvartiry/1-k_kvartira_32.7_m_2...</td>\n",
              "      <td>44300</td>\n",
              "      <td>Лихоборы</td>\n",
              "      <td>600.0</td>\n",
              "    </tr>\n",
              "    <tr>\n",
              "      <th>24</th>\n",
              "      <td>3-к квартира, 87.8 м², 7/17 эт.</td>\n",
              "      <td>avito.ru/moskva/kvartiry/3-k_kvartira_87.8_m_7...</td>\n",
              "      <td>113400</td>\n",
              "      <td>Пролетарская</td>\n",
              "      <td>500.0</td>\n",
              "    </tr>\n",
              "    <tr>\n",
              "      <th>25</th>\n",
              "      <td>2-к квартира, 126 м², 44/60 эт.</td>\n",
              "      <td>avito.ru/moskva/kvartiry/2-k_kvartira_126_m_44...</td>\n",
              "      <td>59000000</td>\n",
              "      <td>Деловой центр</td>\n",
              "      <td>200.0</td>\n",
              "    </tr>\n",
              "    <tr>\n",
              "      <th>26</th>\n",
              "      <td>1-к квартира, 25.9 м², 16/25 эт.</td>\n",
              "      <td>avito.ru/moskva/kvartiry/1-k_kvartira_25.9_m_1...</td>\n",
              "      <td>43000</td>\n",
              "      <td>Нижегородская</td>\n",
              "      <td>800.0</td>\n",
              "    </tr>\n",
              "    <tr>\n",
              "      <th>27</th>\n",
              "      <td>3-к квартира, 62.6 м², 21/23 эт.</td>\n",
              "      <td>avito.ru/moskva/kvartiry/3-k_kvartira_62.6_m_2...</td>\n",
              "      <td>74100</td>\n",
              "      <td>Авиамоторная</td>\n",
              "      <td>600.0</td>\n",
              "    </tr>\n",
              "    <tr>\n",
              "      <th>28</th>\n",
              "      <td>2-к квартира, 39.8 м², 10/17 эт.</td>\n",
              "      <td>avito.ru/moskva/kvartiry/2-k_kvartira_39.8_m_1...</td>\n",
              "      <td>93000</td>\n",
              "      <td>Петровский парк</td>\n",
              "      <td>500.0</td>\n",
              "    </tr>\n",
              "    <tr>\n",
              "      <th>29</th>\n",
              "      <td>1-к квартира, 44 м², 8/9 эт.</td>\n",
              "      <td>avito.ru/moskva/kvartiry/1-k_kvartira_44_m_89_...</td>\n",
              "      <td>140000</td>\n",
              "      <td>Баррикадная</td>\n",
              "      <td>800.0</td>\n",
              "    </tr>\n",
              "    <tr>\n",
              "      <th>30</th>\n",
              "      <td>2-к квартира, 65 м², 6/9 эт.</td>\n",
              "      <td>avito.ru/moskva/kvartiry/2-k_kvartira_65_m_69_...</td>\n",
              "      <td>2500</td>\n",
              "      <td>Проспект Мира</td>\n",
              "      <td>400.0</td>\n",
              "    </tr>\n",
              "    <tr>\n",
              "      <th>31</th>\n",
              "      <td>1-к квартира, 41 м², 6/17 эт.</td>\n",
              "      <td>avito.ru/moskva/kvartiry/1-k_kvartira_41_m_617...</td>\n",
              "      <td>38000</td>\n",
              "      <td>Селигерская</td>\n",
              "      <td>1600.0</td>\n",
              "    </tr>\n",
              "    <tr>\n",
              "      <th>32</th>\n",
              "      <td>1-к квартира, 45 м², 4/7 эт.</td>\n",
              "      <td>avito.ru/moskva/kvartiry/1-k_kvartira_45_m_47_...</td>\n",
              "      <td>3300</td>\n",
              "      <td>Павелецкая</td>\n",
              "      <td>400.0</td>\n",
              "    </tr>\n",
              "    <tr>\n",
              "      <th>33</th>\n",
              "      <td>1-к квартира, 35 м², 4/9 эт.</td>\n",
              "      <td>avito.ru/moskva/kvartiry/1-k_kvartira_35_m_49_...</td>\n",
              "      <td>37000</td>\n",
              "      <td>Войковская</td>\n",
              "      <td>800.0</td>\n",
              "    </tr>\n",
              "    <tr>\n",
              "      <th>34</th>\n",
              "      <td>3-к квартира, 110 м², 8/22 эт.</td>\n",
              "      <td>avito.ru/moskva/kvartiry/3-k_kvartira_110_m_82...</td>\n",
              "      <td>110000</td>\n",
              "      <td>Кунцевская</td>\n",
              "      <td>1200.0</td>\n",
              "    </tr>\n",
              "    <tr>\n",
              "      <th>35</th>\n",
              "      <td>1-к квартира, 35 м², 3/5 эт.</td>\n",
              "      <td>avito.ru/moskva/kvartiry/1-k_kvartira_35_m_35_...</td>\n",
              "      <td>1000</td>\n",
              "      <td>Преображенская площадь</td>\n",
              "      <td>300.0</td>\n",
              "    </tr>\n",
              "    <tr>\n",
              "      <th>36</th>\n",
              "      <td>Студия, 30 м², 8/16 эт.</td>\n",
              "      <td>avito.ru/moskva/kvartiry/studiya_30_m_816_et._...</td>\n",
              "      <td>23000</td>\n",
              "      <td>Некрасовка</td>\n",
              "      <td>2300.0</td>\n",
              "    </tr>\n",
              "    <tr>\n",
              "      <th>37</th>\n",
              "      <td>2-к квартира, 45.5 м², 5/5 эт.</td>\n",
              "      <td>avito.ru/moskva/kvartiry/2-k_kvartira_45.5_m_5...</td>\n",
              "      <td>13527800</td>\n",
              "      <td>Первомайская</td>\n",
              "      <td>900.0</td>\n",
              "    </tr>\n",
              "    <tr>\n",
              "      <th>38</th>\n",
              "      <td>1-к квартира, 36 м², 6/8 эт.</td>\n",
              "      <td>avito.ru/moskva/kvartiry/1-k_kvartira_36_m_68_...</td>\n",
              "      <td>1700</td>\n",
              "      <td>Цветной бульвар</td>\n",
              "      <td>200.0</td>\n",
              "    </tr>\n",
              "    <tr>\n",
              "      <th>39</th>\n",
              "      <td>1-к квартира, 33 м², 4/9 эт.</td>\n",
              "      <td>avito.ru/moskva/kvartiry/1-k_kvartira_33_m_49_...</td>\n",
              "      <td>2000</td>\n",
              "      <td>Филевский парк</td>\n",
              "      <td>600.0</td>\n",
              "    </tr>\n",
              "    <tr>\n",
              "      <th>40</th>\n",
              "      <td>1-к квартира, 38 м², 7/17 эт.</td>\n",
              "      <td>avito.ru/moskva/kvartiry/1-k_kvartira_38_m_717...</td>\n",
              "      <td>1300</td>\n",
              "      <td>Алма-Атинская</td>\n",
              "      <td>800.0</td>\n",
              "    </tr>\n",
              "    <tr>\n",
              "      <th>41</th>\n",
              "      <td>2-к квартира, 78 м², 5/7 эт.</td>\n",
              "      <td>avito.ru/moskva/kvartiry/2-k_kvartira_78_m_57_...</td>\n",
              "      <td>27893340</td>\n",
              "      <td>Улица 1905 года</td>\n",
              "      <td>900.0</td>\n",
              "    </tr>\n",
              "    <tr>\n",
              "      <th>42</th>\n",
              "      <td>3-к квартира, 70 м², 4/5 эт.</td>\n",
              "      <td>avito.ru/moskva/kvartiry/3-k_kvartira_70_m_45_...</td>\n",
              "      <td>75000</td>\n",
              "      <td>Смоленская</td>\n",
              "      <td>300.0</td>\n",
              "    </tr>\n",
              "    <tr>\n",
              "      <th>43</th>\n",
              "      <td>2-к квартира, 48 м², 3/5 эт.</td>\n",
              "      <td>avito.ru/moskva/kvartiry/2-k_kvartira_48_m_35_...</td>\n",
              "      <td>40000</td>\n",
              "      <td>Кунцевская</td>\n",
              "      <td>1700.0</td>\n",
              "    </tr>\n",
              "    <tr>\n",
              "      <th>44</th>\n",
              "      <td>2-к квартира, 54.7 м², 12/19 эт.</td>\n",
              "      <td>avito.ru/moskva/kvartiry/2-k_kvartira_54.7_m_1...</td>\n",
              "      <td>40500</td>\n",
              "      <td>Беломорская</td>\n",
              "      <td>600.0</td>\n",
              "    </tr>\n",
              "    <tr>\n",
              "      <th>45</th>\n",
              "      <td>2-к квартира, 46.1 м², 9/25 эт.</td>\n",
              "      <td>avito.ru/moskva/kvartiry/2-k_kvartira_46.1_m_9...</td>\n",
              "      <td>46500</td>\n",
              "      <td>Говорово</td>\n",
              "      <td>300.0</td>\n",
              "    </tr>\n",
              "    <tr>\n",
              "      <th>46</th>\n",
              "      <td>3-к квартира, 77 м², 12/17 эт.</td>\n",
              "      <td>avito.ru/moskva/kvartiry/3-k_kvartira_77_m_121...</td>\n",
              "      <td>67000</td>\n",
              "      <td>Беляево</td>\n",
              "      <td>600.0</td>\n",
              "    </tr>\n",
              "    <tr>\n",
              "      <th>47</th>\n",
              "      <td>6-к квартира, 478 м², 7/7 эт.</td>\n",
              "      <td>avito.ru/moskva/kvartiry/6-k_kvartira_478_m_77...</td>\n",
              "      <td>1061163989</td>\n",
              "      <td>Спортивная</td>\n",
              "      <td>500.0</td>\n",
              "    </tr>\n",
              "    <tr>\n",
              "      <th>48</th>\n",
              "      <td>2-к квартира, 49.5 м², 21/36 эт.</td>\n",
              "      <td>avito.ru/moskva/kvartiry/2-k_kvartira_49.5_m_2...</td>\n",
              "      <td>109200</td>\n",
              "      <td>Шелепиха</td>\n",
              "      <td>1300.0</td>\n",
              "    </tr>\n",
              "    <tr>\n",
              "      <th>49</th>\n",
              "      <td>1-к квартира, 37 м², 3/4 эт.</td>\n",
              "      <td>avito.ru/moskva/kvartiry/1-k_kvartira_37_m_34_...</td>\n",
              "      <td>40000</td>\n",
              "      <td>Смоленская</td>\n",
              "      <td>600.0</td>\n",
              "    </tr>\n",
              "  </tbody>\n",
              "</table>\n",
              "</div>"
            ],
            "text/plain": [
              "                  Название объявления  ... Расстояние до метро (в метрах)\n",
              "0      2-к квартира, 33.1 м², 4/8 эт.  ...                          500.0\n",
              "1      2-к квартира, 60 м², 20/25 эт.  ...                         1200.0\n",
              "2            Студия, 12.1 м², 1/9 эт.  ...                          500.0\n",
              "3       1-к квартира, 42 м², 9/20 эт.  ...                         1000.0\n",
              "4       1-к квартира, 34 м², 4/12 эт.  ...                            NaN\n",
              "5      2-к квартира, 76 м², 11/22 эт.  ...                          600.0\n",
              "6        1-к квартира, 38 м², 3/8 эт.  ...                          500.0\n",
              "7           Студия, 24.3 м², 1/12 эт.  ...                          300.0\n",
              "8        1-к квартира, 35 м², 2/5 эт.  ...                          900.0\n",
              "9     6-к квартира, 251.5 м², 3/3 эт.  ...                          800.0\n",
              "10       2-к квартира, 38 м², 5/9 эт.  ...                         1600.0\n",
              "11       1-к квартира, 40 м², 7/9 эт.  ...                          100.0\n",
              "12      1-к квартира, 43 м², 7/12 эт.  ...                          400.0\n",
              "13  5-к квартира, 141.9 м², 19/22 эт.  ...                          500.0\n",
              "14     3-к квартира, 56.5 м², 3/9 эт.  ...                          400.0\n",
              "15       2-к квартира, 60 м², 4/9 эт.  ...                          200.0\n",
              "16       2-к квартира, 40 м², 6/9 эт.  ...                          900.0\n",
              "17       1-к квартира, 42 м², 5/5 эт.  ...                          500.0\n",
              "18    2-к квартира, 47.2 м², 7/17 эт.  ...                         2300.0\n",
              "19   1-к квартира, 19.9 м², 10/10 эт.  ...                         1200.0\n",
              "20    1-к квартира, 35.9 м², 1/33 эт.  ...                         1700.0\n",
              "21     2-к квартира, 44.7 м², 1/5 эт.  ...                          700.0\n",
              "22    2-к квартира, 59.4 м², 4/17 эт.  ...                          900.0\n",
              "23     1-к квартира, 32.7 м², 2/9 эт.  ...                          600.0\n",
              "24    3-к квартира, 87.8 м², 7/17 эт.  ...                          500.0\n",
              "25    2-к квартира, 126 м², 44/60 эт.  ...                          200.0\n",
              "26   1-к квартира, 25.9 м², 16/25 эт.  ...                          800.0\n",
              "27   3-к квартира, 62.6 м², 21/23 эт.  ...                          600.0\n",
              "28   2-к квартира, 39.8 м², 10/17 эт.  ...                          500.0\n",
              "29       1-к квартира, 44 м², 8/9 эт.  ...                          800.0\n",
              "30       2-к квартира, 65 м², 6/9 эт.  ...                          400.0\n",
              "31      1-к квартира, 41 м², 6/17 эт.  ...                         1600.0\n",
              "32       1-к квартира, 45 м², 4/7 эт.  ...                          400.0\n",
              "33       1-к квартира, 35 м², 4/9 эт.  ...                          800.0\n",
              "34     3-к квартира, 110 м², 8/22 эт.  ...                         1200.0\n",
              "35       1-к квартира, 35 м², 3/5 эт.  ...                          300.0\n",
              "36            Студия, 30 м², 8/16 эт.  ...                         2300.0\n",
              "37     2-к квартира, 45.5 м², 5/5 эт.  ...                          900.0\n",
              "38       1-к квартира, 36 м², 6/8 эт.  ...                          200.0\n",
              "39       1-к квартира, 33 м², 4/9 эт.  ...                          600.0\n",
              "40      1-к квартира, 38 м², 7/17 эт.  ...                          800.0\n",
              "41       2-к квартира, 78 м², 5/7 эт.  ...                          900.0\n",
              "42       3-к квартира, 70 м², 4/5 эт.  ...                          300.0\n",
              "43       2-к квартира, 48 м², 3/5 эт.  ...                         1700.0\n",
              "44   2-к квартира, 54.7 м², 12/19 эт.  ...                          600.0\n",
              "45    2-к квартира, 46.1 м², 9/25 эт.  ...                          300.0\n",
              "46     3-к квартира, 77 м², 12/17 эт.  ...                          600.0\n",
              "47      6-к квартира, 478 м², 7/7 эт.  ...                          500.0\n",
              "48   2-к квартира, 49.5 м², 21/36 эт.  ...                         1300.0\n",
              "49       1-к квартира, 37 м², 3/4 эт.  ...                          600.0\n",
              "\n",
              "[50 rows x 5 columns]"
            ]
          },
          "metadata": {
            "tags": []
          },
          "execution_count": 305
        }
      ]
    },
    {
      "cell_type": "code",
      "metadata": {
        "id": "AuuhRe2pt1-0",
        "colab_type": "code",
        "outputId": "7494c689-3f8a-4267-c827-745179073ea7",
        "colab": {
          "base_uri": "https://localhost:8080/",
          "height": 1000
        }
      },
      "source": [
        "parse_page('щенок', 2)"
      ],
      "execution_count": 0,
      "outputs": [
        {
          "output_type": "execute_result",
          "data": {
            "text/html": [
              "<div>\n",
              "<style scoped>\n",
              "    .dataframe tbody tr th:only-of-type {\n",
              "        vertical-align: middle;\n",
              "    }\n",
              "\n",
              "    .dataframe tbody tr th {\n",
              "        vertical-align: top;\n",
              "    }\n",
              "\n",
              "    .dataframe thead th {\n",
              "        text-align: right;\n",
              "    }\n",
              "</style>\n",
              "<table border=\"1\" class=\"dataframe\">\n",
              "  <thead>\n",
              "    <tr style=\"text-align: right;\">\n",
              "      <th></th>\n",
              "      <th>Название объявления</th>\n",
              "      <th>Cсылка на объявление</th>\n",
              "      <th>Цена (₽)</th>\n",
              "      <th>Метро</th>\n",
              "      <th>Расстояние до метро (в метрах)</th>\n",
              "    </tr>\n",
              "  </thead>\n",
              "  <tbody>\n",
              "    <tr>\n",
              "      <th>0</th>\n",
              "      <td>Немецкой овчарки щенки от Чемпиона Евразии</td>\n",
              "      <td>avito.ru/moskva/sobaki/nemetskoy_ovcharki_sche...</td>\n",
              "      <td>25000.0</td>\n",
              "      <td>Нижегородская</td>\n",
              "      <td>100.0</td>\n",
              "    </tr>\n",
              "    <tr>\n",
              "      <th>1</th>\n",
              "      <td>Поденко ибиценко щенки ивисская борзая</td>\n",
              "      <td>avito.ru/moskva/sobaki/podenko_ibitsenko_schen...</td>\n",
              "      <td>60000.0</td>\n",
              "      <td>Кунцевская</td>\n",
              "      <td>400.0</td>\n",
              "    </tr>\n",
              "    <tr>\n",
              "      <th>2</th>\n",
              "      <td>Дрессированные подрощены щенки малинуа</td>\n",
              "      <td>avito.ru/moskva/sobaki/dressirovannye_podrosch...</td>\n",
              "      <td>NaN</td>\n",
              "      <td>Арбатская</td>\n",
              "      <td>200.0</td>\n",
              "    </tr>\n",
              "    <tr>\n",
              "      <th>3</th>\n",
              "      <td>Щенки Бордер Колли</td>\n",
              "      <td>avito.ru/moskva/sobaki/schenki_border_kolli_18...</td>\n",
              "      <td>60000.0</td>\n",
              "      <td>Юго-Западная</td>\n",
              "      <td>NaN</td>\n",
              "    </tr>\n",
              "    <tr>\n",
              "      <th>4</th>\n",
              "      <td>Красивые щенки Бигль</td>\n",
              "      <td>avito.ru/moskva/sobaki/krasivye_schenki_bigl_1...</td>\n",
              "      <td>16000.0</td>\n",
              "      <td>Ясенево</td>\n",
              "      <td>900.0</td>\n",
              "    </tr>\n",
              "    <tr>\n",
              "      <th>5</th>\n",
              "      <td>Щенок №14 ищем малышке дом</td>\n",
              "      <td>avito.ru/moskva/sobaki/schenok_14_ischem_malys...</td>\n",
              "      <td>0.0</td>\n",
              "      <td>Теплый стан</td>\n",
              "      <td>NaN</td>\n",
              "    </tr>\n",
              "    <tr>\n",
              "      <th>6</th>\n",
              "      <td>Корги Пемброк и Кардиганы Щенки</td>\n",
              "      <td>avito.ru/moskva/sobaki/korgi_pembrok_i_kardiga...</td>\n",
              "      <td>NaN</td>\n",
              "      <td>Теплый стан</td>\n",
              "      <td>NaN</td>\n",
              "    </tr>\n",
              "    <tr>\n",
              "      <th>7</th>\n",
              "      <td>Щенки чау чау</td>\n",
              "      <td>avito.ru/moskva/sobaki/schenki_chau_chau_19033...</td>\n",
              "      <td>12000.0</td>\n",
              "      <td>Савеловская</td>\n",
              "      <td>600.0</td>\n",
              "    </tr>\n",
              "    <tr>\n",
              "      <th>8</th>\n",
              "      <td>Щенок 8 месяцев</td>\n",
              "      <td>avito.ru/moskva/sobaki/schenok_8_mesyatsev_189...</td>\n",
              "      <td>500.0</td>\n",
              "      <td>Щелковская</td>\n",
              "      <td>100.0</td>\n",
              "    </tr>\n",
              "    <tr>\n",
              "      <th>9</th>\n",
              "      <td>Шикарный щенок в добрые руки 60см в холке</td>\n",
              "      <td>avito.ru/moskva/sobaki/shikarnyy_schenok_v_dob...</td>\n",
              "      <td>500.0</td>\n",
              "      <td>Щелковская</td>\n",
              "      <td>1200.0</td>\n",
              "    </tr>\n",
              "    <tr>\n",
              "      <th>10</th>\n",
              "      <td>Щенки лабладора</td>\n",
              "      <td>avito.ru/moskva/sobaki/schenki_labladora_19028...</td>\n",
              "      <td>12000.0</td>\n",
              "      <td>Баррикадная</td>\n",
              "      <td>300.0</td>\n",
              "    </tr>\n",
              "    <tr>\n",
              "      <th>11</th>\n",
              "      <td>Щенки Голубого Веймаранера</td>\n",
              "      <td>avito.ru/moskva/sobaki/schenki_golubogo_veymar...</td>\n",
              "      <td>NaN</td>\n",
              "      <td>Митино</td>\n",
              "      <td>300.0</td>\n",
              "    </tr>\n",
              "    <tr>\n",
              "      <th>12</th>\n",
              "      <td>Щенячий патруль, щенки на машинках</td>\n",
              "      <td>avito.ru/moskva/tovary_dlya_detey_i_igrushki/s...</td>\n",
              "      <td>280.0</td>\n",
              "      <td>Молодежная</td>\n",
              "      <td>1200.0</td>\n",
              "    </tr>\n",
              "    <tr>\n",
              "      <th>13</th>\n",
              "      <td>Щенок малого пуделя</td>\n",
              "      <td>avito.ru/moskva/sobaki/schenok_malogo_pudelya_...</td>\n",
              "      <td>45000.0</td>\n",
              "      <td>Пролетарская</td>\n",
              "      <td>500.0</td>\n",
              "    </tr>\n",
              "    <tr>\n",
              "      <th>14</th>\n",
              "      <td>Продажа щенков алабая, среднеазиатской овчарки</td>\n",
              "      <td>avito.ru/moskva/sobaki/prodazha_schenkov_alaba...</td>\n",
              "      <td>30000.0</td>\n",
              "      <td>Митино</td>\n",
              "      <td>100.0</td>\n",
              "    </tr>\n",
              "    <tr>\n",
              "      <th>15</th>\n",
              "      <td>Плюшевый щенок - Лохматый Ангел в поисках дома</td>\n",
              "      <td>avito.ru/moskva/sobaki/plyushevyy_schenok_-_lo...</td>\n",
              "      <td>10.0</td>\n",
              "      <td>Братиславская</td>\n",
              "      <td>500.0</td>\n",
              "    </tr>\n",
              "    <tr>\n",
              "      <th>16</th>\n",
              "      <td>Щенки немецкой овчарки длинношерстные</td>\n",
              "      <td>avito.ru/moskva/sobaki/schenki_nemetskoy_ovcha...</td>\n",
              "      <td>7000.0</td>\n",
              "      <td>Тургеневская</td>\n",
              "      <td>300.0</td>\n",
              "    </tr>\n",
              "    <tr>\n",
              "      <th>17</th>\n",
              "      <td>Щенки длинношерстного той терьера</td>\n",
              "      <td>avito.ru/moskva/sobaki/schenki_dlinnosherstnog...</td>\n",
              "      <td>6500.0</td>\n",
              "      <td>Площадь революции</td>\n",
              "      <td>400.0</td>\n",
              "    </tr>\n",
              "    <tr>\n",
              "      <th>18</th>\n",
              "      <td>Шикарные Щенки Чихуахуа ждут родителей</td>\n",
              "      <td>avito.ru/moskva/sobaki/shikarnye_schenki_chihu...</td>\n",
              "      <td>25000.0</td>\n",
              "      <td>Пражская</td>\n",
              "      <td>100.0</td>\n",
              "    </tr>\n",
              "    <tr>\n",
              "      <th>19</th>\n",
              "      <td>Щенки немецкой овчарки</td>\n",
              "      <td>avito.ru/moskva/sobaki/schenki_nemetskoy_ovcha...</td>\n",
              "      <td>10000.0</td>\n",
              "      <td>Кантемировская</td>\n",
              "      <td>1400.0</td>\n",
              "    </tr>\n",
              "    <tr>\n",
              "      <th>20</th>\n",
              "      <td>Щенок среднеазиатской овчарки (алабай)</td>\n",
              "      <td>avito.ru/moskva/sobaki/schenok_sredneaziatskoy...</td>\n",
              "      <td>20000.0</td>\n",
              "      <td>Площадь революции</td>\n",
              "      <td>400.0</td>\n",
              "    </tr>\n",
              "    <tr>\n",
              "      <th>21</th>\n",
              "      <td>Щенки немецкой овчарки</td>\n",
              "      <td>avito.ru/moskva/sobaki/schenki_nemetskoy_ovcha...</td>\n",
              "      <td>25000.0</td>\n",
              "      <td>Аннино</td>\n",
              "      <td>100.0</td>\n",
              "    </tr>\n",
              "    <tr>\n",
              "      <th>22</th>\n",
              "      <td>Шикарные щенки лабрадора</td>\n",
              "      <td>avito.ru/moskva/sobaki/shikarnye_schenki_labra...</td>\n",
              "      <td>NaN</td>\n",
              "      <td>Кузьминки</td>\n",
              "      <td>1700.0</td>\n",
              "    </tr>\n",
              "    <tr>\n",
              "      <th>23</th>\n",
              "      <td>Продаются щенки немецкой овчарки</td>\n",
              "      <td>avito.ru/moskva/sobaki/prodayutsya_schenki_nem...</td>\n",
              "      <td>50000.0</td>\n",
              "      <td>Улица академика Янгеля</td>\n",
              "      <td>400.0</td>\n",
              "    </tr>\n",
              "    <tr>\n",
              "      <th>24</th>\n",
              "      <td>Левретка, щенки</td>\n",
              "      <td>avito.ru/moskva/sobaki/levretka_schenki_190398...</td>\n",
              "      <td>60000.0</td>\n",
              "      <td>Смоленская</td>\n",
              "      <td>NaN</td>\n",
              "    </tr>\n",
              "    <tr>\n",
              "      <th>25</th>\n",
              "      <td>Ёлочный шар « Щенок с шариком»</td>\n",
              "      <td>avito.ru/moskva/mebel_i_interer/elochnyy_shar_...</td>\n",
              "      <td>550.0</td>\n",
              "      <td>Пушкинская</td>\n",
              "      <td>NaN</td>\n",
              "    </tr>\n",
              "    <tr>\n",
              "      <th>26</th>\n",
              "      <td>Щенок для фотосессии</td>\n",
              "      <td>avito.ru/moskva/predlozheniya_uslug/schenok_dl...</td>\n",
              "      <td>5000.0</td>\n",
              "      <td>Владыкино</td>\n",
              "      <td>1400.0</td>\n",
              "    </tr>\n",
              "    <tr>\n",
              "      <th>27</th>\n",
              "      <td>Щенок</td>\n",
              "      <td>avito.ru/moskva/sobaki/schenok_1897334186</td>\n",
              "      <td>0.0</td>\n",
              "      <td>Улица Скобелевская</td>\n",
              "      <td>900.0</td>\n",
              "    </tr>\n",
              "    <tr>\n",
              "      <th>28</th>\n",
              "      <td>Померанский шпиц Щенки</td>\n",
              "      <td>avito.ru/moskva/sobaki/pomeranskiy_shpits_sche...</td>\n",
              "      <td>17000.0</td>\n",
              "      <td>Комсомольская</td>\n",
              "      <td>1100.0</td>\n",
              "    </tr>\n",
              "    <tr>\n",
              "      <th>29</th>\n",
              "      <td>Племенной питомник приглашает за щенками</td>\n",
              "      <td>avito.ru/moskva/sobaki/plemennoy_pitomnik_prig...</td>\n",
              "      <td>40000.0</td>\n",
              "      <td>Выхино</td>\n",
              "      <td>500.0</td>\n",
              "    </tr>\n",
              "    <tr>\n",
              "      <th>30</th>\n",
              "      <td>Щенки енота полоскуна ручные енотики</td>\n",
              "      <td>avito.ru/moskva/drugie_zhivotnye/schenki_enota...</td>\n",
              "      <td>11000.0</td>\n",
              "      <td>Охотный ряд</td>\n",
              "      <td>200.0</td>\n",
              "    </tr>\n",
              "    <tr>\n",
              "      <th>31</th>\n",
              "      <td>Прекрасные щенки Немецкой овчарки</td>\n",
              "      <td>avito.ru/moskva/sobaki/prekrasnye_schenki_neme...</td>\n",
              "      <td>30000.0</td>\n",
              "      <td>Новокосино</td>\n",
              "      <td>NaN</td>\n",
              "    </tr>\n",
              "    <tr>\n",
              "      <th>32</th>\n",
              "      <td>Щенок лабрадора</td>\n",
              "      <td>avito.ru/moskva/sobaki/schenok_labradora_19148...</td>\n",
              "      <td>35000.0</td>\n",
              "      <td>Щелковская</td>\n",
              "      <td>100.0</td>\n",
              "    </tr>\n",
              "    <tr>\n",
              "      <th>33</th>\n",
              "      <td>Щенки Кане Корсо</td>\n",
              "      <td>avito.ru/moskva/sobaki/schenki_kane_korso_1922...</td>\n",
              "      <td>50000.0</td>\n",
              "      <td>Митино</td>\n",
              "      <td>200.0</td>\n",
              "    </tr>\n",
              "    <tr>\n",
              "      <th>34</th>\n",
              "      <td>Щенки Питбуля</td>\n",
              "      <td>avito.ru/moskva/sobaki/schenki_pitbulya_183881...</td>\n",
              "      <td>30000.0</td>\n",
              "      <td>Таганская</td>\n",
              "      <td>100.0</td>\n",
              "    </tr>\n",
              "    <tr>\n",
              "      <th>35</th>\n",
              "      <td>Кавалер кинг чарлез спаниель щенки</td>\n",
              "      <td>avito.ru/moskva/sobaki/kavaler_king_charlez_sp...</td>\n",
              "      <td>50.0</td>\n",
              "      <td>Электрозаводская</td>\n",
              "      <td>NaN</td>\n",
              "    </tr>\n",
              "    <tr>\n",
              "      <th>36</th>\n",
              "      <td>Щенки</td>\n",
              "      <td>avito.ru/moskva/sobaki/schenki_1908825084</td>\n",
              "      <td>95000.0</td>\n",
              "      <td>Новокосино</td>\n",
              "      <td>NaN</td>\n",
              "    </tr>\n",
              "    <tr>\n",
              "      <th>37</th>\n",
              "      <td>Щенки из приюта в дар</td>\n",
              "      <td>avito.ru/moskva/sobaki/schenki_iz_priyuta_v_da...</td>\n",
              "      <td>10.0</td>\n",
              "      <td>Бабушкинская</td>\n",
              "      <td>2300.0</td>\n",
              "    </tr>\n",
              "    <tr>\n",
              "      <th>38</th>\n",
              "      <td>Щенки немецкой овчарки длинношерстные</td>\n",
              "      <td>avito.ru/moskva/sobaki/schenki_nemetskoy_ovcha...</td>\n",
              "      <td>30000.0</td>\n",
              "      <td>Боровское шоссе</td>\n",
              "      <td>1300.0</td>\n",
              "    </tr>\n",
              "    <tr>\n",
              "      <th>39</th>\n",
              "      <td>Клеймение щенков (тату)</td>\n",
              "      <td>avito.ru/moskva/predlozheniya_uslug/kleymenie_...</td>\n",
              "      <td>300.0</td>\n",
              "      <td>Селигерская</td>\n",
              "      <td>300.0</td>\n",
              "    </tr>\n",
              "    <tr>\n",
              "      <th>40</th>\n",
              "      <td>Манеж для щенков купить</td>\n",
              "      <td>avito.ru/moskva/tovary_dlya_zhivotnyh/manezh_d...</td>\n",
              "      <td>1990.0</td>\n",
              "      <td>Чистые пруды</td>\n",
              "      <td>600.0</td>\n",
              "    </tr>\n",
              "    <tr>\n",
              "      <th>41</th>\n",
              "      <td>Щенки высокого класса. Документы. Сертификаты</td>\n",
              "      <td>avito.ru/moskva/sobaki/schenki_vysokogo_klassa...</td>\n",
              "      <td>NaN</td>\n",
              "      <td>Котельники</td>\n",
              "      <td>2700.0</td>\n",
              "    </tr>\n",
              "    <tr>\n",
              "      <th>42</th>\n",
              "      <td>Бигль щенки</td>\n",
              "      <td>avito.ru/moskva/sobaki/bigl_schenki_1937662733</td>\n",
              "      <td>30000.0</td>\n",
              "      <td>Медведково</td>\n",
              "      <td>NaN</td>\n",
              "    </tr>\n",
              "    <tr>\n",
              "      <th>43</th>\n",
              "      <td>Мягкая игрушка щенок спаниеля Aurora</td>\n",
              "      <td>avito.ru/moskva/tovary_dlya_detey_i_igrushki/m...</td>\n",
              "      <td>300.0</td>\n",
              "      <td>Беломорская</td>\n",
              "      <td>NaN</td>\n",
              "    </tr>\n",
              "    <tr>\n",
              "      <th>44</th>\n",
              "      <td>Интерактивный щенок</td>\n",
              "      <td>avito.ru/moskva/tovary_dlya_detey_i_igrushki/i...</td>\n",
              "      <td>500.0</td>\n",
              "      <td>Домодедовская</td>\n",
              "      <td>600.0</td>\n",
              "    </tr>\n",
              "    <tr>\n",
              "      <th>45</th>\n",
              "      <td>Щенок шпица</td>\n",
              "      <td>avito.ru/moskva/sobaki/schenok_shpitsa_1913756472</td>\n",
              "      <td>20000.0</td>\n",
              "      <td>Сходненская</td>\n",
              "      <td>600.0</td>\n",
              "    </tr>\n",
              "    <tr>\n",
              "      <th>46</th>\n",
              "      <td>Жемчужный скат щенки (potamotrygon Jaibuti )</td>\n",
              "      <td>avito.ru/moskva/akvarium/zhemchuzhnyy_skat_sch...</td>\n",
              "      <td>NaN</td>\n",
              "      <td>Молодежная</td>\n",
              "      <td>NaN</td>\n",
              "    </tr>\n",
              "    <tr>\n",
              "      <th>47</th>\n",
              "      <td>Померанского и малого миниатюрного шпица щенки</td>\n",
              "      <td>avito.ru/moskva/sobaki/pomeranskogo_i_malogo_m...</td>\n",
              "      <td>25000.0</td>\n",
              "      <td>Сокол</td>\n",
              "      <td>NaN</td>\n",
              "    </tr>\n",
              "    <tr>\n",
              "      <th>48</th>\n",
              "      <td>Лабрадор. Щенки чёрного и палевого окраса 6 ме...</td>\n",
              "      <td>avito.ru/moskva/sobaki/labrador._schenki_chern...</td>\n",
              "      <td>NaN</td>\n",
              "      <td>Бабушкинская</td>\n",
              "      <td>NaN</td>\n",
              "    </tr>\n",
              "    <tr>\n",
              "      <th>49</th>\n",
              "      <td>Продам Йоркширский терьера щенка</td>\n",
              "      <td>avito.ru/moskva/sobaki/prodam_yorkshirskiy_ter...</td>\n",
              "      <td>12000.0</td>\n",
              "      <td>Севастопольская</td>\n",
              "      <td>400.0</td>\n",
              "    </tr>\n",
              "    <tr>\n",
              "      <th>50</th>\n",
              "      <td>Шпиц щенки</td>\n",
              "      <td>avito.ru/moskva/sobaki/shpits_schenki_1943853494</td>\n",
              "      <td>NaN</td>\n",
              "      <td>Теплый стан</td>\n",
              "      <td>1300.0</td>\n",
              "    </tr>\n",
              "  </tbody>\n",
              "</table>\n",
              "</div>"
            ],
            "text/plain": [
              "                                  Название объявления  ... Расстояние до метро (в метрах)\n",
              "0          Немецкой овчарки щенки от Чемпиона Евразии  ...                          100.0\n",
              "1              Поденко ибиценко щенки ивисская борзая  ...                          400.0\n",
              "2              Дрессированные подрощены щенки малинуа  ...                          200.0\n",
              "3                                  Щенки Бордер Колли  ...                            NaN\n",
              "4                                Красивые щенки Бигль  ...                          900.0\n",
              "5                          Щенок №14 ищем малышке дом  ...                            NaN\n",
              "6                     Корги Пемброк и Кардиганы Щенки  ...                            NaN\n",
              "7                                       Щенки чау чау  ...                          600.0\n",
              "8                                     Щенок 8 месяцев  ...                          100.0\n",
              "9           Шикарный щенок в добрые руки 60см в холке  ...                         1200.0\n",
              "10                                    Щенки лабладора  ...                          300.0\n",
              "11                         Щенки Голубого Веймаранера  ...                          300.0\n",
              "12                 Щенячий патруль, щенки на машинках  ...                         1200.0\n",
              "13                                Щенок малого пуделя  ...                          500.0\n",
              "14     Продажа щенков алабая, среднеазиатской овчарки  ...                          100.0\n",
              "15     Плюшевый щенок - Лохматый Ангел в поисках дома  ...                          500.0\n",
              "16              Щенки немецкой овчарки длинношерстные  ...                          300.0\n",
              "17                  Щенки длинношерстного той терьера  ...                          400.0\n",
              "18             Шикарные Щенки Чихуахуа ждут родителей  ...                          100.0\n",
              "19                             Щенки немецкой овчарки  ...                         1400.0\n",
              "20             Щенок среднеазиатской овчарки (алабай)  ...                          400.0\n",
              "21                             Щенки немецкой овчарки  ...                          100.0\n",
              "22                           Шикарные щенки лабрадора  ...                         1700.0\n",
              "23                   Продаются щенки немецкой овчарки  ...                          400.0\n",
              "24                                    Левретка, щенки  ...                            NaN\n",
              "25                     Ёлочный шар « Щенок с шариком»  ...                            NaN\n",
              "26                               Щенок для фотосессии  ...                         1400.0\n",
              "27                                              Щенок  ...                          900.0\n",
              "28                             Померанский шпиц Щенки  ...                         1100.0\n",
              "29           Племенной питомник приглашает за щенками  ...                          500.0\n",
              "30               Щенки енота полоскуна ручные енотики  ...                          200.0\n",
              "31                  Прекрасные щенки Немецкой овчарки  ...                            NaN\n",
              "32                                    Щенок лабрадора  ...                          100.0\n",
              "33                                   Щенки Кане Корсо  ...                          200.0\n",
              "34                                      Щенки Питбуля  ...                          100.0\n",
              "35                 Кавалер кинг чарлез спаниель щенки  ...                            NaN\n",
              "36                                              Щенки  ...                            NaN\n",
              "37                              Щенки из приюта в дар  ...                         2300.0\n",
              "38              Щенки немецкой овчарки длинношерстные  ...                         1300.0\n",
              "39                            Клеймение щенков (тату)  ...                          300.0\n",
              "40                            Манеж для щенков купить  ...                          600.0\n",
              "41      Щенки высокого класса. Документы. Сертификаты  ...                         2700.0\n",
              "42                                        Бигль щенки  ...                            NaN\n",
              "43               Мягкая игрушка щенок спаниеля Aurora  ...                            NaN\n",
              "44                                Интерактивный щенок  ...                          600.0\n",
              "45                                        Щенок шпица  ...                          600.0\n",
              "46       Жемчужный скат щенки (potamotrygon Jaibuti )  ...                            NaN\n",
              "47     Померанского и малого миниатюрного шпица щенки  ...                            NaN\n",
              "48  Лабрадор. Щенки чёрного и палевого окраса 6 ме...  ...                            NaN\n",
              "49                   Продам Йоркширский терьера щенка  ...                          400.0\n",
              "50                                         Шпиц щенки  ...                         1300.0\n",
              "\n",
              "[51 rows x 5 columns]"
            ]
          },
          "metadata": {
            "tags": []
          },
          "execution_count": 306
        }
      ]
    },
    {
      "cell_type": "markdown",
      "metadata": {
        "id": "ZnlgPuCBYreH",
        "colab_type": "text"
      },
      "source": [
        "## 4. Walmart (30 баллов)"
      ]
    },
    {
      "cell_type": "markdown",
      "metadata": {
        "id": "sJcMfl6RYreH",
        "colab_type": "text"
      },
      "source": [
        "В файле *walmart.csv* нам предоставлены исторические данные о продажах магазинов Walmart, расположенных в разных регионах.\n",
        "\n",
        "Нам доступны следующие переменные:\n",
        "\n",
        "* **Date** – дата;\n",
        "* **Store** – номер магазина;\n",
        "* **Dept** – номер отдела;\n",
        "* **Weekly_Sales** – объём продаж в данную неделю в данном отделе\n",
        "* **Type** – тип магазина;\n",
        "* **Size** – размер магазина;\n",
        "* **IsHoliday** – является ли неделя праздничной;\n",
        "* **Temperature** – средняя температура в регионе в градусах по Фаренгейту;\n",
        "* **Fuel_Price** – стоимость топлива в регионе;\n",
        "* **MarkDown1-5** – данные, связанные с рекламными уценками, которые запускает Walmart. Данные уценки доступны только после ноября 2011 года и доступны не для всех магазинов. Данные анонимизированы. Непонятно на какие именно товары производилась уценка и в каких количествах. Компании часто анонимизируют данные, когда выкладывают их в открытый доступ.\n",
        "* **CPI** – индекс потребительских цен;\n",
        "* **Unemployment** – уровень безработицы.\n",
        "\n",
        "\n",
        "Вам нужно выполнить следующие задания:\n",
        "1. Загрузить файл с данными. Отобразить первые и последние 5 наблюдений. Узнать сколько наблюдений и переменных есть в вашем наборе данных. Какой тип(формат) имеет каждая переменная? Привести переменную Date к формату даты.\n",
        "2. Разобраться с пропущенными значениями:\n",
        "    * вывести сколько пропущенных значений в процентах есть в каждой переменной;\n",
        "    * удалить переменные, которые имеют более 60% пропущенных значений.\n",
        "3. Сколько магазинов и отделов присутствует в выборке, за какой период времени у нас имеются данные? \n",
        "4. Посмотреть динамику продаж в магазинах walmart в целом. Для этого можно построить график, где по оси X будет дата, а по оси Y продажи всей сети Walmart.\n",
        "5. Найдите и нарисуйте матрицу корреляции для числовых показателей.\n",
        "6. Найдите топ-5 самых больших магазинов по суммарным продажам за все время и отобразите динамику их продаж на одном графике.\n",
        "7. Найдите топ-10 самых больших отделов по суммарным продажам за 2011 год среди магазинов с типом А и нарисуйте столбчатую диаграмму для них"
      ]
    },
    {
      "cell_type": "code",
      "metadata": {
        "id": "nh3GwulwYreI",
        "colab_type": "code",
        "colab": {}
      },
      "source": [
        "import pandas as pd\n",
        "import matplotlib.pyplot as plt\n",
        "import seaborn as sns\n",
        "!pip install plotly_express\n",
        "import plotly_express as px\n",
        "!pip install mplcyberpunk\n",
        "import mplcyberpunk"
      ],
      "execution_count": 0,
      "outputs": []
    },
    {
      "cell_type": "code",
      "metadata": {
        "id": "sG_PPfdVEXOA",
        "colab_type": "code",
        "colab": {}
      },
      "source": [
        "from google.colab import drive\n",
        "drive.mount('/content/drive')"
      ],
      "execution_count": 0,
      "outputs": []
    },
    {
      "cell_type": "code",
      "metadata": {
        "id": "QtFLUOnkB0Hg",
        "colab_type": "code",
        "colab": {}
      },
      "source": [
        "df = pd.read_csv('/content/drive/My Drive/walmart.csv')"
      ],
      "execution_count": 0,
      "outputs": []
    },
    {
      "cell_type": "code",
      "metadata": {
        "id": "jJdMvWkxB0Qb",
        "colab_type": "code",
        "outputId": "37111a91-1636-498c-bbb5-034c73f82773",
        "colab": {
          "base_uri": "https://localhost:8080/",
          "height": 309
        }
      },
      "source": [
        "df.head()"
      ],
      "execution_count": 0,
      "outputs": [
        {
          "output_type": "execute_result",
          "data": {
            "text/html": [
              "<div>\n",
              "<style scoped>\n",
              "    .dataframe tbody tr th:only-of-type {\n",
              "        vertical-align: middle;\n",
              "    }\n",
              "\n",
              "    .dataframe tbody tr th {\n",
              "        vertical-align: top;\n",
              "    }\n",
              "\n",
              "    .dataframe thead th {\n",
              "        text-align: right;\n",
              "    }\n",
              "</style>\n",
              "<table border=\"1\" class=\"dataframe\">\n",
              "  <thead>\n",
              "    <tr style=\"text-align: right;\">\n",
              "      <th></th>\n",
              "      <th>Store</th>\n",
              "      <th>Date</th>\n",
              "      <th>Dept</th>\n",
              "      <th>Weekly_Sales</th>\n",
              "      <th>IsHoliday</th>\n",
              "      <th>Type</th>\n",
              "      <th>Size</th>\n",
              "      <th>Temperature</th>\n",
              "      <th>Fuel_Price</th>\n",
              "      <th>MarkDown1</th>\n",
              "      <th>MarkDown2</th>\n",
              "      <th>MarkDown3</th>\n",
              "      <th>MarkDown4</th>\n",
              "      <th>MarkDown5</th>\n",
              "      <th>CPI</th>\n",
              "      <th>Unemployment</th>\n",
              "    </tr>\n",
              "  </thead>\n",
              "  <tbody>\n",
              "    <tr>\n",
              "      <th>0</th>\n",
              "      <td>1</td>\n",
              "      <td>2010-02-05</td>\n",
              "      <td>1</td>\n",
              "      <td>24924.50</td>\n",
              "      <td>False</td>\n",
              "      <td>A</td>\n",
              "      <td>151315</td>\n",
              "      <td>42.31</td>\n",
              "      <td>2.572</td>\n",
              "      <td>NaN</td>\n",
              "      <td>NaN</td>\n",
              "      <td>NaN</td>\n",
              "      <td>NaN</td>\n",
              "      <td>NaN</td>\n",
              "      <td>211.096358</td>\n",
              "      <td>8.106</td>\n",
              "    </tr>\n",
              "    <tr>\n",
              "      <th>1</th>\n",
              "      <td>1</td>\n",
              "      <td>2010-02-12</td>\n",
              "      <td>1</td>\n",
              "      <td>46039.49</td>\n",
              "      <td>True</td>\n",
              "      <td>A</td>\n",
              "      <td>151315</td>\n",
              "      <td>38.51</td>\n",
              "      <td>2.548</td>\n",
              "      <td>NaN</td>\n",
              "      <td>NaN</td>\n",
              "      <td>NaN</td>\n",
              "      <td>NaN</td>\n",
              "      <td>NaN</td>\n",
              "      <td>211.242170</td>\n",
              "      <td>8.106</td>\n",
              "    </tr>\n",
              "    <tr>\n",
              "      <th>2</th>\n",
              "      <td>1</td>\n",
              "      <td>2010-02-19</td>\n",
              "      <td>1</td>\n",
              "      <td>41595.55</td>\n",
              "      <td>False</td>\n",
              "      <td>A</td>\n",
              "      <td>151315</td>\n",
              "      <td>39.93</td>\n",
              "      <td>2.514</td>\n",
              "      <td>NaN</td>\n",
              "      <td>NaN</td>\n",
              "      <td>NaN</td>\n",
              "      <td>NaN</td>\n",
              "      <td>NaN</td>\n",
              "      <td>211.289143</td>\n",
              "      <td>8.106</td>\n",
              "    </tr>\n",
              "    <tr>\n",
              "      <th>3</th>\n",
              "      <td>1</td>\n",
              "      <td>2010-02-26</td>\n",
              "      <td>1</td>\n",
              "      <td>19403.54</td>\n",
              "      <td>False</td>\n",
              "      <td>A</td>\n",
              "      <td>151315</td>\n",
              "      <td>46.63</td>\n",
              "      <td>2.561</td>\n",
              "      <td>NaN</td>\n",
              "      <td>NaN</td>\n",
              "      <td>NaN</td>\n",
              "      <td>NaN</td>\n",
              "      <td>NaN</td>\n",
              "      <td>211.319643</td>\n",
              "      <td>8.106</td>\n",
              "    </tr>\n",
              "    <tr>\n",
              "      <th>4</th>\n",
              "      <td>1</td>\n",
              "      <td>2010-03-05</td>\n",
              "      <td>1</td>\n",
              "      <td>21827.90</td>\n",
              "      <td>False</td>\n",
              "      <td>A</td>\n",
              "      <td>151315</td>\n",
              "      <td>46.50</td>\n",
              "      <td>2.625</td>\n",
              "      <td>NaN</td>\n",
              "      <td>NaN</td>\n",
              "      <td>NaN</td>\n",
              "      <td>NaN</td>\n",
              "      <td>NaN</td>\n",
              "      <td>211.350143</td>\n",
              "      <td>8.106</td>\n",
              "    </tr>\n",
              "  </tbody>\n",
              "</table>\n",
              "</div>"
            ],
            "text/plain": [
              "   Store        Date  Dept  ...  MarkDown5         CPI Unemployment\n",
              "0      1  2010-02-05     1  ...        NaN  211.096358        8.106\n",
              "1      1  2010-02-12     1  ...        NaN  211.242170        8.106\n",
              "2      1  2010-02-19     1  ...        NaN  211.289143        8.106\n",
              "3      1  2010-02-26     1  ...        NaN  211.319643        8.106\n",
              "4      1  2010-03-05     1  ...        NaN  211.350143        8.106\n",
              "\n",
              "[5 rows x 16 columns]"
            ]
          },
          "metadata": {
            "tags": []
          },
          "execution_count": 265
        }
      ]
    },
    {
      "cell_type": "code",
      "metadata": {
        "id": "OOq6e6spCL9c",
        "colab_type": "code",
        "outputId": "f283ed39-0caa-4cf1-b2fb-a05e726cfe04",
        "colab": {
          "base_uri": "https://localhost:8080/",
          "height": 309
        }
      },
      "source": [
        "df.tail()"
      ],
      "execution_count": 0,
      "outputs": [
        {
          "output_type": "execute_result",
          "data": {
            "text/html": [
              "<div>\n",
              "<style scoped>\n",
              "    .dataframe tbody tr th:only-of-type {\n",
              "        vertical-align: middle;\n",
              "    }\n",
              "\n",
              "    .dataframe tbody tr th {\n",
              "        vertical-align: top;\n",
              "    }\n",
              "\n",
              "    .dataframe thead th {\n",
              "        text-align: right;\n",
              "    }\n",
              "</style>\n",
              "<table border=\"1\" class=\"dataframe\">\n",
              "  <thead>\n",
              "    <tr style=\"text-align: right;\">\n",
              "      <th></th>\n",
              "      <th>Store</th>\n",
              "      <th>Date</th>\n",
              "      <th>Dept</th>\n",
              "      <th>Weekly_Sales</th>\n",
              "      <th>IsHoliday</th>\n",
              "      <th>Type</th>\n",
              "      <th>Size</th>\n",
              "      <th>Temperature</th>\n",
              "      <th>Fuel_Price</th>\n",
              "      <th>MarkDown1</th>\n",
              "      <th>MarkDown2</th>\n",
              "      <th>MarkDown3</th>\n",
              "      <th>MarkDown4</th>\n",
              "      <th>MarkDown5</th>\n",
              "      <th>CPI</th>\n",
              "      <th>Unemployment</th>\n",
              "    </tr>\n",
              "  </thead>\n",
              "  <tbody>\n",
              "    <tr>\n",
              "      <th>418234</th>\n",
              "      <td>45</td>\n",
              "      <td>2012-09-21</td>\n",
              "      <td>98</td>\n",
              "      <td>467.30</td>\n",
              "      <td>False</td>\n",
              "      <td>B</td>\n",
              "      <td>118221</td>\n",
              "      <td>65.32</td>\n",
              "      <td>4.038</td>\n",
              "      <td>8452.20</td>\n",
              "      <td>92.28</td>\n",
              "      <td>63.24</td>\n",
              "      <td>2376.38</td>\n",
              "      <td>8670.40</td>\n",
              "      <td>191.856704</td>\n",
              "      <td>8.684</td>\n",
              "    </tr>\n",
              "    <tr>\n",
              "      <th>418235</th>\n",
              "      <td>45</td>\n",
              "      <td>2012-09-28</td>\n",
              "      <td>98</td>\n",
              "      <td>508.37</td>\n",
              "      <td>False</td>\n",
              "      <td>B</td>\n",
              "      <td>118221</td>\n",
              "      <td>64.88</td>\n",
              "      <td>3.997</td>\n",
              "      <td>4556.61</td>\n",
              "      <td>20.64</td>\n",
              "      <td>1.50</td>\n",
              "      <td>1601.01</td>\n",
              "      <td>3288.25</td>\n",
              "      <td>192.013558</td>\n",
              "      <td>8.684</td>\n",
              "    </tr>\n",
              "    <tr>\n",
              "      <th>418236</th>\n",
              "      <td>45</td>\n",
              "      <td>2012-10-05</td>\n",
              "      <td>98</td>\n",
              "      <td>628.10</td>\n",
              "      <td>False</td>\n",
              "      <td>B</td>\n",
              "      <td>118221</td>\n",
              "      <td>64.89</td>\n",
              "      <td>3.985</td>\n",
              "      <td>5046.74</td>\n",
              "      <td>NaN</td>\n",
              "      <td>18.82</td>\n",
              "      <td>2253.43</td>\n",
              "      <td>2340.01</td>\n",
              "      <td>192.170412</td>\n",
              "      <td>8.667</td>\n",
              "    </tr>\n",
              "    <tr>\n",
              "      <th>418237</th>\n",
              "      <td>45</td>\n",
              "      <td>2012-10-12</td>\n",
              "      <td>98</td>\n",
              "      <td>1061.02</td>\n",
              "      <td>False</td>\n",
              "      <td>B</td>\n",
              "      <td>118221</td>\n",
              "      <td>54.47</td>\n",
              "      <td>4.000</td>\n",
              "      <td>1956.28</td>\n",
              "      <td>NaN</td>\n",
              "      <td>7.89</td>\n",
              "      <td>599.32</td>\n",
              "      <td>3990.54</td>\n",
              "      <td>192.327265</td>\n",
              "      <td>8.667</td>\n",
              "    </tr>\n",
              "    <tr>\n",
              "      <th>418238</th>\n",
              "      <td>45</td>\n",
              "      <td>2012-10-19</td>\n",
              "      <td>98</td>\n",
              "      <td>760.01</td>\n",
              "      <td>False</td>\n",
              "      <td>B</td>\n",
              "      <td>118221</td>\n",
              "      <td>56.47</td>\n",
              "      <td>3.969</td>\n",
              "      <td>2004.02</td>\n",
              "      <td>NaN</td>\n",
              "      <td>3.18</td>\n",
              "      <td>437.73</td>\n",
              "      <td>1537.49</td>\n",
              "      <td>192.330854</td>\n",
              "      <td>8.667</td>\n",
              "    </tr>\n",
              "  </tbody>\n",
              "</table>\n",
              "</div>"
            ],
            "text/plain": [
              "        Store        Date  Dept  ...  MarkDown5         CPI Unemployment\n",
              "418234     45  2012-09-21    98  ...    8670.40  191.856704        8.684\n",
              "418235     45  2012-09-28    98  ...    3288.25  192.013558        8.684\n",
              "418236     45  2012-10-05    98  ...    2340.01  192.170412        8.667\n",
              "418237     45  2012-10-12    98  ...    3990.54  192.327265        8.667\n",
              "418238     45  2012-10-19    98  ...    1537.49  192.330854        8.667\n",
              "\n",
              "[5 rows x 16 columns]"
            ]
          },
          "metadata": {
            "tags": []
          },
          "execution_count": 266
        }
      ]
    },
    {
      "cell_type": "code",
      "metadata": {
        "id": "RLBhoh5fCMAD",
        "colab_type": "code",
        "outputId": "281df8f2-b4df-47ae-a78e-d4a8b172fd38",
        "colab": {
          "base_uri": "https://localhost:8080/",
          "height": 52
        }
      },
      "source": [
        "print('Количество наблюдений:',df.shape[0])\n",
        "print('Количество переменных:',df.shape[1])"
      ],
      "execution_count": 0,
      "outputs": [
        {
          "output_type": "stream",
          "text": [
            "Количество наблюдений: 418239\n",
            "Количество переменных: 16\n"
          ],
          "name": "stdout"
        }
      ]
    },
    {
      "cell_type": "code",
      "metadata": {
        "id": "KkAXxPTTDL0q",
        "colab_type": "code",
        "outputId": "c7b89e2d-147e-4899-d7a3-b0be186dc095",
        "colab": {
          "base_uri": "https://localhost:8080/",
          "height": 312
        }
      },
      "source": [
        "df.dtypes"
      ],
      "execution_count": 0,
      "outputs": [
        {
          "output_type": "execute_result",
          "data": {
            "text/plain": [
              "Store             int64\n",
              "Date             object\n",
              "Dept              int64\n",
              "Weekly_Sales    float64\n",
              "IsHoliday          bool\n",
              "Type             object\n",
              "Size              int64\n",
              "Temperature     float64\n",
              "Fuel_Price      float64\n",
              "MarkDown1       float64\n",
              "MarkDown2       float64\n",
              "MarkDown3       float64\n",
              "MarkDown4       float64\n",
              "MarkDown5       float64\n",
              "CPI             float64\n",
              "Unemployment    float64\n",
              "dtype: object"
            ]
          },
          "metadata": {
            "tags": []
          },
          "execution_count": 268
        }
      ]
    },
    {
      "cell_type": "code",
      "metadata": {
        "id": "i0NZrRS1CMCv",
        "colab_type": "code",
        "outputId": "6dd759a5-794e-4a06-ed46-9c58c0eba96b",
        "colab": {
          "base_uri": "https://localhost:8080/",
          "height": 35
        }
      },
      "source": [
        "df['Date'] = pd.to_datetime(df['Date'], format = '%Y-%m-%d')\n",
        "print(df['Date'].dtypes)"
      ],
      "execution_count": 0,
      "outputs": [
        {
          "output_type": "stream",
          "text": [
            "datetime64[ns]\n"
          ],
          "name": "stdout"
        }
      ]
    },
    {
      "cell_type": "code",
      "metadata": {
        "id": "u_lAVyU-DBf3",
        "colab_type": "code",
        "outputId": "a51a18ef-af00-48cf-818e-9f412a2d3a4a",
        "colab": {
          "base_uri": "https://localhost:8080/",
          "height": 609
        }
      },
      "source": [
        "df = df.loc[:, df.isnull().sum()/len(df) < 0.6]\n",
        "df"
      ],
      "execution_count": 0,
      "outputs": [
        {
          "output_type": "execute_result",
          "data": {
            "text/html": [
              "<div>\n",
              "<style scoped>\n",
              "    .dataframe tbody tr th:only-of-type {\n",
              "        vertical-align: middle;\n",
              "    }\n",
              "\n",
              "    .dataframe tbody tr th {\n",
              "        vertical-align: top;\n",
              "    }\n",
              "\n",
              "    .dataframe thead th {\n",
              "        text-align: right;\n",
              "    }\n",
              "</style>\n",
              "<table border=\"1\" class=\"dataframe\">\n",
              "  <thead>\n",
              "    <tr style=\"text-align: right;\">\n",
              "      <th></th>\n",
              "      <th>Store</th>\n",
              "      <th>Date</th>\n",
              "      <th>Dept</th>\n",
              "      <th>Weekly_Sales</th>\n",
              "      <th>IsHoliday</th>\n",
              "      <th>Type</th>\n",
              "      <th>Size</th>\n",
              "      <th>Temperature</th>\n",
              "      <th>Fuel_Price</th>\n",
              "      <th>CPI</th>\n",
              "      <th>Unemployment</th>\n",
              "    </tr>\n",
              "  </thead>\n",
              "  <tbody>\n",
              "    <tr>\n",
              "      <th>0</th>\n",
              "      <td>1</td>\n",
              "      <td>2010-02-05</td>\n",
              "      <td>1</td>\n",
              "      <td>24924.50</td>\n",
              "      <td>False</td>\n",
              "      <td>A</td>\n",
              "      <td>151315</td>\n",
              "      <td>42.31</td>\n",
              "      <td>2.572</td>\n",
              "      <td>211.096358</td>\n",
              "      <td>8.106</td>\n",
              "    </tr>\n",
              "    <tr>\n",
              "      <th>1</th>\n",
              "      <td>1</td>\n",
              "      <td>2010-02-12</td>\n",
              "      <td>1</td>\n",
              "      <td>46039.49</td>\n",
              "      <td>True</td>\n",
              "      <td>A</td>\n",
              "      <td>151315</td>\n",
              "      <td>38.51</td>\n",
              "      <td>2.548</td>\n",
              "      <td>211.242170</td>\n",
              "      <td>8.106</td>\n",
              "    </tr>\n",
              "    <tr>\n",
              "      <th>2</th>\n",
              "      <td>1</td>\n",
              "      <td>2010-02-19</td>\n",
              "      <td>1</td>\n",
              "      <td>41595.55</td>\n",
              "      <td>False</td>\n",
              "      <td>A</td>\n",
              "      <td>151315</td>\n",
              "      <td>39.93</td>\n",
              "      <td>2.514</td>\n",
              "      <td>211.289143</td>\n",
              "      <td>8.106</td>\n",
              "    </tr>\n",
              "    <tr>\n",
              "      <th>3</th>\n",
              "      <td>1</td>\n",
              "      <td>2010-02-26</td>\n",
              "      <td>1</td>\n",
              "      <td>19403.54</td>\n",
              "      <td>False</td>\n",
              "      <td>A</td>\n",
              "      <td>151315</td>\n",
              "      <td>46.63</td>\n",
              "      <td>2.561</td>\n",
              "      <td>211.319643</td>\n",
              "      <td>8.106</td>\n",
              "    </tr>\n",
              "    <tr>\n",
              "      <th>4</th>\n",
              "      <td>1</td>\n",
              "      <td>2010-03-05</td>\n",
              "      <td>1</td>\n",
              "      <td>21827.90</td>\n",
              "      <td>False</td>\n",
              "      <td>A</td>\n",
              "      <td>151315</td>\n",
              "      <td>46.50</td>\n",
              "      <td>2.625</td>\n",
              "      <td>211.350143</td>\n",
              "      <td>8.106</td>\n",
              "    </tr>\n",
              "    <tr>\n",
              "      <th>...</th>\n",
              "      <td>...</td>\n",
              "      <td>...</td>\n",
              "      <td>...</td>\n",
              "      <td>...</td>\n",
              "      <td>...</td>\n",
              "      <td>...</td>\n",
              "      <td>...</td>\n",
              "      <td>...</td>\n",
              "      <td>...</td>\n",
              "      <td>...</td>\n",
              "      <td>...</td>\n",
              "    </tr>\n",
              "    <tr>\n",
              "      <th>418234</th>\n",
              "      <td>45</td>\n",
              "      <td>2012-09-21</td>\n",
              "      <td>98</td>\n",
              "      <td>467.30</td>\n",
              "      <td>False</td>\n",
              "      <td>B</td>\n",
              "      <td>118221</td>\n",
              "      <td>65.32</td>\n",
              "      <td>4.038</td>\n",
              "      <td>191.856704</td>\n",
              "      <td>8.684</td>\n",
              "    </tr>\n",
              "    <tr>\n",
              "      <th>418235</th>\n",
              "      <td>45</td>\n",
              "      <td>2012-09-28</td>\n",
              "      <td>98</td>\n",
              "      <td>508.37</td>\n",
              "      <td>False</td>\n",
              "      <td>B</td>\n",
              "      <td>118221</td>\n",
              "      <td>64.88</td>\n",
              "      <td>3.997</td>\n",
              "      <td>192.013558</td>\n",
              "      <td>8.684</td>\n",
              "    </tr>\n",
              "    <tr>\n",
              "      <th>418236</th>\n",
              "      <td>45</td>\n",
              "      <td>2012-10-05</td>\n",
              "      <td>98</td>\n",
              "      <td>628.10</td>\n",
              "      <td>False</td>\n",
              "      <td>B</td>\n",
              "      <td>118221</td>\n",
              "      <td>64.89</td>\n",
              "      <td>3.985</td>\n",
              "      <td>192.170412</td>\n",
              "      <td>8.667</td>\n",
              "    </tr>\n",
              "    <tr>\n",
              "      <th>418237</th>\n",
              "      <td>45</td>\n",
              "      <td>2012-10-12</td>\n",
              "      <td>98</td>\n",
              "      <td>1061.02</td>\n",
              "      <td>False</td>\n",
              "      <td>B</td>\n",
              "      <td>118221</td>\n",
              "      <td>54.47</td>\n",
              "      <td>4.000</td>\n",
              "      <td>192.327265</td>\n",
              "      <td>8.667</td>\n",
              "    </tr>\n",
              "    <tr>\n",
              "      <th>418238</th>\n",
              "      <td>45</td>\n",
              "      <td>2012-10-19</td>\n",
              "      <td>98</td>\n",
              "      <td>760.01</td>\n",
              "      <td>False</td>\n",
              "      <td>B</td>\n",
              "      <td>118221</td>\n",
              "      <td>56.47</td>\n",
              "      <td>3.969</td>\n",
              "      <td>192.330854</td>\n",
              "      <td>8.667</td>\n",
              "    </tr>\n",
              "  </tbody>\n",
              "</table>\n",
              "<p>418239 rows × 11 columns</p>\n",
              "</div>"
            ],
            "text/plain": [
              "        Store       Date  Dept  ...  Fuel_Price         CPI Unemployment\n",
              "0           1 2010-02-05     1  ...       2.572  211.096358        8.106\n",
              "1           1 2010-02-12     1  ...       2.548  211.242170        8.106\n",
              "2           1 2010-02-19     1  ...       2.514  211.289143        8.106\n",
              "3           1 2010-02-26     1  ...       2.561  211.319643        8.106\n",
              "4           1 2010-03-05     1  ...       2.625  211.350143        8.106\n",
              "...       ...        ...   ...  ...         ...         ...          ...\n",
              "418234     45 2012-09-21    98  ...       4.038  191.856704        8.684\n",
              "418235     45 2012-09-28    98  ...       3.997  192.013558        8.684\n",
              "418236     45 2012-10-05    98  ...       3.985  192.170412        8.667\n",
              "418237     45 2012-10-12    98  ...       4.000  192.327265        8.667\n",
              "418238     45 2012-10-19    98  ...       3.969  192.330854        8.667\n",
              "\n",
              "[418239 rows x 11 columns]"
            ]
          },
          "metadata": {
            "tags": []
          },
          "execution_count": 272
        }
      ]
    },
    {
      "cell_type": "code",
      "metadata": {
        "id": "-UO4CCaPDBiM",
        "colab_type": "code",
        "outputId": "61ca91d9-7b11-4587-8f42-51c69fcaa698",
        "colab": {
          "base_uri": "https://localhost:8080/",
          "height": 69
        }
      },
      "source": [
        "print('Количество магазинов', df['Store'].nunique())\n",
        "print('Количество отделов', df['Dept'].nunique())\n",
        "print('Период времени',df['Date'].min(), '-', df['Date'].max())"
      ],
      "execution_count": 0,
      "outputs": [
        {
          "output_type": "stream",
          "text": [
            "Количество магазинов 45\n",
            "Количество отделов 81\n",
            "Период времени 2010-02-05 00:00:00 - 2012-10-19 00:00:00\n"
          ],
          "name": "stdout"
        }
      ]
    },
    {
      "cell_type": "code",
      "metadata": {
        "id": "DdqBIicuDBkp",
        "colab_type": "code",
        "outputId": "94f37065-3054-4e22-f479-99356fccd59e",
        "colab": {
          "base_uri": "https://localhost:8080/",
          "height": 454
        }
      },
      "source": [
        "plt.style.use(\"cyberpunk\")\n",
        "fig, ax = plt.subplots(figsize=(10,7))\n",
        "df1 = df[['Date','Weekly_Sales']].groupby('Date', as_index=False).sum()\n",
        "ax.plot(df1['Date'], df1['Weekly_Sales']/1000000)\n",
        "ax.set_xlabel('Дата')\n",
        "ax.set_ylabel('Объем продаж (млн)')\n",
        "ax.set_title('Динамика продаж в магазинах Walmart')\n",
        "plt.show()"
      ],
      "execution_count": 0,
      "outputs": [
        {
          "output_type": "display_data",
          "data": {
            "image/png": "[encoded data removed]",
            "text/plain": [
              "<Figure size 720x504 with 1 Axes>"
            ]
          },
          "metadata": {
            "tags": []
          }
        }
      ]
    },
    {
      "cell_type": "code",
      "metadata": {
        "id": "kA7UdqaJRrJz",
        "colab_type": "code",
        "outputId": "587483a6-c97c-4029-c781-b480466e1d44",
        "colab": {
          "base_uri": "https://localhost:8080/",
          "height": 334
        }
      },
      "source": [
        "#матрица корреляции\n",
        "sns.heatmap(df.corr(), annot=True, fmt='.2f', cmap='YlGnBu').set_title('Матрица корреляции')\n",
        "plt.show()"
      ],
      "execution_count": 0,
      "outputs": [
        {
          "output_type": "display_data",
          "data": {
            "image/png": "[encoded data removed]",
            "text/plain": [
              "<Figure size 432x288 with 2 Axes>"
            ]
          },
          "metadata": {
            "tags": []
          }
        }
      ]
    },
    {
      "cell_type": "code",
      "metadata": {
        "id": "hthqQkMLcCAX",
        "colab_type": "code",
        "outputId": "25dd09eb-124a-4f15-da5b-87c0e724ee07",
        "colab": {
          "base_uri": "https://localhost:8080/",
          "height": 542
        }
      },
      "source": [
        "# Найдем 5 лучший магазинов по продажам\n",
        "best = df.groupby('Store', as_index=False).sum().nlargest(5, 'Weekly_Sales')\n",
        "# Сгруппируем про дажи по датам в каждом магазине\n",
        "time = df.groupby(['Date','Store'], as_index=False).sum()\n",
        "#Объединим и построим динамику\n",
        "dynamics = time.merge(best, on='Store')\n",
        "dynamics = dynamics[['Date','Weekly_Sales_x', 'Store']]\n",
        "dynamics.rename(columns={'Weekly_Sales_x':'Weekly Sales'}, inplace=True)\n",
        "px.line(dynamics, x='Date', y ='Weekly Sales', color='Store', title='Динамика продаж топ-5 магазинов за все время')"
      ],
      "execution_count": 0,
      "outputs": [
        {
          "output_type": "display_data",
          "data": {
            "text/html": [
              "<html>\n",
              "<head><meta charset=\"utf-8\" /></head>\n",
              "<body>\n",
              "    <div>\n",
              "            <script src=\"https://cdnjs.cloudflare.com/ajax/libs/mathjax/2.7.5/MathJax.js?config=TeX-AMS-MML_SVG\"></script><script type=\"text/javascript\">if (window.MathJax) {MathJax.Hub.Config({SVG: {font: \"STIX-Web\"}});}</script>\n",
              "                <script type=\"text/javascript\">window.PlotlyConfig = {MathJaxConfig: 'local'};</script>\n",
              "        <script src=\"https://cdn.plot.ly/plotly-latest.min.js\"></script>    \n",
              "            <div id=\"65becf81-414f-4f50-b373-9c818b15dce8\" class=\"plotly-graph-div\" style=\"height:525px; width:100%;\"></div>\n",
              "            <script type=\"text/javascript\">\n",
              "                \n",
              "                    window.PLOTLYENV=window.PLOTLYENV || {};\n",
              "                    \n",
              "                if (document.getElementById(\"65becf81-414f-4f50-b373-9c818b15dce8\")) {\n",
              "                    Plotly.newPlot(\n",
              "                        '65becf81-414f-4f50-b373-9c818b15dce8',\n",
              "                        [{\"hoverlabel\": {\"namelength\": 0}, \"hovertemplate\": \"Store=2<br>Date=%{x}<br>Weekly Sales=%{y}\", \"legendgroup\": \"Store=2\", \"line\": {\"color\": \"#636efa\", \"dash\": \"solid\"}, \"mode\": \"lines\", \"name\": \"Store=2\", \"showlegend\": true, \"type\": \"scatter\", \"x\": [\"2010-02-05T00:00:00\", \"2010-02-12T00:00:00\", \"2010-02-19T00:00:00\", \"2010-02-26T00:00:00\", \"2010-03-05T00:00:00\", \"2010-03-12T00:00:00\", \"2010-03-19T00:00:00\", \"2010-03-26T00:00:00\", \"2010-04-02T00:00:00\", \"2010-04-09T00:00:00\", \"2010-04-16T00:00:00\", \"2010-04-23T00:00:00\", \"2010-04-30T00:00:00\", \"2010-05-07T00:00:00\", \"2010-05-14T00:00:00\", \"2010-05-21T00:00:00\", \"2010-05-28T00:00:00\", \"2010-06-04T00:00:00\", \"2010-06-11T00:00:00\", \"2010-06-18T00:00:00\", \"2010-06-25T00:00:00\", \"2010-07-02T00:00:00\", \"2010-07-09T00:00:00\", \"2010-07-16T00:00:00\", \"2010-07-23T00:00:00\", \"2010-07-30T00:00:00\", \"2010-08-06T00:00:00\", \"2010-08-13T00:00:00\", \"2010-08-20T00:00:00\", \"2010-08-27T00:00:00\", \"2010-09-03T00:00:00\", \"2010-09-10T00:00:00\", \"2010-09-17T00:00:00\", \"2010-09-24T00:00:00\", \"2010-10-01T00:00:00\", \"2010-10-08T00:00:00\", \"2010-10-15T00:00:00\", \"2010-10-22T00:00:00\", \"2010-10-29T00:00:00\", \"2010-11-05T00:00:00\", \"2010-11-12T00:00:00\", \"2010-11-19T00:00:00\", \"2010-11-26T00:00:00\", \"2010-12-03T00:00:00\", \"2010-12-10T00:00:00\", \"2010-12-17T00:00:00\", \"2010-12-24T00:00:00\", \"2010-12-31T00:00:00\", \"2011-01-07T00:00:00\", \"2011-01-14T00:00:00\", \"2011-01-21T00:00:00\", \"2011-01-28T00:00:00\", \"2011-02-04T00:00:00\", \"2011-02-11T00:00:00\", \"2011-02-18T00:00:00\", \"2011-02-25T00:00:00\", \"2011-03-04T00:00:00\", \"2011-03-11T00:00:00\", \"2011-03-18T00:00:00\", \"2011-03-25T00:00:00\", \"2011-04-01T00:00:00\", \"2011-04-08T00:00:00\", \"2011-04-15T00:00:00\", \"2011-04-22T00:00:00\", \"2011-04-29T00:00:00\", \"2011-05-06T00:00:00\", \"2011-05-13T00:00:00\", \"2011-05-20T00:00:00\", \"2011-05-27T00:00:00\", \"2011-06-03T00:00:00\", \"2011-06-10T00:00:00\", \"2011-06-17T00:00:00\", \"2011-06-24T00:00:00\", \"2011-07-01T00:00:00\", \"2011-07-08T00:00:00\", \"2011-07-15T00:00:00\", \"2011-07-22T00:00:00\", \"2011-07-29T00:00:00\", \"2011-08-05T00:00:00\", \"2011-08-12T00:00:00\", \"2011-08-19T00:00:00\", \"2011-08-26T00:00:00\", \"2011-09-02T00:00:00\", \"2011-09-09T00:00:00\", \"2011-09-16T00:00:00\", \"2011-09-23T00:00:00\", \"2011-09-30T00:00:00\", \"2011-10-07T00:00:00\", \"2011-10-14T00:00:00\", \"2011-10-21T00:00:00\", \"2011-10-28T00:00:00\", \"2011-11-04T00:00:00\", \"2011-11-11T00:00:00\", \"2011-11-18T00:00:00\", \"2011-11-25T00:00:00\", \"2011-12-02T00:00:00\", \"2011-12-09T00:00:00\", \"2011-12-16T00:00:00\", \"2011-12-23T00:00:00\", \"2011-12-30T00:00:00\", \"2012-01-06T00:00:00\", \"2012-01-13T00:00:00\", \"2012-01-20T00:00:00\", \"2012-01-27T00:00:00\", \"2012-02-03T00:00:00\", \"2012-02-10T00:00:00\", \"2012-02-17T00:00:00\", \"2012-02-24T00:00:00\", \"2012-03-02T00:00:00\", \"2012-03-09T00:00:00\", \"2012-03-16T00:00:00\", \"2012-03-23T00:00:00\", \"2012-03-30T00:00:00\", \"2012-04-06T00:00:00\", \"2012-04-13T00:00:00\", \"2012-04-20T00:00:00\", \"2012-04-27T00:00:00\", \"2012-05-04T00:00:00\", \"2012-05-11T00:00:00\", \"2012-05-18T00:00:00\", \"2012-05-25T00:00:00\", \"2012-06-01T00:00:00\", \"2012-06-08T00:00:00\", \"2012-06-15T00:00:00\", \"2012-06-22T00:00:00\", \"2012-06-29T00:00:00\", \"2012-07-06T00:00:00\", \"2012-07-13T00:00:00\", \"2012-07-20T00:00:00\", \"2012-07-27T00:00:00\", \"2012-08-03T00:00:00\", \"2012-08-10T00:00:00\", \"2012-08-17T00:00:00\", \"2012-08-24T00:00:00\", \"2012-08-31T00:00:00\", \"2012-09-07T00:00:00\", \"2012-09-14T00:00:00\", \"2012-09-21T00:00:00\", \"2012-09-28T00:00:00\", \"2012-10-05T00:00:00\", \"2012-10-12T00:00:00\", \"2012-10-19T00:00:00\"], \"xaxis\": \"x\", \"y\": [2136989.46, 2137809.499999999, 2124451.5400000005, 1865097.27, 1991013.1300000001, 1990483.7799999998, 1946070.1000000006, 1750197.81, 2066187.7199999995, 1954689.2100000002, 1874957.9400000002, 1821990.93, 1802447.53, 2042581.7100000002, 1880752.3599999996, 1896937.0999999994, 1957113.8899999997, 2102539.9299999997, 2025538.76, 2001636.96, 1939927.0899999999, 2003940.6400000006, 1880902.6199999994, 1845879.7900000003, 1781717.7100000002, 1804246.1600000004, 1991909.9799999995, 1895601.0499999996, 1964335.23, 1863840.4900000005, 1904608.0899999999, 1839128.8299999998, 1793903.5999999999, 1724557.2200000002, 1827440.4299999995, 1849921.4400000002, 1794355.4899999995, 1737947.6399999997, 1802755.1099999996, 1939061.4100000001, 1916812.74, 1956739.1700000004, 2658725.29, 2015781.27, 2378726.55, 2609166.75, 3436007.6799999997, 1750434.5499999998, 1758050.7899999996, 1744193.5799999996, 1751384.9000000001, 1695371.6800000004, 1929346.2299999997, 2168041.61, 2080884.82, 1833511.0799999998, 1981607.7800000005, 1879107.3100000003, 1902557.6600000001, 1766162.0499999998, 1800171.36, 1847552.61, 1856467.8399999999, 1886339.5999999996, 1745545.28, 1837743.6000000008, 1838513.0699999996, 1688281.8599999999, 1797732.5599999998, 1933756.2100000004, 1929153.1600000001, 1953771.9899999995, 1790925.8000000005, 1866243.0000000002, 1853161.99, 1785187.2900000003, 1743816.4100000001, 1680693.0600000005, 1876704.2600000005, 1812768.2600000005, 1844094.5899999994, 1821139.9099999997, 1809119.6999999997, 1748000.6500000001, 1691439.5200000003, 1669299.78, 1650394.4400000002, 1837553.43, 1743882.19, 1834680.2500000002, 1769296.2500000005, 1959707.9000000006, 1920725.1499999992, 1902762.5000000002, 2614202.3000000003, 1954951.9999999998, 2290345.3200000003, 2432736.5200000005, 3224369.8000000007, 1874226.52, 1799520.1400000001, 1744725.4800000002, 1711769.11, 1660906.14, 1935299.9399999997, 2103322.68, 2196688.4599999995, 1861802.7000000004, 1952555.66, 1937628.2599999998, 1976082.1300000001, 1790439.1600000001, 1857480.8399999996, 2129035.91, 1935869.1, 1847344.4500000002, 1764133.0899999996, 1923957.0900000003, 1917520.99, 2000940.6699999995, 1912791.0899999999, 1910092.3700000003, 2010216.49, 1962924.2999999998, 1887733.2099999993, 1881046.1200000008, 2041507.4000000004, 1830075.1299999997, 1819510.46, 1757917.88, 1946104.6400000008, 1866719.9599999997, 1928016.0100000005, 1876788.15, 1947083.3000000003, 1898777.07, 1814806.6300000001, 1829415.6700000006, 1746470.5600000003, 1998321.0400000005, 1900684.66, 1847990.4100000008], \"yaxis\": \"y\"}, {\"hoverlabel\": {\"namelength\": 0}, \"hovertemplate\": \"Store=4<br>Date=%{x}<br>Weekly Sales=%{y}\", \"legendgroup\": \"Store=4\", \"line\": {\"color\": \"#EF553B\", \"dash\": \"solid\"}, \"mode\": \"lines\", \"name\": \"Store=4\", \"showlegend\": true, \"type\": \"scatter\", \"x\": [\"2010-02-05T00:00:00\", \"2010-02-12T00:00:00\", \"2010-02-19T00:00:00\", \"2010-02-26T00:00:00\", \"2010-03-05T00:00:00\", \"2010-03-12T00:00:00\", \"2010-03-19T00:00:00\", \"2010-03-26T00:00:00\", \"2010-04-02T00:00:00\", \"2010-04-09T00:00:00\", \"2010-04-16T00:00:00\", \"2010-04-23T00:00:00\", \"2010-04-30T00:00:00\", \"2010-05-07T00:00:00\", \"2010-05-14T00:00:00\", \"2010-05-21T00:00:00\", \"2010-05-28T00:00:00\", \"2010-06-04T00:00:00\", \"2010-06-11T00:00:00\", \"2010-06-18T00:00:00\", \"2010-06-25T00:00:00\", \"2010-07-02T00:00:00\", \"2010-07-09T00:00:00\", \"2010-07-16T00:00:00\", \"2010-07-23T00:00:00\", \"2010-07-30T00:00:00\", \"2010-08-06T00:00:00\", \"2010-08-13T00:00:00\", \"2010-08-20T00:00:00\", \"2010-08-27T00:00:00\", \"2010-09-03T00:00:00\", \"2010-09-10T00:00:00\", \"2010-09-17T00:00:00\", \"2010-09-24T00:00:00\", \"2010-10-01T00:00:00\", \"2010-10-08T00:00:00\", \"2010-10-15T00:00:00\", \"2010-10-22T00:00:00\", \"2010-10-29T00:00:00\", \"2010-11-05T00:00:00\", \"2010-11-12T00:00:00\", \"2010-11-19T00:00:00\", \"2010-11-26T00:00:00\", \"2010-12-03T00:00:00\", \"2010-12-10T00:00:00\", \"2010-12-17T00:00:00\", \"2010-12-24T00:00:00\", \"2010-12-31T00:00:00\", \"2011-01-07T00:00:00\", \"2011-01-14T00:00:00\", \"2011-01-21T00:00:00\", \"2011-01-28T00:00:00\", \"2011-02-04T00:00:00\", \"2011-02-11T00:00:00\", \"2011-02-18T00:00:00\", \"2011-02-25T00:00:00\", \"2011-03-04T00:00:00\", \"2011-03-11T00:00:00\", \"2011-03-18T00:00:00\", \"2011-03-25T00:00:00\", \"2011-04-01T00:00:00\", \"2011-04-08T00:00:00\", \"2011-04-15T00:00:00\", \"2011-04-22T00:00:00\", \"2011-04-29T00:00:00\", \"2011-05-06T00:00:00\", \"2011-05-13T00:00:00\", \"2011-05-20T00:00:00\", \"2011-05-27T00:00:00\", \"2011-06-03T00:00:00\", \"2011-06-10T00:00:00\", \"2011-06-17T00:00:00\", \"2011-06-24T00:00:00\", \"2011-07-01T00:00:00\", \"2011-07-08T00:00:00\", \"2011-07-15T00:00:00\", \"2011-07-22T00:00:00\", \"2011-07-29T00:00:00\", \"2011-08-05T00:00:00\", \"2011-08-12T00:00:00\", \"2011-08-19T00:00:00\", \"2011-08-26T00:00:00\", \"2011-09-02T00:00:00\", \"2011-09-09T00:00:00\", \"2011-09-16T00:00:00\", \"2011-09-23T00:00:00\", \"2011-09-30T00:00:00\", \"2011-10-07T00:00:00\", \"2011-10-14T00:00:00\", \"2011-10-21T00:00:00\", \"2011-10-28T00:00:00\", \"2011-11-04T00:00:00\", \"2011-11-11T00:00:00\", \"2011-11-18T00:00:00\", \"2011-11-25T00:00:00\", \"2011-12-02T00:00:00\", \"2011-12-09T00:00:00\", \"2011-12-16T00:00:00\", \"2011-12-23T00:00:00\", \"2011-12-30T00:00:00\", \"2012-01-06T00:00:00\", \"2012-01-13T00:00:00\", \"2012-01-20T00:00:00\", \"2012-01-27T00:00:00\", \"2012-02-03T00:00:00\", \"2012-02-10T00:00:00\", \"2012-02-17T00:00:00\", \"2012-02-24T00:00:00\", \"2012-03-02T00:00:00\", \"2012-03-09T00:00:00\", \"2012-03-16T00:00:00\", \"2012-03-23T00:00:00\", \"2012-03-30T00:00:00\", \"2012-04-06T00:00:00\", \"2012-04-13T00:00:00\", \"2012-04-20T00:00:00\", \"2012-04-27T00:00:00\", \"2012-05-04T00:00:00\", \"2012-05-11T00:00:00\", \"2012-05-18T00:00:00\", \"2012-05-25T00:00:00\", \"2012-06-01T00:00:00\", \"2012-06-08T00:00:00\", \"2012-06-15T00:00:00\", \"2012-06-22T00:00:00\", \"2012-06-29T00:00:00\", \"2012-07-06T00:00:00\", \"2012-07-13T00:00:00\", \"2012-07-20T00:00:00\", \"2012-07-27T00:00:00\", \"2012-08-03T00:00:00\", \"2012-08-10T00:00:00\", \"2012-08-17T00:00:00\", \"2012-08-24T00:00:00\", \"2012-08-31T00:00:00\", \"2012-09-07T00:00:00\", \"2012-09-14T00:00:00\", \"2012-09-21T00:00:00\", \"2012-09-28T00:00:00\", \"2012-10-05T00:00:00\", \"2012-10-12T00:00:00\", \"2012-10-19T00:00:00\"], \"xaxis\": \"x\", \"y\": [2135143.87, 2188307.39, 2049860.259999999, 1925728.84, 1971057.4400000004, 1894324.09, 1897429.3599999999, 1762539.2999999998, 1979247.12, 1818452.72, 1851519.69, 1802677.9000000004, 1817273.28, 2000626.1400000001, 1875597.28, 1903752.6, 1857533.7000000002, 1903290.5800000003, 1870619.230000001, 1929736.35, 1846651.9499999997, 1881337.2100000002, 1812208.2199999997, 1898427.6600000001, 1848426.7800000003, 1796637.6100000006, 1907638.58, 2007038.7499999995, 1997181.0899999994, 1848403.92, 1935857.58, 1865820.8100000003, 1899959.6100000008, 1810684.6800000002, 1842821.0199999998, 1951494.850000001, 1867345.0900000003, 1927610.0599999998, 1933333.0000000002, 2013115.7900000003, 1999794.2600000005, 2097809.4, 2789469.45, 2102530.1699999995, 2302503.3000000003, 2740057.1400000006, 3526713.3900000006, 1794868.74, 1862476.27, 1865502.4600000002, 1886393.9400000004, 1814240.8499999999, 2119086.0400000005, 2187847.29, 2316495.56, 2078094.69, 2103455.75, 2039818.4100000008, 2116475.38, 1944164.3200000003, 1900246.4700000002, 2074953.4600000002, 1960587.76, 2220600.76, 1878167.4399999997, 2063682.7599999995, 2002362.37, 2015563.48, 1986597.95, 2065377.1500000001, 2073951.3800000001, 2141210.6199999996, 2008344.9200000004, 2051533.5300000005, 2066541.8600000003, 2049046.9500000007, 2036231.3900000008, 1989674.0699999998, 2160057.389999999, 2105668.7399999998, 2232892.1000000006, 1988490.2100000004, 2078420.31, 2093139.0100000002, 2075577.3299999998, 2031406.41, 1929486.63, 2166737.6499999994, 2074548.8500000003, 2207742.1300000004, 2151659.59, 2281217.3100000005, 2203028.96, 2243946.5899999994, 3004702.330000001, 2180999.26, 2508955.2399999993, 2771397.17, 3676388.9800000004, 2007105.8600000008, 2047766.0699999996, 1941676.6099999999, 2005097.76, 1928720.5100000002, 2173373.91, 2374660.64, 2427640.1700000004, 2226662.17, 2206319.9000000004, 2202100.8099999996, 2214967.4400000004, 2091592.5399999996, 2089381.7699999998, 2470206.1300000004, 2105301.39, 2144634.8899999987, 2064065.6599999997, 2196968.3299999996, 2127661.17, 2207214.8100000005, 2154137.6699999995, 2179360.939999999, 2245257.1799999997, 2234190.9299999997, 2197299.6499999994, 2128362.9200000004, 2224499.28, 2100248.65, 2175563.6900000004, 2048613.6500000001, 2174514.1299999994, 2193367.69, 2283540.3000000007, 2125241.6799999997, 2081181.3500000006, 2125104.7199999997, 2117854.599999999, 2119438.53, 2027620.2299999995, 2209835.43, 2132766.0700000003, 2097266.85], \"yaxis\": \"y\"}, {\"hoverlabel\": {\"namelength\": 0}, \"hovertemplate\": \"Store=13<br>Date=%{x}<br>Weekly Sales=%{y}\", \"legendgroup\": \"Store=13\", \"line\": {\"color\": \"#00cc96\", \"dash\": \"solid\"}, \"mode\": \"lines\", \"name\": \"Store=13\", \"showlegend\": true, \"type\": \"scatter\", \"x\": [\"2010-02-05T00:00:00\", \"2010-02-12T00:00:00\", \"2010-02-19T00:00:00\", \"2010-02-26T00:00:00\", \"2010-03-05T00:00:00\", \"2010-03-12T00:00:00\", \"2010-03-19T00:00:00\", \"2010-03-26T00:00:00\", \"2010-04-02T00:00:00\", \"2010-04-09T00:00:00\", \"2010-04-16T00:00:00\", \"2010-04-23T00:00:00\", \"2010-04-30T00:00:00\", \"2010-05-07T00:00:00\", \"2010-05-14T00:00:00\", \"2010-05-21T00:00:00\", \"2010-05-28T00:00:00\", \"2010-06-04T00:00:00\", \"2010-06-11T00:00:00\", \"2010-06-18T00:00:00\", \"2010-06-25T00:00:00\", \"2010-07-02T00:00:00\", \"2010-07-09T00:00:00\", \"2010-07-16T00:00:00\", \"2010-07-23T00:00:00\", \"2010-07-30T00:00:00\", \"2010-08-06T00:00:00\", \"2010-08-13T00:00:00\", \"2010-08-20T00:00:00\", \"2010-08-27T00:00:00\", \"2010-09-03T00:00:00\", \"2010-09-10T00:00:00\", \"2010-09-17T00:00:00\", \"2010-09-24T00:00:00\", \"2010-10-01T00:00:00\", \"2010-10-08T00:00:00\", \"2010-10-15T00:00:00\", \"2010-10-22T00:00:00\", \"2010-10-29T00:00:00\", \"2010-11-05T00:00:00\", \"2010-11-12T00:00:00\", \"2010-11-19T00:00:00\", \"2010-11-26T00:00:00\", \"2010-12-03T00:00:00\", \"2010-12-10T00:00:00\", \"2010-12-17T00:00:00\", \"2010-12-24T00:00:00\", \"2010-12-31T00:00:00\", \"2011-01-07T00:00:00\", \"2011-01-14T00:00:00\", \"2011-01-21T00:00:00\", \"2011-01-28T00:00:00\", \"2011-02-04T00:00:00\", \"2011-02-11T00:00:00\", \"2011-02-18T00:00:00\", \"2011-02-25T00:00:00\", \"2011-03-04T00:00:00\", \"2011-03-11T00:00:00\", \"2011-03-18T00:00:00\", \"2011-03-25T00:00:00\", \"2011-04-01T00:00:00\", \"2011-04-08T00:00:00\", \"2011-04-15T00:00:00\", \"2011-04-22T00:00:00\", \"2011-04-29T00:00:00\", \"2011-05-06T00:00:00\", \"2011-05-13T00:00:00\", \"2011-05-20T00:00:00\", \"2011-05-27T00:00:00\", \"2011-06-03T00:00:00\", \"2011-06-10T00:00:00\", \"2011-06-17T00:00:00\", \"2011-06-24T00:00:00\", \"2011-07-01T00:00:00\", \"2011-07-08T00:00:00\", \"2011-07-15T00:00:00\", \"2011-07-22T00:00:00\", \"2011-07-29T00:00:00\", \"2011-08-05T00:00:00\", \"2011-08-12T00:00:00\", \"2011-08-19T00:00:00\", \"2011-08-26T00:00:00\", \"2011-09-02T00:00:00\", \"2011-09-09T00:00:00\", \"2011-09-16T00:00:00\", \"2011-09-23T00:00:00\", \"2011-09-30T00:00:00\", \"2011-10-07T00:00:00\", \"2011-10-14T00:00:00\", \"2011-10-21T00:00:00\", \"2011-10-28T00:00:00\", \"2011-11-04T00:00:00\", \"2011-11-11T00:00:00\", \"2011-11-18T00:00:00\", \"2011-11-25T00:00:00\", \"2011-12-02T00:00:00\", \"2011-12-09T00:00:00\", \"2011-12-16T00:00:00\", \"2011-12-23T00:00:00\", \"2011-12-30T00:00:00\", \"2012-01-06T00:00:00\", \"2012-01-13T00:00:00\", \"2012-01-20T00:00:00\", \"2012-01-27T00:00:00\", \"2012-02-03T00:00:00\", \"2012-02-10T00:00:00\", \"2012-02-17T00:00:00\", \"2012-02-24T00:00:00\", \"2012-03-02T00:00:00\", \"2012-03-09T00:00:00\", \"2012-03-16T00:00:00\", \"2012-03-23T00:00:00\", \"2012-03-30T00:00:00\", \"2012-04-06T00:00:00\", \"2012-04-13T00:00:00\", \"2012-04-20T00:00:00\", \"2012-04-27T00:00:00\", \"2012-05-04T00:00:00\", \"2012-05-11T00:00:00\", \"2012-05-18T00:00:00\", \"2012-05-25T00:00:00\", \"2012-06-01T00:00:00\", \"2012-06-08T00:00:00\", \"2012-06-15T00:00:00\", \"2012-06-22T00:00:00\", \"2012-06-29T00:00:00\", \"2012-07-06T00:00:00\", \"2012-07-13T00:00:00\", \"2012-07-20T00:00:00\", \"2012-07-27T00:00:00\", \"2012-08-03T00:00:00\", \"2012-08-10T00:00:00\", \"2012-08-17T00:00:00\", \"2012-08-24T00:00:00\", \"2012-08-31T00:00:00\", \"2012-09-07T00:00:00\", \"2012-09-14T00:00:00\", \"2012-09-21T00:00:00\", \"2012-09-28T00:00:00\", \"2012-10-05T00:00:00\", \"2012-10-12T00:00:00\", \"2012-10-19T00:00:00\"], \"xaxis\": \"x\", \"y\": [1967220.5299999996, 2030933.4599999995, 1970274.64, 1817850.32, 1939980.4300000004, 1840686.9400000002, 1879794.89, 1882095.9799999995, 2142482.1399999997, 1898321.3299999998, 1819660.4399999997, 1909330.7699999993, 1785823.3700000003, 2005478.4599999995, 1890273.4399999995, 1853657.6, 1877358.86, 2022705.22, 2037880.9600000002, 2003435.31, 1970340.2500000002, 2018314.7099999997, 1870843.9000000001, 1932231.0500000007, 1907351.1999999995, 1817887.23, 1969121.4500000002, 1877592.5500000003, 1997397.6299999992, 1908278.2700000003, 1911852.5799999998, 1772143.9399999995, 1790279.74, 1705655.09, 1765584.4799999993, 1871924.0699999998, 1851431.06, 1796949.5899999999, 1887895.07, 1854967.6599999997, 1939964.6299999997, 1925393.9100000006, 2766400.0500000003, 2083379.8900000004, 2461468.3500000006, 2771646.81, 3595903.2, 1675291.9999999995, 1744544.3900000001, 1682316.3099999996, 1770177.37, 1633663.1200000006, 1848186.5799999996, 1944438.8999999994, 2003480.5900000003, 1831933.9500000002, 1894960.68, 1852432.5799999996, 1852443.7799999998, 1807545.4299999997, 1864238.6400000008, 1887465.0400000003, 1950994.0399999993, 2124316.34, 1895583.12, 1986380.3999999994, 1958823.5599999998, 1860923.5500000003, 1866369.93, 1935593.8699999996, 1997816.98, 2086433.4900000007, 2009163.0799999998, 2048035.74, 2021699.3800000004, 1956813.3099999998, 1987089.3600000003, 1880785.6900000002, 2076231.8000000003, 1970331.3799999994, 2090340.9800000002, 2035244.5399999996, 1953628.8199999998, 1872921.31, 1923223.8199999996, 1847430.9600000002, 1835662.6899999995, 2067232.560000001, 1929659.0700000003, 1973544.2700000003, 1948733.8100000003, 2036317.539999999, 2111592.09, 2016323.5100000002, 2862898.61, 2051314.5900000005, 2462779.060000001, 2760346.7099999995, 3556766.03, 1969056.9100000006, 1865752.7799999998, 1794962.6399999997, 1811606.21, 1733983.0899999996, 1927780.7400000005, 2069284.5699999998, 2214477.0599999996, 1929768.03, 1969742.7599999998, 1986438.5299999993, 2025582.62, 1904421.74, 1948982.6999999997, 2271614.76, 2057637.8600000003, 1955689.1200000003, 1970121.6499999997, 1995994.5100000002, 2080764.1699999992, 2131900.55, 2043349.41, 2035431.3899999997, 2182437.9, 2152229.11, 2094372.9999999995, 2037663.7100000004, 2184980.350000001, 2002750.99, 2053089.3199999998, 1914430.53, 2044148.23, 2041117.9200000004, 2095769.1800000002, 2059458.2500000007, 2073855.42, 2165796.31, 1919917.0299999996, 1938379.66, 1927664.1100000003, 2041918.7400000005, 1998869.44, 2017986.24], \"yaxis\": \"y\"}, {\"hoverlabel\": {\"namelength\": 0}, \"hovertemplate\": \"Store=14<br>Date=%{x}<br>Weekly Sales=%{y}\", \"legendgroup\": \"Store=14\", \"line\": {\"color\": \"#ab63fa\", \"dash\": \"solid\"}, \"mode\": \"lines\", \"name\": \"Store=14\", \"showlegend\": true, \"type\": \"scatter\", \"x\": [\"2010-02-05T00:00:00\", \"2010-02-12T00:00:00\", \"2010-02-19T00:00:00\", \"2010-02-26T00:00:00\", \"2010-03-05T00:00:00\", \"2010-03-12T00:00:00\", \"2010-03-19T00:00:00\", \"2010-03-26T00:00:00\", \"2010-04-02T00:00:00\", \"2010-04-09T00:00:00\", \"2010-04-16T00:00:00\", \"2010-04-23T00:00:00\", \"2010-04-30T00:00:00\", \"2010-05-07T00:00:00\", \"2010-05-14T00:00:00\", \"2010-05-21T00:00:00\", \"2010-05-28T00:00:00\", \"2010-06-04T00:00:00\", \"2010-06-11T00:00:00\", \"2010-06-18T00:00:00\", \"2010-06-25T00:00:00\", \"2010-07-02T00:00:00\", \"2010-07-09T00:00:00\", \"2010-07-16T00:00:00\", \"2010-07-23T00:00:00\", \"2010-07-30T00:00:00\", \"2010-08-06T00:00:00\", \"2010-08-13T00:00:00\", \"2010-08-20T00:00:00\", \"2010-08-27T00:00:00\", \"2010-09-03T00:00:00\", \"2010-09-10T00:00:00\", \"2010-09-17T00:00:00\", \"2010-09-24T00:00:00\", \"2010-10-01T00:00:00\", \"2010-10-08T00:00:00\", \"2010-10-15T00:00:00\", \"2010-10-22T00:00:00\", \"2010-10-29T00:00:00\", \"2010-11-05T00:00:00\", \"2010-11-12T00:00:00\", \"2010-11-19T00:00:00\", \"2010-11-26T00:00:00\", \"2010-12-03T00:00:00\", \"2010-12-10T00:00:00\", \"2010-12-17T00:00:00\", \"2010-12-24T00:00:00\", \"2010-12-31T00:00:00\", \"2011-01-07T00:00:00\", \"2011-01-14T00:00:00\", \"2011-01-21T00:00:00\", \"2011-01-28T00:00:00\", \"2011-02-04T00:00:00\", \"2011-02-11T00:00:00\", \"2011-02-18T00:00:00\", \"2011-02-25T00:00:00\", \"2011-03-04T00:00:00\", \"2011-03-11T00:00:00\", \"2011-03-18T00:00:00\", \"2011-03-25T00:00:00\", \"2011-04-01T00:00:00\", \"2011-04-08T00:00:00\", \"2011-04-15T00:00:00\", \"2011-04-22T00:00:00\", \"2011-04-29T00:00:00\", \"2011-05-06T00:00:00\", \"2011-05-13T00:00:00\", \"2011-05-20T00:00:00\", \"2011-05-27T00:00:00\", \"2011-06-03T00:00:00\", \"2011-06-10T00:00:00\", \"2011-06-17T00:00:00\", \"2011-06-24T00:00:00\", \"2011-07-01T00:00:00\", \"2011-07-08T00:00:00\", \"2011-07-15T00:00:00\", \"2011-07-22T00:00:00\", \"2011-07-29T00:00:00\", \"2011-08-05T00:00:00\", \"2011-08-12T00:00:00\", \"2011-08-19T00:00:00\", \"2011-08-26T00:00:00\", \"2011-09-02T00:00:00\", \"2011-09-09T00:00:00\", \"2011-09-16T00:00:00\", \"2011-09-23T00:00:00\", \"2011-09-30T00:00:00\", \"2011-10-07T00:00:00\", \"2011-10-14T00:00:00\", \"2011-10-21T00:00:00\", \"2011-10-28T00:00:00\", \"2011-11-04T00:00:00\", \"2011-11-11T00:00:00\", \"2011-11-18T00:00:00\", \"2011-11-25T00:00:00\", \"2011-12-02T00:00:00\", \"2011-12-09T00:00:00\", \"2011-12-16T00:00:00\", \"2011-12-23T00:00:00\", \"2011-12-30T00:00:00\", \"2012-01-06T00:00:00\", \"2012-01-13T00:00:00\", \"2012-01-20T00:00:00\", \"2012-01-27T00:00:00\", \"2012-02-03T00:00:00\", \"2012-02-10T00:00:00\", \"2012-02-17T00:00:00\", \"2012-02-24T00:00:00\", \"2012-03-02T00:00:00\", \"2012-03-09T00:00:00\", \"2012-03-16T00:00:00\", \"2012-03-23T00:00:00\", \"2012-03-30T00:00:00\", \"2012-04-06T00:00:00\", \"2012-04-13T00:00:00\", \"2012-04-20T00:00:00\", \"2012-04-27T00:00:00\", \"2012-05-04T00:00:00\", \"2012-05-11T00:00:00\", \"2012-05-18T00:00:00\", \"2012-05-25T00:00:00\", \"2012-06-01T00:00:00\", \"2012-06-08T00:00:00\", \"2012-06-15T00:00:00\", \"2012-06-22T00:00:00\", \"2012-06-29T00:00:00\", \"2012-07-06T00:00:00\", \"2012-07-13T00:00:00\", \"2012-07-20T00:00:00\", \"2012-07-27T00:00:00\", \"2012-08-03T00:00:00\", \"2012-08-10T00:00:00\", \"2012-08-17T00:00:00\", \"2012-08-24T00:00:00\", \"2012-08-31T00:00:00\", \"2012-09-07T00:00:00\", \"2012-09-14T00:00:00\", \"2012-09-21T00:00:00\", \"2012-09-28T00:00:00\", \"2012-10-05T00:00:00\", \"2012-10-12T00:00:00\", \"2012-10-19T00:00:00\"], \"xaxis\": \"x\", \"y\": [2623469.950000001, 1704218.59, 2204556.7, 2095591.6299999997, 2237544.75, 2156035.06, 2066219.3000000003, 2050396.2700000003, 2495630.5099999993, 2258781.2799999993, 2121788.61, 2138144.9099999997, 2082355.1199999999, 2370116.520000001, 2129771.1299999994, 2108187.0999999996, 2227152.16, 2363601.4700000007, 2249570.0399999996, 2248645.5900000003, 2246179.9100000006, 2334788.4199999995, 2236209.1299999994, 2130287.27, 2044155.39, 2054843.28, 2219813.5000000005, 2052984.8099999994, 2057138.3100000005, 2020332.0699999996, 2182563.6599999997, 2191767.76, 1953539.8499999999, 1879891.1300000004, 1855703.6599999995, 2091663.2, 1932162.6299999994, 1936621.0899999999, 1984768.3399999994, 2078417.4699999997, 2092189.06, 1968462.5799999994, 2921709.709999999, 2258489.6300000004, 2600519.2599999993, 2762861.409999999, 3818686.4499999993, 1623716.4600000002, 1864746.0999999996, 1699095.9, 1743188.8699999994, 1613718.38, 1995891.87, 1980405.0299999998, 2019031.6700000002, 1875708.8800000001, 2041215.61, 1931104.6700000002, 1932491.42, 1879451.2299999995, 1869110.5499999998, 2037798.8800000004, 1974960.8599999999, 2256461.3899999997, 1930617.64, 2095599.9300000002, 2004330.3, 1959967.7999999998, 2080694.2399999998, 2079899.47, 2132446.0000000005, 2082083.34, 2069523.5200000003, 2074668.1899999995, 2063401.06, 1953544.76, 1882070.88, 1871021.0099999998, 2066020.6900000004, 1928773.8199999998, 1896873.99, 2273470.6199999996, 1750891.4700000002, 2202742.9, 1864637.89, 1871551.1400000006, 1809989.2900000003, 2078796.76, 1890870.7499999995, 2009004.59, 2056846.1200000003, 2174056.71, 2081534.6499999997, 1969360.7200000002, 2685351.8100000005, 2143080.57, 2470581.29, 2594363.09, 3369068.9899999993, 1914136.0100000002, 1859144.9599999997, 1696248.2700000005, 1789113.3200000003, 1595362.2700000003, 1877410.3599999996, 2077256.24, 2020352.9899999995, 1875040.1600000001, 1926004.9899999998, 2020839.3100000003, 1941040.5000000002, 1893447.7099999997, 1905033.01, 2376022.26, 1912909.69, 1875686.4399999995, 1784029.95, 1949354.2900000003, 1987516.0499999996, 1932233.1699999997, 2030869.6099999996, 2049485.4899999995, 2099615.88, 1905733.68, 1660228.88, 1591835.02, 1862128.9500000002, 1544422.3500000003, 1553250.1600000006, 1479514.66, 1656886.46, 1648570.0300000005, 1660433.3000000003, 1621841.33, 1613342.19, 1904512.3399999996, 1554794.22, 1565352.4599999997, 1522512.2, 1687592.1600000001, 1639484.2700000005, 1590274.7200000004], \"yaxis\": \"y\"}, {\"hoverlabel\": {\"namelength\": 0}, \"hovertemplate\": \"Store=20<br>Date=%{x}<br>Weekly Sales=%{y}\", \"legendgroup\": \"Store=20\", \"line\": {\"color\": \"#FFA15A\", \"dash\": \"solid\"}, \"mode\": \"lines\", \"name\": \"Store=20\", \"showlegend\": true, \"type\": \"scatter\", \"x\": [\"2010-02-05T00:00:00\", \"2010-02-12T00:00:00\", \"2010-02-19T00:00:00\", \"2010-02-26T00:00:00\", \"2010-03-05T00:00:00\", \"2010-03-12T00:00:00\", \"2010-03-19T00:00:00\", \"2010-03-26T00:00:00\", \"2010-04-02T00:00:00\", \"2010-04-09T00:00:00\", \"2010-04-16T00:00:00\", \"2010-04-23T00:00:00\", \"2010-04-30T00:00:00\", \"2010-05-07T00:00:00\", \"2010-05-14T00:00:00\", \"2010-05-21T00:00:00\", \"2010-05-28T00:00:00\", \"2010-06-04T00:00:00\", \"2010-06-11T00:00:00\", \"2010-06-18T00:00:00\", \"2010-06-25T00:00:00\", \"2010-07-02T00:00:00\", \"2010-07-09T00:00:00\", \"2010-07-16T00:00:00\", \"2010-07-23T00:00:00\", \"2010-07-30T00:00:00\", \"2010-08-06T00:00:00\", \"2010-08-13T00:00:00\", \"2010-08-20T00:00:00\", \"2010-08-27T00:00:00\", \"2010-09-03T00:00:00\", \"2010-09-10T00:00:00\", \"2010-09-17T00:00:00\", \"2010-09-24T00:00:00\", \"2010-10-01T00:00:00\", \"2010-10-08T00:00:00\", \"2010-10-15T00:00:00\", \"2010-10-22T00:00:00\", \"2010-10-29T00:00:00\", \"2010-11-05T00:00:00\", \"2010-11-12T00:00:00\", \"2010-11-19T00:00:00\", \"2010-11-26T00:00:00\", \"2010-12-03T00:00:00\", \"2010-12-10T00:00:00\", \"2010-12-17T00:00:00\", \"2010-12-24T00:00:00\", \"2010-12-31T00:00:00\", \"2011-01-07T00:00:00\", \"2011-01-14T00:00:00\", \"2011-01-21T00:00:00\", \"2011-01-28T00:00:00\", \"2011-02-04T00:00:00\", \"2011-02-11T00:00:00\", \"2011-02-18T00:00:00\", \"2011-02-25T00:00:00\", \"2011-03-04T00:00:00\", \"2011-03-11T00:00:00\", \"2011-03-18T00:00:00\", \"2011-03-25T00:00:00\", \"2011-04-01T00:00:00\", \"2011-04-08T00:00:00\", \"2011-04-15T00:00:00\", \"2011-04-22T00:00:00\", \"2011-04-29T00:00:00\", \"2011-05-06T00:00:00\", \"2011-05-13T00:00:00\", \"2011-05-20T00:00:00\", \"2011-05-27T00:00:00\", \"2011-06-03T00:00:00\", \"2011-06-10T00:00:00\", \"2011-06-17T00:00:00\", \"2011-06-24T00:00:00\", \"2011-07-01T00:00:00\", \"2011-07-08T00:00:00\", \"2011-07-15T00:00:00\", \"2011-07-22T00:00:00\", \"2011-07-29T00:00:00\", \"2011-08-05T00:00:00\", \"2011-08-12T00:00:00\", \"2011-08-19T00:00:00\", \"2011-08-26T00:00:00\", \"2011-09-02T00:00:00\", \"2011-09-09T00:00:00\", \"2011-09-16T00:00:00\", \"2011-09-23T00:00:00\", \"2011-09-30T00:00:00\", \"2011-10-07T00:00:00\", \"2011-10-14T00:00:00\", \"2011-10-21T00:00:00\", \"2011-10-28T00:00:00\", \"2011-11-04T00:00:00\", \"2011-11-11T00:00:00\", \"2011-11-18T00:00:00\", \"2011-11-25T00:00:00\", \"2011-12-02T00:00:00\", \"2011-12-09T00:00:00\", \"2011-12-16T00:00:00\", \"2011-12-23T00:00:00\", \"2011-12-30T00:00:00\", \"2012-01-06T00:00:00\", \"2012-01-13T00:00:00\", \"2012-01-20T00:00:00\", \"2012-01-27T00:00:00\", \"2012-02-03T00:00:00\", \"2012-02-10T00:00:00\", \"2012-02-17T00:00:00\", \"2012-02-24T00:00:00\", \"2012-03-02T00:00:00\", \"2012-03-09T00:00:00\", \"2012-03-16T00:00:00\", \"2012-03-23T00:00:00\", \"2012-03-30T00:00:00\", \"2012-04-06T00:00:00\", \"2012-04-13T00:00:00\", \"2012-04-20T00:00:00\", \"2012-04-27T00:00:00\", \"2012-05-04T00:00:00\", \"2012-05-11T00:00:00\", \"2012-05-18T00:00:00\", \"2012-05-25T00:00:00\", \"2012-06-01T00:00:00\", \"2012-06-08T00:00:00\", \"2012-06-15T00:00:00\", \"2012-06-22T00:00:00\", \"2012-06-29T00:00:00\", \"2012-07-06T00:00:00\", \"2012-07-13T00:00:00\", \"2012-07-20T00:00:00\", \"2012-07-27T00:00:00\", \"2012-08-03T00:00:00\", \"2012-08-10T00:00:00\", \"2012-08-17T00:00:00\", \"2012-08-24T00:00:00\", \"2012-08-31T00:00:00\", \"2012-09-07T00:00:00\", \"2012-09-14T00:00:00\", \"2012-09-21T00:00:00\", \"2012-09-28T00:00:00\", \"2012-10-05T00:00:00\", \"2012-10-12T00:00:00\", \"2012-10-19T00:00:00\"], \"xaxis\": \"x\", \"y\": [2401395.4699999993, 2109107.9, 2161549.7600000002, 1898193.9499999995, 2119213.7199999997, 2010974.84, 1951848.4299999992, 1894742.9500000002, 2405395.2199999993, 2007796.2599999995, 1985784.5900000003, 1878862.4200000002, 1919053.21, 2137202.38, 2033211.6199999996, 1893736.8999999997, 2065984.9499999997, 2203619.35, 2100489.79, 2091903.63, 1973135.87, 2143676.7699999996, 2107285.8500000006, 2031852.1600000006, 1900535.9000000001, 1955896.5899999996, 1910177.3800000001, 2071022.4500000004, 1975374.5600000008, 1946369.5700000005, 2121561.4100000006, 2014954.7900000005, 1948359.78, 1789687.6500000001, 1933719.2100000002, 2060389.2699999993, 1950676.3900000001, 1893955.2699999998, 1891815.9999999998, 2184316.64, 2187765.28, 2105058.9099999997, 2811634.04, 2416051.1699999995, 2752122.0800000005, 2819193.1700000004, 3766687.430000002, 1799737.79, 1843030.9500000002, 1884345.01, 1781805.6600000006, 1761506.6800000004, 2351143.07, 2211388.1400000006, 2258616.2399999998, 1938608.5200000005, 2143424.6100000003, 1990932.7699999998, 1931668.6399999997, 1824711.2100000002, 1927993.09, 2027056.39, 2057376.3700000003, 2313861.81, 1881788.19, 2090838.4399999995, 2036748.5299999996, 1953416.0600000003, 1944433.17, 2182246.6900000004, 2135062.0400000005, 2065191.2699999993, 1950826.3199999996, 2053165.4100000004, 2123787.79, 2039875.75, 1950904.8399999999, 1858440.9200000002, 2189353.63, 2052246.3999999992, 1990017.9300000002, 1933577.2000000002, 2141765.9800000004, 2050542.5600000003, 1979009.4600000002, 1888119.7, 1945808.2599999995, 2135982.7899999996, 2010107.6800000004, 2104241.9, 2065421.5200000003, 2284106.6000000006, 2269975.85, 2169933.82, 2906233.2500000005, 2298776.829999999, 2546123.78, 2762816.650000001, 3555371.030000001, 2043244.9999999998, 1964696.94, 1911510.64, 1892775.9399999997, 1761016.5100000002, 2203523.1999999997, 2462978.2800000003, 2309025.1600000006, 2045837.55, 2148822.76, 2139265.4, 2064991.7100000004, 1992436.9599999997, 2074721.7399999995, 2565259.92, 2045396.0599999998, 1884427.8399999992, 1886503.9300000002, 2163510.89, 2168097.11, 2039222.26, 2114989.0, 2143126.5900000003, 2231962.1300000004, 2165160.2899999996, 2060588.6899999995, 2055952.609999999, 2358055.299999999, 2134680.12, 1970170.2899999998, 1911538.1600000001, 2094515.7099999997, 2144245.389999999, 2045236.2200000002, 2005341.4300000002, 2062481.5600000003, 2080529.0600000008, 2047949.9800000002, 2028587.2400000002, 2008350.5800000005, 2246411.89, 2162712.3499999996, 1999363.4900000002], \"yaxis\": \"y\"}],\n",
              "                        {\"legend\": {\"tracegroupgap\": 0}, \"template\": {\"data\": {\"bar\": [{\"error_x\": {\"color\": \"#2a3f5f\"}, \"error_y\": {\"color\": \"#2a3f5f\"}, \"marker\": {\"line\": {\"color\": \"#E5ECF6\", \"width\": 0.5}}, \"type\": \"bar\"}], \"barpolar\": [{\"marker\": {\"line\": {\"color\": \"#E5ECF6\", \"width\": 0.5}}, \"type\": \"barpolar\"}], \"carpet\": [{\"aaxis\": {\"endlinecolor\": \"#2a3f5f\", \"gridcolor\": \"white\", \"linecolor\": \"white\", \"minorgridcolor\": \"white\", \"startlinecolor\": \"#2a3f5f\"}, \"baxis\": {\"endlinecolor\": \"#2a3f5f\", \"gridcolor\": \"white\", \"linecolor\": \"white\", \"minorgridcolor\": \"white\", \"startlinecolor\": \"#2a3f5f\"}, \"type\": \"carpet\"}], \"choropleth\": [{\"colorbar\": {\"outlinewidth\": 0, \"ticks\": \"\"}, \"type\": \"choropleth\"}], \"contour\": [{\"colorbar\": {\"outlinewidth\": 0, \"ticks\": \"\"}, \"colorscale\": [[0.0, \"#0d0887\"], [0.1111111111111111, \"#46039f\"], [0.2222222222222222, \"#7201a8\"], [0.3333333333333333, \"#9c179e\"], [0.4444444444444444, \"#bd3786\"], [0.5555555555555556, \"#d8576b\"], [0.6666666666666666, \"#ed7953\"], [0.7777777777777778, \"#fb9f3a\"], [0.8888888888888888, \"#fdca26\"], [1.0, \"#f0f921\"]], \"type\": \"contour\"}], \"contourcarpet\": [{\"colorbar\": {\"outlinewidth\": 0, \"ticks\": \"\"}, \"type\": \"contourcarpet\"}], \"heatmap\": [{\"colorbar\": {\"outlinewidth\": 0, \"ticks\": \"\"}, \"colorscale\": [[0.0, \"#0d0887\"], [0.1111111111111111, \"#46039f\"], [0.2222222222222222, \"#7201a8\"], [0.3333333333333333, \"#9c179e\"], [0.4444444444444444, \"#bd3786\"], [0.5555555555555556, \"#d8576b\"], [0.6666666666666666, \"#ed7953\"], [0.7777777777777778, \"#fb9f3a\"], [0.8888888888888888, \"#fdca26\"], [1.0, \"#f0f921\"]], \"type\": \"heatmap\"}], \"heatmapgl\": [{\"colorbar\": {\"outlinewidth\": 0, \"ticks\": \"\"}, \"colorscale\": [[0.0, \"#0d0887\"], [0.1111111111111111, \"#46039f\"], [0.2222222222222222, \"#7201a8\"], [0.3333333333333333, \"#9c179e\"], [0.4444444444444444, \"#bd3786\"], [0.5555555555555556, \"#d8576b\"], [0.6666666666666666, \"#ed7953\"], [0.7777777777777778, \"#fb9f3a\"], [0.8888888888888888, \"#fdca26\"], [1.0, \"#f0f921\"]], \"type\": \"heatmapgl\"}], \"histogram\": [{\"marker\": {\"colorbar\": {\"outlinewidth\": 0, \"ticks\": \"\"}}, \"type\": \"histogram\"}], \"histogram2d\": [{\"colorbar\": {\"outlinewidth\": 0, \"ticks\": \"\"}, \"colorscale\": [[0.0, \"#0d0887\"], [0.1111111111111111, \"#46039f\"], [0.2222222222222222, \"#7201a8\"], [0.3333333333333333, \"#9c179e\"], [0.4444444444444444, \"#bd3786\"], [0.5555555555555556, \"#d8576b\"], [0.6666666666666666, \"#ed7953\"], [0.7777777777777778, \"#fb9f3a\"], [0.8888888888888888, \"#fdca26\"], [1.0, \"#f0f921\"]], \"type\": \"histogram2d\"}], \"histogram2dcontour\": [{\"colorbar\": {\"outlinewidth\": 0, \"ticks\": \"\"}, \"colorscale\": [[0.0, \"#0d0887\"], [0.1111111111111111, \"#46039f\"], [0.2222222222222222, \"#7201a8\"], [0.3333333333333333, \"#9c179e\"], [0.4444444444444444, \"#bd3786\"], [0.5555555555555556, \"#d8576b\"], [0.6666666666666666, \"#ed7953\"], [0.7777777777777778, \"#fb9f3a\"], [0.8888888888888888, \"#fdca26\"], [1.0, \"#f0f921\"]], \"type\": \"histogram2dcontour\"}], \"mesh3d\": [{\"colorbar\": {\"outlinewidth\": 0, \"ticks\": \"\"}, \"type\": \"mesh3d\"}], \"parcoords\": [{\"line\": {\"colorbar\": {\"outlinewidth\": 0, \"ticks\": \"\"}}, \"type\": \"parcoords\"}], \"pie\": [{\"automargin\": true, \"type\": \"pie\"}], \"scatter\": [{\"marker\": {\"colorbar\": {\"outlinewidth\": 0, \"ticks\": \"\"}}, \"type\": \"scatter\"}], \"scatter3d\": [{\"line\": {\"colorbar\": {\"outlinewidth\": 0, \"ticks\": \"\"}}, \"marker\": {\"colorbar\": {\"outlinewidth\": 0, \"ticks\": \"\"}}, \"type\": \"scatter3d\"}], \"scattercarpet\": [{\"marker\": {\"colorbar\": {\"outlinewidth\": 0, \"ticks\": \"\"}}, \"type\": \"scattercarpet\"}], \"scattergeo\": [{\"marker\": {\"colorbar\": {\"outlinewidth\": 0, \"ticks\": \"\"}}, \"type\": \"scattergeo\"}], \"scattergl\": [{\"marker\": {\"colorbar\": {\"outlinewidth\": 0, \"ticks\": \"\"}}, \"type\": \"scattergl\"}], \"scattermapbox\": [{\"marker\": {\"colorbar\": {\"outlinewidth\": 0, \"ticks\": \"\"}}, \"type\": \"scattermapbox\"}], \"scatterpolar\": [{\"marker\": {\"colorbar\": {\"outlinewidth\": 0, \"ticks\": \"\"}}, \"type\": \"scatterpolar\"}], \"scatterpolargl\": [{\"marker\": {\"colorbar\": {\"outlinewidth\": 0, \"ticks\": \"\"}}, \"type\": \"scatterpolargl\"}], \"scatterternary\": [{\"marker\": {\"colorbar\": {\"outlinewidth\": 0, \"ticks\": \"\"}}, \"type\": \"scatterternary\"}], \"surface\": [{\"colorbar\": {\"outlinewidth\": 0, \"ticks\": \"\"}, \"colorscale\": [[0.0, \"#0d0887\"], [0.1111111111111111, \"#46039f\"], [0.2222222222222222, \"#7201a8\"], [0.3333333333333333, \"#9c179e\"], [0.4444444444444444, \"#bd3786\"], [0.5555555555555556, \"#d8576b\"], [0.6666666666666666, \"#ed7953\"], [0.7777777777777778, \"#fb9f3a\"], [0.8888888888888888, \"#fdca26\"], [1.0, \"#f0f921\"]], \"type\": \"surface\"}], \"table\": [{\"cells\": {\"fill\": {\"color\": \"#EBF0F8\"}, \"line\": {\"color\": \"white\"}}, \"header\": {\"fill\": {\"color\": \"#C8D4E3\"}, \"line\": {\"color\": \"white\"}}, \"type\": \"table\"}]}, \"layout\": {\"annotationdefaults\": {\"arrowcolor\": \"#2a3f5f\", \"arrowhead\": 0, \"arrowwidth\": 1}, \"coloraxis\": {\"colorbar\": {\"outlinewidth\": 0, \"ticks\": \"\"}}, \"colorscale\": {\"diverging\": [[0, \"#8e0152\"], [0.1, \"#c51b7d\"], [0.2, \"#de77ae\"], [0.3, \"#f1b6da\"], [0.4, \"#fde0ef\"], [0.5, \"#f7f7f7\"], [0.6, \"#e6f5d0\"], [0.7, \"#b8e186\"], [0.8, \"#7fbc41\"], [0.9, \"#4d9221\"], [1, \"#276419\"]], \"sequential\": [[0.0, \"#0d0887\"], [0.1111111111111111, \"#46039f\"], [0.2222222222222222, \"#7201a8\"], [0.3333333333333333, \"#9c179e\"], [0.4444444444444444, \"#bd3786\"], [0.5555555555555556, \"#d8576b\"], [0.6666666666666666, \"#ed7953\"], [0.7777777777777778, \"#fb9f3a\"], [0.8888888888888888, \"#fdca26\"], [1.0, \"#f0f921\"]], \"sequentialminus\": [[0.0, \"#0d0887\"], [0.1111111111111111, \"#46039f\"], [0.2222222222222222, \"#7201a8\"], [0.3333333333333333, \"#9c179e\"], [0.4444444444444444, \"#bd3786\"], [0.5555555555555556, \"#d8576b\"], [0.6666666666666666, \"#ed7953\"], [0.7777777777777778, \"#fb9f3a\"], [0.8888888888888888, \"#fdca26\"], [1.0, \"#f0f921\"]]}, \"colorway\": [\"#636efa\", \"#EF553B\", \"#00cc96\", \"#ab63fa\", \"#FFA15A\", \"#19d3f3\", \"#FF6692\", \"#B6E880\", \"#FF97FF\", \"#FECB52\"], \"font\": {\"color\": \"#2a3f5f\"}, \"geo\": {\"bgcolor\": \"white\", \"lakecolor\": \"white\", \"landcolor\": \"#E5ECF6\", \"showlakes\": true, \"showland\": true, \"subunitcolor\": \"white\"}, \"hoverlabel\": {\"align\": \"left\"}, \"hovermode\": \"closest\", \"mapbox\": {\"style\": \"light\"}, \"paper_bgcolor\": \"white\", \"plot_bgcolor\": \"#E5ECF6\", \"polar\": {\"angularaxis\": {\"gridcolor\": \"white\", \"linecolor\": \"white\", \"ticks\": \"\"}, \"bgcolor\": \"#E5ECF6\", \"radialaxis\": {\"gridcolor\": \"white\", \"linecolor\": \"white\", \"ticks\": \"\"}}, \"scene\": {\"xaxis\": {\"backgroundcolor\": \"#E5ECF6\", \"gridcolor\": \"white\", \"gridwidth\": 2, \"linecolor\": \"white\", \"showbackground\": true, \"ticks\": \"\", \"zerolinecolor\": \"white\"}, \"yaxis\": {\"backgroundcolor\": \"#E5ECF6\", \"gridcolor\": \"white\", \"gridwidth\": 2, \"linecolor\": \"white\", \"showbackground\": true, \"ticks\": \"\", \"zerolinecolor\": \"white\"}, \"zaxis\": {\"backgroundcolor\": \"#E5ECF6\", \"gridcolor\": \"white\", \"gridwidth\": 2, \"linecolor\": \"white\", \"showbackground\": true, \"ticks\": \"\", \"zerolinecolor\": \"white\"}}, \"shapedefaults\": {\"line\": {\"color\": \"#2a3f5f\"}}, \"ternary\": {\"aaxis\": {\"gridcolor\": \"white\", \"linecolor\": \"white\", \"ticks\": \"\"}, \"baxis\": {\"gridcolor\": \"white\", \"linecolor\": \"white\", \"ticks\": \"\"}, \"bgcolor\": \"#E5ECF6\", \"caxis\": {\"gridcolor\": \"white\", \"linecolor\": \"white\", \"ticks\": \"\"}}, \"title\": {\"x\": 0.05}, \"xaxis\": {\"automargin\": true, \"gridcolor\": \"white\", \"linecolor\": \"white\", \"ticks\": \"\", \"title\": {\"standoff\": 15}, \"zerolinecolor\": \"white\", \"zerolinewidth\": 2}, \"yaxis\": {\"automargin\": true, \"gridcolor\": \"white\", \"linecolor\": \"white\", \"ticks\": \"\", \"title\": {\"standoff\": 15}, \"zerolinecolor\": \"white\", \"zerolinewidth\": 2}}}, \"title\": {\"text\": \"\\u0414\\u0438\\u043d\\u0430\\u043c\\u0438\\u043a\\u0430 \\u043f\\u0440\\u043e\\u0434\\u0430\\u0436 \\u0442\\u043e\\u043f-5 \\u043c\\u0430\\u0433\\u0430\\u0437\\u0438\\u043d\\u043e\\u0432 \\u0437\\u0430 \\u0432\\u0441\\u0435 \\u0432\\u0440\\u0435\\u043c\\u044f\"}, \"xaxis\": {\"anchor\": \"y\", \"domain\": [0.0, 1.0], \"title\": {\"text\": \"Date\"}}, \"yaxis\": {\"anchor\": \"x\", \"domain\": [0.0, 1.0], \"title\": {\"text\": \"Weekly Sales\"}}},\n",
              "                        {\"responsive\": true}\n",
              "                    ).then(function(){\n",
              "                            \n",
              "var gd = document.getElementById('65becf81-414f-4f50-b373-9c818b15dce8');\n",
              "var x = new MutationObserver(function (mutations, observer) {{\n",
              "        var display = window.getComputedStyle(gd).display;\n",
              "        if (!display || display === 'none') {{\n",
              "            console.log([gd, 'removed!']);\n",
              "            Plotly.purge(gd);\n",
              "            observer.disconnect();\n",
              "        }}\n",
              "}});\n",
              "\n",
              "// Listen for the removal of the full notebook cells\n",
              "var notebookContainer = gd.closest('#notebook-container');\n",
              "if (notebookContainer) {{\n",
              "    x.observe(notebookContainer, {childList: true});\n",
              "}}\n",
              "\n",
              "// Listen for the clearing of the current output cell\n",
              "var outputEl = gd.closest('.output');\n",
              "if (outputEl) {{\n",
              "    x.observe(outputEl, {childList: true});\n",
              "}}\n",
              "\n",
              "                        })\n",
              "                };\n",
              "                \n",
              "            </script>\n",
              "        </div>\n",
              "</body>\n",
              "</html>"
            ]
          },
          "metadata": {
            "tags": []
          }
        }
      ]
    },
    {
      "cell_type": "code",
      "metadata": {
        "id": "zukYZFw6idH0",
        "colab_type": "code",
        "outputId": "3517dd93-59cf-4930-ac49-b8b3114b57e3",
        "colab": {
          "base_uri": "https://localhost:8080/",
          "height": 457
        }
      },
      "source": [
        "#Отберем данные только за 2011 год\n",
        "y2011 = df[df.apply(lambda x: (x['Date'].year), axis=1)==2011] #and df['Type']=='A']\n",
        "#Найдем топ-10 отделов по суммарным продажам за 2011 год среди магазинов типа А\n",
        "top10 = y2011[y2011['Type']=='A'].groupby('Dept', as_index=False).sum().nlargest(10,'Weekly_Sales').astype({'Dept': 'str'})\n",
        "#Нарисуем столбчатую диаграмму\n",
        "plt.style.use('seaborn')\n",
        "fig, ax = plt.subplots(figsize=(10,7))\n",
        "ax.bar(top10['Dept'],height=top10['Weekly_Sales']/1000000)\n",
        "ax.set_title('Топ-10 отделов по суммарным продажам за 2011 год среди магазинов типа А')\n",
        "ax.set_xlabel('Номера отделов')\n",
        "ax.set_ylabel('Объем продаж (млн)')\n",
        "plt.show()"
      ],
      "execution_count": 0,
      "outputs": [
        {
          "output_type": "display_data",
          "data": {
            "image/png": "[encoded data removed]",
            "text/plain": [
              "<Figure size 720x504 with 1 Axes>"
            ]
          },
          "metadata": {
            "tags": []
          }
        }
      ]
    },
    {
      "cell_type": "markdown",
      "metadata": {
        "id": "eGSDF2bhYreK",
        "colab_type": "text"
      },
      "source": [
        "## 5. Парадокс дней рождений (30 баллов)"
      ]
    },
    {
      "cell_type": "markdown",
      "metadata": {
        "id": "EcvIgT7NYreK",
        "colab_type": "text"
      },
      "source": [
        "Прочитайте на википедии про [парадокс дней рождений](https://ru.wikipedia.org/wiki/Парадокс_дней_рождения). В этой задаче нам предстоит его проверить. Итак, в произвольной группе из  $50$ человек вероятность того, что хотя бы у двоих людей дни рождения совпадут, равна  $0.97$. Но это всё только в теории. При решении задачи мы предполагаем, что рождения людей равномерно распределены в течение года. Однако на практике это может быть не так. В связи с этим реальная вероятность может отличаться от теоретической.\n",
        "\n",
        "В этой задачке вам предстоит проверить парадокс дней рождений на эмпирических данных. От вас требуется:\n",
        "1. Выбрать какое-то большое сообщество в Vk. С помощью VkAPI выкачать инфорацию по ее подписчикам (самое главное это дата рождения, а также id пользователя, который будет его характеризовать. Не оставляйте свой токен \n",
        "2. Удалите из данных всех, кто не указал когда он родился. Приведите колонку с датами рождений к удобному, однообразному виду.\n",
        "3. Постройте гистограмму, на которой было бы понятно, в какой месяц родилось какое количество людей. Правда ли, что рождаемость людей в течение года распределена равномерно?\n",
        "4. Эмпирически оцените вероятность того, что в группе из 50 произвольных людей найдутся хотя бы двое с одинаковым днём рождения. Для этого напишите цикл, в ходе которого из таблички будет делаться подвыборка из 50 строк. Для этих 50 строк внутри условия вы должны проверить совпадение дней рождений. Если совпало, то нужно запомнить это в переменную счётчик, которую вы впоследствии, чтобы получить вероятность, поделите на длину цикла.\n",
        "\n",
        "**Обратите внимание, что часто придётся прогонять один и тот же код. Не надо его копировать. Оформите его в виде функции.** "
      ]
    },
    {
      "cell_type": "markdown",
      "metadata": {
        "id": "TSpw2iXRP_wX",
        "colab_type": "text"
      },
      "source": [
        "###Загрузим нужные нам данные из VK"
      ]
    },
    {
      "cell_type": "code",
      "metadata": {
        "id": "XUMkU5Kh8GN_",
        "colab_type": "code",
        "colab": {}
      },
      "source": [
        "import requests\n",
        "from tqdm import tqdm\n",
        "import pandas as pd\n",
        "import numpy as np\n",
        "import matplotlib.pyplot as plt\n"
      ],
      "execution_count": 0,
      "outputs": []
    },
    {
      "cell_type": "code",
      "metadata": {
        "id": "DM6D6pCU7ZRz",
        "colab_type": "code",
        "colab": {}
      },
      "source": [
        "#lentach\n",
        "def lentach(offset):\n",
        "  page = requests.get('https://api.vk.com/method/groups.getMembers?group_id=29534144&offset={}&fields=bdate&access_token=....&v=5.103'.format(offset))\n",
        "  a = page.json()['response']['items']\n",
        "  birthdays = []\n",
        "  for i in a:\n",
        "    try:\n",
        "      bday = i['bdate']\n",
        "      birthdays.append([bday, i['id']])\n",
        "    except:\n",
        "      birthdays.append([np.nan, i['id']])\n",
        "  return birthdays "
      ],
      "execution_count": 0,
      "outputs": []
    },
    {
      "cell_type": "code",
      "metadata": {
        "id": "en46qF_nOOfj",
        "colab_type": "code",
        "outputId": "db0539d4-7c04-497d-c40d-1f41f6def151",
        "colab": {
          "base_uri": "https://localhost:8080/",
          "height": 35
        }
      },
      "source": [
        "#ВК ставит ограничение на скачивание информации о 1000 пользователях за раз\n",
        "#обойдем это с помощью цикла\n",
        "all = []\n",
        "for i in tqdm(range(0,2275000,1000)):\n",
        "  a = lentach(i)\n",
        "  for i in a:\n",
        "    all.append(i)"
      ],
      "execution_count": 0,
      "outputs": [
        {
          "output_type": "stream",
          "text": [
            "100%|██████████| 2275/2275 [29:16<00:00,  1.30it/s]\n"
          ],
          "name": "stderr"
        }
      ]
    },
    {
      "cell_type": "code",
      "metadata": {
        "id": "w3303cXWPxSP",
        "colab_type": "code",
        "colab": {}
      },
      "source": [
        "df = pd.DataFrame(all, columns = ('Дата рождения', 'ID'))"
      ],
      "execution_count": 0,
      "outputs": []
    },
    {
      "cell_type": "code",
      "metadata": {
        "id": "fTvj_nuvL8Q-",
        "colab_type": "code",
        "outputId": "8ab3f991-3195-49c9-82d7-88810023e3f3",
        "colab": {
          "base_uri": "https://localhost:8080/",
          "height": 415
        }
      },
      "source": [
        "df = df.dropna().reset_index(drop=True)\n",
        "df"
      ],
      "execution_count": 0,
      "outputs": [
        {
          "output_type": "execute_result",
          "data": {
            "text/html": [
              "<div>\n",
              "<style scoped>\n",
              "    .dataframe tbody tr th:only-of-type {\n",
              "        vertical-align: middle;\n",
              "    }\n",
              "\n",
              "    .dataframe tbody tr th {\n",
              "        vertical-align: top;\n",
              "    }\n",
              "\n",
              "    .dataframe thead th {\n",
              "        text-align: right;\n",
              "    }\n",
              "</style>\n",
              "<table border=\"1\" class=\"dataframe\">\n",
              "  <thead>\n",
              "    <tr style=\"text-align: right;\">\n",
              "      <th></th>\n",
              "      <th>Дата рождения</th>\n",
              "      <th>ID</th>\n",
              "    </tr>\n",
              "  </thead>\n",
              "  <tbody>\n",
              "    <tr>\n",
              "      <th>0</th>\n",
              "      <td>23.4</td>\n",
              "      <td>177</td>\n",
              "    </tr>\n",
              "    <tr>\n",
              "      <th>1</th>\n",
              "      <td>19.4</td>\n",
              "      <td>212</td>\n",
              "    </tr>\n",
              "    <tr>\n",
              "      <th>2</th>\n",
              "      <td>19.6</td>\n",
              "      <td>266</td>\n",
              "    </tr>\n",
              "    <tr>\n",
              "      <th>3</th>\n",
              "      <td>14.11.1985</td>\n",
              "      <td>431</td>\n",
              "    </tr>\n",
              "    <tr>\n",
              "      <th>4</th>\n",
              "      <td>24.12.1988</td>\n",
              "      <td>495</td>\n",
              "    </tr>\n",
              "    <tr>\n",
              "      <th>...</th>\n",
              "      <td>...</td>\n",
              "      <td>...</td>\n",
              "    </tr>\n",
              "    <tr>\n",
              "      <th>1484921</th>\n",
              "      <td>3.6.1995</td>\n",
              "      <td>587928946</td>\n",
              "    </tr>\n",
              "    <tr>\n",
              "      <th>1484922</th>\n",
              "      <td>19.3.2001</td>\n",
              "      <td>587930020</td>\n",
              "    </tr>\n",
              "    <tr>\n",
              "      <th>1484923</th>\n",
              "      <td>18.3.2002</td>\n",
              "      <td>587931149</td>\n",
              "    </tr>\n",
              "    <tr>\n",
              "      <th>1484924</th>\n",
              "      <td>1.6.1928</td>\n",
              "      <td>587931523</td>\n",
              "    </tr>\n",
              "    <tr>\n",
              "      <th>1484925</th>\n",
              "      <td>20.6.1962</td>\n",
              "      <td>587932568</td>\n",
              "    </tr>\n",
              "  </tbody>\n",
              "</table>\n",
              "<p>1484926 rows × 2 columns</p>\n",
              "</div>"
            ],
            "text/plain": [
              "        Дата рождения         ID\n",
              "0                23.4        177\n",
              "1                19.4        212\n",
              "2                19.6        266\n",
              "3          14.11.1985        431\n",
              "4          24.12.1988        495\n",
              "...               ...        ...\n",
              "1484921      3.6.1995  587928946\n",
              "1484922     19.3.2001  587930020\n",
              "1484923     18.3.2002  587931149\n",
              "1484924      1.6.1928  587931523\n",
              "1484925     20.6.1962  587932568\n",
              "\n",
              "[1484926 rows x 2 columns]"
            ]
          },
          "metadata": {
            "tags": []
          },
          "execution_count": 292
        }
      ]
    },
    {
      "cell_type": "markdown",
      "metadata": {
        "id": "Y8Z2Yo6k-0DA",
        "colab_type": "text"
      },
      "source": [
        "Уберем года, они нам не нужны"
      ]
    },
    {
      "cell_type": "code",
      "metadata": {
        "id": "0oqbv74e-7u6",
        "colab_type": "code",
        "colab": {}
      },
      "source": [
        "df['Дата рождения'] = [i if len(i)<=5 else i[:-5] for i in df['Дата рождения']]"
      ],
      "execution_count": 0,
      "outputs": []
    },
    {
      "cell_type": "markdown",
      "metadata": {
        "id": "09FXqlv6_Al_",
        "colab_type": "text"
      },
      "source": [
        "Люди как-то смогли поставить 29 и 31 февраля, нужно это убрать"
      ]
    },
    {
      "cell_type": "code",
      "metadata": {
        "id": "fkDkWg2vRFWt",
        "colab_type": "code",
        "colab": {}
      },
      "source": [
        "df['Дата рождения'] = [np.nan if i=='29.2' or i =='31.2' else i  for i in df['Дата рождения']]\n",
        "df = df.dropna().reset_index(drop=True)"
      ],
      "execution_count": 0,
      "outputs": []
    },
    {
      "cell_type": "code",
      "metadata": {
        "id": "ayQOZbdJwhK4",
        "colab_type": "code",
        "outputId": "26f9d0a9-1dce-4c7c-da93-0fbb138bff65",
        "colab": {
          "base_uri": "https://localhost:8080/",
          "height": 415
        }
      },
      "source": [
        "df"
      ],
      "execution_count": 0,
      "outputs": [
        {
          "output_type": "execute_result",
          "data": {
            "text/html": [
              "<div>\n",
              "<style scoped>\n",
              "    .dataframe tbody tr th:only-of-type {\n",
              "        vertical-align: middle;\n",
              "    }\n",
              "\n",
              "    .dataframe tbody tr th {\n",
              "        vertical-align: top;\n",
              "    }\n",
              "\n",
              "    .dataframe thead th {\n",
              "        text-align: right;\n",
              "    }\n",
              "</style>\n",
              "<table border=\"1\" class=\"dataframe\">\n",
              "  <thead>\n",
              "    <tr style=\"text-align: right;\">\n",
              "      <th></th>\n",
              "      <th>Дата рождения</th>\n",
              "      <th>ID</th>\n",
              "    </tr>\n",
              "  </thead>\n",
              "  <tbody>\n",
              "    <tr>\n",
              "      <th>0</th>\n",
              "      <td>23.4</td>\n",
              "      <td>177</td>\n",
              "    </tr>\n",
              "    <tr>\n",
              "      <th>1</th>\n",
              "      <td>19.4</td>\n",
              "      <td>212</td>\n",
              "    </tr>\n",
              "    <tr>\n",
              "      <th>2</th>\n",
              "      <td>19.6</td>\n",
              "      <td>266</td>\n",
              "    </tr>\n",
              "    <tr>\n",
              "      <th>3</th>\n",
              "      <td>14.11</td>\n",
              "      <td>431</td>\n",
              "    </tr>\n",
              "    <tr>\n",
              "      <th>4</th>\n",
              "      <td>24.12</td>\n",
              "      <td>495</td>\n",
              "    </tr>\n",
              "    <tr>\n",
              "      <th>...</th>\n",
              "      <td>...</td>\n",
              "      <td>...</td>\n",
              "    </tr>\n",
              "    <tr>\n",
              "      <th>1482847</th>\n",
              "      <td>3.6</td>\n",
              "      <td>587928946</td>\n",
              "    </tr>\n",
              "    <tr>\n",
              "      <th>1482848</th>\n",
              "      <td>19.3</td>\n",
              "      <td>587930020</td>\n",
              "    </tr>\n",
              "    <tr>\n",
              "      <th>1482849</th>\n",
              "      <td>18.3</td>\n",
              "      <td>587931149</td>\n",
              "    </tr>\n",
              "    <tr>\n",
              "      <th>1482850</th>\n",
              "      <td>1.6</td>\n",
              "      <td>587931523</td>\n",
              "    </tr>\n",
              "    <tr>\n",
              "      <th>1482851</th>\n",
              "      <td>20.6</td>\n",
              "      <td>587932568</td>\n",
              "    </tr>\n",
              "  </tbody>\n",
              "</table>\n",
              "<p>1482852 rows × 2 columns</p>\n",
              "</div>"
            ],
            "text/plain": [
              "        Дата рождения         ID\n",
              "0                23.4        177\n",
              "1                19.4        212\n",
              "2                19.6        266\n",
              "3               14.11        431\n",
              "4               24.12        495\n",
              "...               ...        ...\n",
              "1482847           3.6  587928946\n",
              "1482848          19.3  587930020\n",
              "1482849          18.3  587931149\n",
              "1482850           1.6  587931523\n",
              "1482851          20.6  587932568\n",
              "\n",
              "[1482852 rows x 2 columns]"
            ]
          },
          "metadata": {
            "tags": []
          },
          "execution_count": 295
        }
      ]
    },
    {
      "cell_type": "code",
      "metadata": {
        "id": "LA7-9Y-LTn6X",
        "colab_type": "code",
        "colab": {}
      },
      "source": [
        "from google.colab import files\n",
        "df.to_csv('birthdays.csv')\n",
        "files.download('birthdays.csv')"
      ],
      "execution_count": 0,
      "outputs": []
    },
    {
      "cell_type": "markdown",
      "metadata": {
        "id": "A7cESnq6sXpP",
        "colab_type": "text"
      },
      "source": [
        "###Теперь можем работать уже с готовыми данными из файла bithdays.csv"
      ]
    },
    {
      "cell_type": "code",
      "metadata": {
        "id": "1j4VmJP2uTCf",
        "colab_type": "code",
        "colab": {}
      },
      "source": [
        "df = pd.read_csv('/content/drive/My Drive/birthdays.csv')\n",
        "df.drop('Unnamed: 0', axis=1)"
      ],
      "execution_count": 0,
      "outputs": []
    },
    {
      "cell_type": "code",
      "metadata": {
        "id": "vYccPr521ilB",
        "colab_type": "code",
        "colab": {}
      },
      "source": [
        "df['Количество']=[1]*len(df)\n",
        "df['Дата рождения'] = list(map(str, df['Дата рождения']))\n",
        "df1 = df.groupby(by=df.apply(lambda x: (int(x['Дата рождения'].split('.')[1])), axis=1)).sum().drop('ID', axis=1)"
      ],
      "execution_count": 0,
      "outputs": []
    },
    {
      "cell_type": "code",
      "metadata": {
        "id": "lX4ZG1rIG0P3",
        "colab_type": "code",
        "outputId": "09776638-a5ee-452d-f1cd-d5e63b2991a6",
        "colab": {
          "base_uri": "https://localhost:8080/",
          "height": 417
        }
      },
      "source": [
        "df1"
      ],
      "execution_count": 0,
      "outputs": [
        {
          "output_type": "execute_result",
          "data": {
            "text/html": [
              "<div>\n",
              "<style scoped>\n",
              "    .dataframe tbody tr th:only-of-type {\n",
              "        vertical-align: middle;\n",
              "    }\n",
              "\n",
              "    .dataframe tbody tr th {\n",
              "        vertical-align: top;\n",
              "    }\n",
              "\n",
              "    .dataframe thead th {\n",
              "        text-align: right;\n",
              "    }\n",
              "</style>\n",
              "<table border=\"1\" class=\"dataframe\">\n",
              "  <thead>\n",
              "    <tr style=\"text-align: right;\">\n",
              "      <th></th>\n",
              "      <th>Количество</th>\n",
              "    </tr>\n",
              "  </thead>\n",
              "  <tbody>\n",
              "    <tr>\n",
              "      <th>1</th>\n",
              "      <td>133342</td>\n",
              "    </tr>\n",
              "    <tr>\n",
              "      <th>2</th>\n",
              "      <td>117605</td>\n",
              "    </tr>\n",
              "    <tr>\n",
              "      <th>3</th>\n",
              "      <td>127141</td>\n",
              "    </tr>\n",
              "    <tr>\n",
              "      <th>4</th>\n",
              "      <td>127396</td>\n",
              "    </tr>\n",
              "    <tr>\n",
              "      <th>5</th>\n",
              "      <td>128998</td>\n",
              "    </tr>\n",
              "    <tr>\n",
              "      <th>6</th>\n",
              "      <td>129555</td>\n",
              "    </tr>\n",
              "    <tr>\n",
              "      <th>7</th>\n",
              "      <td>131664</td>\n",
              "    </tr>\n",
              "    <tr>\n",
              "      <th>8</th>\n",
              "      <td>126055</td>\n",
              "    </tr>\n",
              "    <tr>\n",
              "      <th>9</th>\n",
              "      <td>116513</td>\n",
              "    </tr>\n",
              "    <tr>\n",
              "      <th>10</th>\n",
              "      <td>116443</td>\n",
              "    </tr>\n",
              "    <tr>\n",
              "      <th>11</th>\n",
              "      <td>110536</td>\n",
              "    </tr>\n",
              "    <tr>\n",
              "      <th>12</th>\n",
              "      <td>117604</td>\n",
              "    </tr>\n",
              "  </tbody>\n",
              "</table>\n",
              "</div>"
            ],
            "text/plain": [
              "    Количество\n",
              "1       133342\n",
              "2       117605\n",
              "3       127141\n",
              "4       127396\n",
              "5       128998\n",
              "6       129555\n",
              "7       131664\n",
              "8       126055\n",
              "9       116513\n",
              "10      116443\n",
              "11      110536\n",
              "12      117604"
            ]
          },
          "metadata": {
            "tags": []
          },
          "execution_count": 298
        }
      ]
    },
    {
      "cell_type": "code",
      "metadata": {
        "id": "dWMk-Xg2_9b3",
        "colab_type": "code",
        "outputId": "edbcad71-2ae1-4608-8e98-41b0c97da77d",
        "colab": {
          "base_uri": "https://localhost:8080/",
          "height": 457
        }
      },
      "source": [
        "plt.style.use('cyberpunk')\n",
        "fig, ax = plt.subplots(figsize=(10,7))\n",
        "ax.bar(df1.index, height=df1['Количество'])\n",
        "ax.set_xticks(df1.index)\n",
        "ax.set_ylabel('Число родившихся')\n",
        "ax.set_xlabel('Месяцы')\n",
        "ax.set_title('Распределение числа родившихся по месяцам')\n",
        "plt.show()"
      ],
      "execution_count": 0,
      "outputs": [
        {
          "output_type": "display_data",
          "data": {
            "image/png": "[encoded data removed]",
            "text/plain": [
              "<Figure size 720x504 with 1 Axes>"
            ]
          },
          "metadata": {
            "tags": []
          }
        }
      ]
    },
    {
      "cell_type": "markdown",
      "metadata": {
        "id": "OLjB5eaeWqww",
        "colab_type": "text"
      },
      "source": [
        "Мы действительно получили приблизительно равномерное распределение. Однако, мы получили не совсем справедливую выборку, поскольку в дефолтных настройках вк при регистрации даты стоит 01.01(многим лень менять на реальную дату, поэтому оставляют либо 01.01, либо немножко меняют день), что сильно влияет на высоту первого столбика. Также очень популярны красивые даты 05.05, 06.06 и тд., которые люди ставят просто так, что сдвигает нашу выборку, но несущественно.(самые популярные даты рождения см. ниже)"
      ]
    },
    {
      "cell_type": "code",
      "metadata": {
        "id": "8Zf5c9XZXm4k",
        "colab_type": "code",
        "outputId": "40069ff7-32b5-47c3-f85a-c47cf3036ffc",
        "colab": {
          "base_uri": "https://localhost:8080/",
          "height": 386
        }
      },
      "source": [
        "df.groupby('Дата рождения').sum().drop('ID', axis=1).sort_values('Количество',ascending=False).head(10)"
      ],
      "execution_count": 0,
      "outputs": [
        {
          "output_type": "execute_result",
          "data": {
            "text/html": [
              "<div>\n",
              "<style scoped>\n",
              "    .dataframe tbody tr th:only-of-type {\n",
              "        vertical-align: middle;\n",
              "    }\n",
              "\n",
              "    .dataframe tbody tr th {\n",
              "        vertical-align: top;\n",
              "    }\n",
              "\n",
              "    .dataframe thead th {\n",
              "        text-align: right;\n",
              "    }\n",
              "</style>\n",
              "<table border=\"1\" class=\"dataframe\">\n",
              "  <thead>\n",
              "    <tr style=\"text-align: right;\">\n",
              "      <th></th>\n",
              "      <th>Количество</th>\n",
              "    </tr>\n",
              "    <tr>\n",
              "      <th>Дата рождения</th>\n",
              "      <th></th>\n",
              "    </tr>\n",
              "  </thead>\n",
              "  <tbody>\n",
              "    <tr>\n",
              "      <th>1.1</th>\n",
              "      <td>13447</td>\n",
              "    </tr>\n",
              "    <tr>\n",
              "      <th>1.2</th>\n",
              "      <td>6597</td>\n",
              "    </tr>\n",
              "    <tr>\n",
              "      <th>1.4</th>\n",
              "      <td>6448</td>\n",
              "    </tr>\n",
              "    <tr>\n",
              "      <th>7.7</th>\n",
              "      <td>5725</td>\n",
              "    </tr>\n",
              "    <tr>\n",
              "      <th>6.6</th>\n",
              "      <td>5643</td>\n",
              "    </tr>\n",
              "    <tr>\n",
              "      <th>5.5</th>\n",
              "      <td>5333</td>\n",
              "    </tr>\n",
              "    <tr>\n",
              "      <th>1.3</th>\n",
              "      <td>5275</td>\n",
              "    </tr>\n",
              "    <tr>\n",
              "      <th>1.6</th>\n",
              "      <td>5097</td>\n",
              "    </tr>\n",
              "    <tr>\n",
              "      <th>3.3</th>\n",
              "      <td>4952</td>\n",
              "    </tr>\n",
              "    <tr>\n",
              "      <th>5.6</th>\n",
              "      <td>4922</td>\n",
              "    </tr>\n",
              "  </tbody>\n",
              "</table>\n",
              "</div>"
            ],
            "text/plain": [
              "               Количество\n",
              "Дата рождения            \n",
              "1.1                 13447\n",
              "1.2                  6597\n",
              "1.4                  6448\n",
              "7.7                  5725\n",
              "6.6                  5643\n",
              "5.5                  5333\n",
              "1.3                  5275\n",
              "1.6                  5097\n",
              "3.3                  4952\n",
              "5.6                  4922"
            ]
          },
          "metadata": {
            "tags": []
          },
          "execution_count": 300
        }
      ]
    },
    {
      "cell_type": "code",
      "metadata": {
        "id": "sVCFdSFPuyT0",
        "colab_type": "code",
        "outputId": "2938ceac-1bec-47c9-e16d-03ea3cc3a40a",
        "colab": {
          "base_uri": "https://localhost:8080/",
          "height": 72
        }
      },
      "source": [
        "#Выбор без возвращения можно делать тремя разными способами,которые существенно не отличаются по скорости\n",
        "#поэтому оставим самый простой код через df.sample\n",
        "cnt=0\n",
        "number = 10000\n",
        "for i in tqdm(range(number)):\n",
        "  #a = np.random.choice(len(df), 50, replace=False)\n",
        "  #a = np.random.permutation(np.arange(len(df)))[:50]\n",
        "  #if df.loc[a, 'Дата рождения'].nunique()< 50:\n",
        "  if df['Дата рождения'].sample(50,replace=False).nunique() < 50:\n",
        "    cnt +=1\n",
        "print('Вероятность того, что в группе из 50 произвольных людей найдутся хотя бы двое с одинаковым днём рождения:' ,cnt/number)"
      ],
      "execution_count": 0,
      "outputs": [
        {
          "output_type": "stream",
          "text": [
            "100%|██████████| 10000/10000 [06:34<00:00, 25.33it/s]"
          ],
          "name": "stderr"
        },
        {
          "output_type": "stream",
          "text": [
            "Вероятность того, что в группе из 50 произвольных людей найдутся хотя бы двое с одинаковым днём рождения: 0.9752\n"
          ],
          "name": "stdout"
        },
        {
          "output_type": "stream",
          "text": [
            "\n"
          ],
          "name": "stderr"
        }
      ]
    }
  ]
}