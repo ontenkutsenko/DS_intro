{
  "nbformat": 4,
  "nbformat_minor": 0,
  "metadata": {
    "colab": {
      "name": "IMDB",
      "provenance": [],
      "collapsed_sections": [
        "RJ6u7-fBVd1z",
        "njRiJgY2cqai"
      ]
    },
    "kernelspec": {
      "display_name": "Python 3",
      "name": "python3"
    }
  },
  "cells": [
    {
      "cell_type": "code",
      "metadata": {
        "id": "1oOb2OWclTwh",
        "colab_type": "code",
        "colab": {}
      },
      "source": [
        "import requests  \n",
        "from bs4 import BeautifulSoup\n",
        "import numpy as np\n",
        "import pandas as pd\n",
        "from tqdm import tqdm\n",
        "import matplotlib.pyplot as plt\n",
        "import seaborn as sns"
      ],
      "execution_count": 0,
      "outputs": []
    },
    {
      "cell_type": "code",
      "metadata": {
        "id": "Hvc2xIqUY8Sm",
        "colab_type": "code",
        "colab": {}
      },
      "source": [
        "from google.colab import drive\n",
        "drive.mount('/content/drive')"
      ],
      "execution_count": 0,
      "outputs": []
    },
    {
      "cell_type": "markdown",
      "metadata": {
        "id": "RJ6u7-fBVd1z",
        "colab_type": "text"
      },
      "source": [
        "###Парсинг IMDB"
      ]
    },
    {
      "cell_type": "markdown",
      "metadata": {
        "id": "EJJQDA6qkm55",
        "colab_type": "text"
      },
      "source": [
        "Выберем самые популярные жанры фильмов на IMDB и загрузим их в список genres"
      ]
    },
    {
      "cell_type": "code",
      "metadata": {
        "id": "xs7Jmxp_SPOx",
        "colab_type": "code",
        "colab": {}
      },
      "source": [
        "response = requests.get(f'https://www.imdb.com/chart/top/?ref_=nv_mv_250')\n",
        "ki = BeautifulSoup(response.content, 'html.parser')\n",
        "genres = []\n",
        "for i in ki.find_all('li', class_=\"subnav_item_main\"):\n",
        "  genres.append(i.text.strip().lower())\n",
        "genres = [ i for i in genres if i != 'film-noir'] #нуар уберем, их слишком мало\n",
        "genres"
      ],
      "execution_count": 0,
      "outputs": []
    },
    {
      "cell_type": "markdown",
      "metadata": {
        "id": "-CNpYXbOWtFG",
        "colab_type": "text"
      },
      "source": [
        "Из каждого жанра достанем ссылки на фильмы с самым высоким рейтингом, где при этом число проглосовавших больше 25000"
      ]
    },
    {
      "cell_type": "code",
      "metadata": {
        "id": "o9_3SgTLQIlc",
        "colab_type": "code",
        "colab": {}
      },
      "source": [
        "ssilki = []\n",
        "for genre in tqdm(genres):\n",
        "  response = requests.get(f'https://www.imdb.com/search/title/?title_type=feature&num_votes=25000,&genres={genre}&sort=user_rating,desc&start=0&ref_=adv_nxt')\n",
        "  kin = BeautifulSoup(response.content, 'html.parser')\n",
        "  upperbound =int(kin.find('div', class_=\"desc\").text.split('of')[1].split('titles')[0].strip().replace(',', ''))\n",
        "  number = 1\n",
        "  while number < upperbound:\n",
        "    response = requests.get(f'https://www.imdb.com/search/title/?title_type=feature&num_votes=25000,&genres={genre}&sort=user_rating,desc&start={number}&ref_=adv_nxt')\n",
        "    kinch = BeautifulSoup(response.content, 'html.parser')\n",
        "    for i  in kinch.find_all('h3', class_=\"lister-item-header\"):\n",
        "      ssilki.append(i.a.get('href'))\n",
        "    print(genre + str(number))\n",
        "    number += 50"
      ],
      "execution_count": 0,
      "outputs": []
    },
    {
      "cell_type": "code",
      "metadata": {
        "id": "l5BLgm6yXl8t",
        "colab_type": "code",
        "outputId": "fc83b42b-a0d6-474d-ec20-ced7d1ab011b",
        "colab": {
          "base_uri": "https://localhost:8080/",
          "height": 34
        }
      },
      "source": [
        "len(ssilki)"
      ],
      "execution_count": 0,
      "outputs": [
        {
          "output_type": "execute_result",
          "data": {
            "text/plain": [
              "15724"
            ]
          },
          "metadata": {
            "tags": []
          },
          "execution_count": 222
        }
      ]
    },
    {
      "cell_type": "markdown",
      "metadata": {
        "id": "m07z_HEqXVvn",
        "colab_type": "text"
      },
      "source": [
        "Сохраним ссылки в текстовый документ, чтоб не пропали)"
      ]
    },
    {
      "cell_type": "code",
      "metadata": {
        "id": "PxY3eNN_YCp-",
        "colab_type": "code",
        "colab": {}
      },
      "source": [
        "f=open('ssilki.txt','w')\n",
        "s1='\\n'.join(ssilki)\n",
        "f.write(s1)\n",
        "from google.colab import files\n",
        "files.download('ssilki.txt')"
      ],
      "execution_count": 0,
      "outputs": []
    },
    {
      "cell_type": "markdown",
      "metadata": {
        "id": "P_aFPn5jXcpI",
        "colab_type": "text"
      },
      "source": [
        "Прочитаем их из созданного файла"
      ]
    },
    {
      "cell_type": "code",
      "metadata": {
        "id": "4OMGpo1_Y4Z7",
        "colab_type": "code",
        "colab": {}
      },
      "source": [
        "with open('/content/drive/My Drive/ssilki.txt') as f:\n",
        "  ssil = f.read().split()\n",
        "ssil"
      ],
      "execution_count": 0,
      "outputs": []
    },
    {
      "cell_type": "code",
      "metadata": {
        "id": "aza9b5JXZdxQ",
        "colab_type": "code",
        "outputId": "0b6ee3cf-df34-485d-dc21-4bc8d96879ad",
        "colab": {
          "base_uri": "https://localhost:8080/",
          "height": 34
        }
      },
      "source": [
        "len(set(ssil)) #сколько всего будем выкачивать фильмов"
      ],
      "execution_count": 0,
      "outputs": [
        {
          "output_type": "execute_result",
          "data": {
            "text/plain": [
              "5034"
            ]
          },
          "metadata": {
            "tags": []
          },
          "execution_count": 350
        }
      ]
    },
    {
      "cell_type": "code",
      "metadata": {
        "id": "6b6c4YhjoFNo",
        "colab_type": "code",
        "colab": {}
      },
      "source": [
        "ssil = list(set(ssil))"
      ],
      "execution_count": 0,
      "outputs": []
    },
    {
      "cell_type": "markdown",
      "metadata": {
        "id": "h0uo9ClPY0pK",
        "colab_type": "text"
      },
      "source": [
        "Теперь напишем функцию, которая будет переходить по ссылкам из нашего списка и забирать информацию про фильмы"
      ]
    },
    {
      "cell_type": "code",
      "metadata": {
        "id": "ObKR741e3afY",
        "colab_type": "code",
        "colab": {}
      },
      "source": [
        "def imdb(i):\n",
        "  lol = []\n",
        "  try:\n",
        "    response = requests.get(f'https://www.imdb.com{i}')\n",
        "    film = BeautifulSoup(response.content, 'html.parser')\n",
        "    lol.append(film.find('div', class_='title_wrapper').h1.text.strip().replace('\\xa0','')) #название\n",
        "    f = [i.text for i in film.find_all('div', class_=\"txt-block\")]\n",
        "    e = [i.text for i in film.find_all('div', class_=\"see-more inline canwrap\")]\n",
        "    try:\n",
        "      lol.append(e[[j.find('\\nGenres:') for j in e].index(0)].replace('\\nGenres:', '').split()[0]) #жанр\n",
        "    except:\n",
        "      lol.append(np.nan)\n",
        "    try:\n",
        "      lol.append(f[[j.find('\\nCountry') for j in f].index(0)].replace('Country:', '').split('|')[0].strip()) #страна производства, если несколько то 1\n",
        "    except:\n",
        "      lol.append(np.nan)\n",
        "    try:\n",
        "      lol.append(f[[j.find('\\nLanguage:') for j in f].index(0)].replace('Language:', '').replace('|','').split()[0]) #язык\n",
        "    except:\n",
        "      lol.append(np.nan)\n",
        "    try:\n",
        "      lol.append(float(film.find('span', itemprop=\"ratingValue\").text)) #рейтинг\n",
        "    except:\n",
        "      lol.append(np.nan)\n",
        "    try:\n",
        "      lol.append(int(film.find('span', itemprop=\"ratingCount\").text.replace(\",\", ''))) #колво проголосовавших\n",
        "    except:\n",
        "      lol.append(np.nan)\n",
        "    try:\n",
        "      lol.append(int(f[[j.find('\\nBudget:') for j in f].index(0)].replace('\\nBudget:', '').split()[0].replace(',', '').replace('$',''))) #бюджет\n",
        "    except:\n",
        "      lol.append(np.nan)\n",
        "    try:\n",
        "      lol.append(int(f[[j.find('\\nCumulative Worldwide Gross:') for j in f].index(0)].replace('\\nCumulative Worldwide Gross:', '').split()[0].replace(',', '').replace('$',''))) #заработок в мире\n",
        "    except:\n",
        "      lol.append(np.nan)\n",
        "    try:\n",
        "      lol.append(film.find('div', class_=\"metacriticScore score_favorable titleReviewBarSubItem\").text.strip()) #метакритик ревью\n",
        "    except:\n",
        "      lol.append(np.nan)\n",
        "    try:\n",
        "      lol.append(f[[j.find('\\nColor') for j in f].index(0)].replace('Color:', '').replace('|','').split()[0]) #цвет\n",
        "    except:\n",
        "      lol.append(np.nan)\n",
        "    try:\n",
        "      lol.append(f[[j.find('\\nSound Mix') for j in f].index(0)].replace('Sound Mix:', '').replace('|','').split()[0]) #звук\n",
        "    except:\n",
        "      lol.append(np.nan)\n",
        "    try:\n",
        "      lol.append(f[[j.find('\\nRelease Date') for j in f].index(0)].replace('\\nRelease Date:', '').split('(')[0].strip()) #дата выхода\n",
        "    except:\n",
        "      lol.append(np.nan)\n",
        "    try:\n",
        "      lol.append(film.time.text.strip()) #длительность\n",
        "    except:\n",
        "      lol.append(np.nan)\n",
        "    return lol\n",
        "  except:\n",
        "    lol.append(np.nan)"
      ],
      "execution_count": 0,
      "outputs": []
    },
    {
      "cell_type": "markdown",
      "metadata": {
        "id": "a_OCvkARZA1P",
        "colab_type": "text"
      },
      "source": [
        "С помощью мультипроцессинга, чтоб было быстрее, загрузим нужную информацию, а потом оформим датафрейм и сохраним его"
      ]
    },
    {
      "cell_type": "code",
      "metadata": {
        "id": "ecZA0lPFZwcD",
        "colab_type": "code",
        "outputId": "178709b4-04b2-4659-c8f7-af029041f447",
        "colab": {
          "base_uri": "https://localhost:8080/",
          "height": 70
        }
      },
      "source": [
        "%%time\n",
        "from multiprocessing import Pool\n",
        "with Pool(50) as p:\n",
        "    yo = list(tqdm(p.imap(imdb, ssil)))"
      ],
      "execution_count": 0,
      "outputs": [
        {
          "output_type": "stream",
          "text": [
            "5034it [16:43,  5.02it/s]\n"
          ],
          "name": "stderr"
        },
        {
          "output_type": "stream",
          "text": [
            "CPU times: user 3.36 s, sys: 1.49 s, total: 4.85 s\n",
            "Wall time: 16min 44s\n"
          ],
          "name": "stdout"
        }
      ]
    },
    {
      "cell_type": "code",
      "metadata": {
        "id": "HIZAamefFP4u",
        "colab_type": "code",
        "outputId": "0a3f68ba-ba16-4a67-eb27-daac9d108612",
        "colab": {
          "base_uri": "https://localhost:8080/",
          "height": 685
        }
      },
      "source": [
        "df = pd.DataFrame(yo, columns=['Название', 'Жанр', 'Cтрана производства', 'Язык', 'Рейтинг', 'Количество проголосовавших','Бюджет', 'Заработок в мире', 'Metascore', 'Цвет', 'Звук', 'Дата выхода', 'Длительность'])\n",
        "df"
      ],
      "execution_count": 0,
      "outputs": [
        {
          "output_type": "execute_result",
          "data": {
            "text/html": [
              "<div>\n",
              "<style scoped>\n",
              "    .dataframe tbody tr th:only-of-type {\n",
              "        vertical-align: middle;\n",
              "    }\n",
              "\n",
              "    .dataframe tbody tr th {\n",
              "        vertical-align: top;\n",
              "    }\n",
              "\n",
              "    .dataframe thead th {\n",
              "        text-align: right;\n",
              "    }\n",
              "</style>\n",
              "<table border=\"1\" class=\"dataframe\">\n",
              "  <thead>\n",
              "    <tr style=\"text-align: right;\">\n",
              "      <th></th>\n",
              "      <th>Название</th>\n",
              "      <th>Жанр</th>\n",
              "      <th>Cтрана производства</th>\n",
              "      <th>Язык</th>\n",
              "      <th>Рейтинг</th>\n",
              "      <th>Количество проголосовавших</th>\n",
              "      <th>Бюджет</th>\n",
              "      <th>Заработок в мире</th>\n",
              "      <th>Metascore</th>\n",
              "      <th>Цвет</th>\n",
              "      <th>Звук</th>\n",
              "      <th>Дата выхода</th>\n",
              "      <th>Длительность</th>\n",
              "    </tr>\n",
              "  </thead>\n",
              "  <tbody>\n",
              "    <tr>\n",
              "      <th>0</th>\n",
              "      <td>Robin Hood(2018)</td>\n",
              "      <td>Action</td>\n",
              "      <td>USA</td>\n",
              "      <td>English</td>\n",
              "      <td>5.3</td>\n",
              "      <td>58894</td>\n",
              "      <td>100000000.0</td>\n",
              "      <td>86489031.0</td>\n",
              "      <td>NaN</td>\n",
              "      <td>Color</td>\n",
              "      <td>Dolby</td>\n",
              "      <td>21 November 2018</td>\n",
              "      <td>1h 56min</td>\n",
              "    </tr>\n",
              "    <tr>\n",
              "      <th>1</th>\n",
              "      <td>Finding Nemo(2003)</td>\n",
              "      <td>Animation</td>\n",
              "      <td>USA</td>\n",
              "      <td>English</td>\n",
              "      <td>8.1</td>\n",
              "      <td>918678</td>\n",
              "      <td>94000000.0</td>\n",
              "      <td>940343261.0</td>\n",
              "      <td>90</td>\n",
              "      <td>Color</td>\n",
              "      <td>DTS</td>\n",
              "      <td>30 May 2003</td>\n",
              "      <td>1h 40min</td>\n",
              "    </tr>\n",
              "    <tr>\n",
              "      <th>2</th>\n",
              "      <td>A Serious Man(2009)</td>\n",
              "      <td>Comedy</td>\n",
              "      <td>USA</td>\n",
              "      <td>English</td>\n",
              "      <td>7.0</td>\n",
              "      <td>128822</td>\n",
              "      <td>7000000.0</td>\n",
              "      <td>31430334.0</td>\n",
              "      <td>83</td>\n",
              "      <td>Color</td>\n",
              "      <td>DTS</td>\n",
              "      <td>6 November 2009</td>\n",
              "      <td>1h 46min</td>\n",
              "    </tr>\n",
              "    <tr>\n",
              "      <th>3</th>\n",
              "      <td>Detroit(2017)</td>\n",
              "      <td>Crime</td>\n",
              "      <td>USA</td>\n",
              "      <td>English</td>\n",
              "      <td>7.3</td>\n",
              "      <td>45204</td>\n",
              "      <td>34000000.0</td>\n",
              "      <td>23355100.0</td>\n",
              "      <td>77</td>\n",
              "      <td>Color</td>\n",
              "      <td>Dolby</td>\n",
              "      <td>4 August 2017</td>\n",
              "      <td>2h 23min</td>\n",
              "    </tr>\n",
              "    <tr>\n",
              "      <th>4</th>\n",
              "      <td>Replicas(2018)</td>\n",
              "      <td>Drama</td>\n",
              "      <td>UK</td>\n",
              "      <td>English</td>\n",
              "      <td>5.5</td>\n",
              "      <td>27748</td>\n",
              "      <td>30000000.0</td>\n",
              "      <td>9330075.0</td>\n",
              "      <td>NaN</td>\n",
              "      <td>Color</td>\n",
              "      <td>NaN</td>\n",
              "      <td>11 January 2019</td>\n",
              "      <td>1h 47min</td>\n",
              "    </tr>\n",
              "    <tr>\n",
              "      <th>...</th>\n",
              "      <td>...</td>\n",
              "      <td>...</td>\n",
              "      <td>...</td>\n",
              "      <td>...</td>\n",
              "      <td>...</td>\n",
              "      <td>...</td>\n",
              "      <td>...</td>\n",
              "      <td>...</td>\n",
              "      <td>...</td>\n",
              "      <td>...</td>\n",
              "      <td>...</td>\n",
              "      <td>...</td>\n",
              "      <td>...</td>\n",
              "    </tr>\n",
              "    <tr>\n",
              "      <th>5029</th>\n",
              "      <td>In Bruges(2008)</td>\n",
              "      <td>Comedy</td>\n",
              "      <td>UK</td>\n",
              "      <td>English</td>\n",
              "      <td>7.9</td>\n",
              "      <td>380040</td>\n",
              "      <td>15000000.0</td>\n",
              "      <td>34085749.0</td>\n",
              "      <td>67</td>\n",
              "      <td>Color</td>\n",
              "      <td>Dolby</td>\n",
              "      <td>29 February 2008</td>\n",
              "      <td>1h 47min</td>\n",
              "    </tr>\n",
              "    <tr>\n",
              "      <th>5030</th>\n",
              "      <td>The Changeling(1980)</td>\n",
              "      <td>Horror</td>\n",
              "      <td>Canada</td>\n",
              "      <td>English</td>\n",
              "      <td>7.2</td>\n",
              "      <td>28625</td>\n",
              "      <td>NaN</td>\n",
              "      <td>NaN</td>\n",
              "      <td>70</td>\n",
              "      <td>Color</td>\n",
              "      <td>Dolby</td>\n",
              "      <td>28 March 1980</td>\n",
              "      <td>1h 47min</td>\n",
              "    </tr>\n",
              "    <tr>\n",
              "      <th>5031</th>\n",
              "      <td>The Zookeeper's Wife(2017)</td>\n",
              "      <td>Biography</td>\n",
              "      <td>Czech Republic</td>\n",
              "      <td>English</td>\n",
              "      <td>7.0</td>\n",
              "      <td>36252</td>\n",
              "      <td>20000000.0</td>\n",
              "      <td>26152835.0</td>\n",
              "      <td>NaN</td>\n",
              "      <td>Color</td>\n",
              "      <td>Dolby</td>\n",
              "      <td>7 April 2017</td>\n",
              "      <td>2h 7min</td>\n",
              "    </tr>\n",
              "    <tr>\n",
              "      <th>5032</th>\n",
              "      <td>The Devil Inside(2012)</td>\n",
              "      <td>Horror</td>\n",
              "      <td>USA</td>\n",
              "      <td>English</td>\n",
              "      <td>4.2</td>\n",
              "      <td>34423</td>\n",
              "      <td>1000000.0</td>\n",
              "      <td>101758490.0</td>\n",
              "      <td>NaN</td>\n",
              "      <td>Color</td>\n",
              "      <td>Dolby</td>\n",
              "      <td>6 January 2012</td>\n",
              "      <td>1h 23min</td>\n",
              "    </tr>\n",
              "    <tr>\n",
              "      <th>5033</th>\n",
              "      <td>Friday the 13th Part 2(1981)</td>\n",
              "      <td>Horror</td>\n",
              "      <td>USA</td>\n",
              "      <td>English</td>\n",
              "      <td>6.1</td>\n",
              "      <td>56153</td>\n",
              "      <td>1250000.0</td>\n",
              "      <td>21722776.0</td>\n",
              "      <td>NaN</td>\n",
              "      <td>Color</td>\n",
              "      <td>Mono</td>\n",
              "      <td>30 April 1981</td>\n",
              "      <td>1h 27min</td>\n",
              "    </tr>\n",
              "  </tbody>\n",
              "</table>\n",
              "<p>5034 rows × 13 columns</p>\n",
              "</div>"
            ],
            "text/plain": [
              "                          Название       Жанр  ...       Дата выхода Длительность\n",
              "0                 Robin Hood(2018)     Action  ...  21 November 2018     1h 56min\n",
              "1               Finding Nemo(2003)  Animation  ...       30 May 2003     1h 40min\n",
              "2              A Serious Man(2009)     Comedy  ...   6 November 2009     1h 46min\n",
              "3                    Detroit(2017)      Crime  ...     4 August 2017     2h 23min\n",
              "4                   Replicas(2018)      Drama  ...   11 January 2019     1h 47min\n",
              "...                            ...        ...  ...               ...          ...\n",
              "5029               In Bruges(2008)     Comedy  ...  29 February 2008     1h 47min\n",
              "5030          The Changeling(1980)     Horror  ...     28 March 1980     1h 47min\n",
              "5031    The Zookeeper's Wife(2017)  Biography  ...      7 April 2017      2h 7min\n",
              "5032        The Devil Inside(2012)     Horror  ...    6 January 2012     1h 23min\n",
              "5033  Friday the 13th Part 2(1981)     Horror  ...     30 April 1981     1h 27min\n",
              "\n",
              "[5034 rows x 13 columns]"
            ]
          },
          "metadata": {
            "tags": []
          },
          "execution_count": 128
        }
      ]
    },
    {
      "cell_type": "code",
      "metadata": {
        "id": "YPsECiBOJxjb",
        "colab_type": "code",
        "colab": {}
      },
      "source": [
        "from google.colab import files\n",
        "df.to_csv('imdb.csv') \n",
        "files.download('imdb.csv')"
      ],
      "execution_count": 0,
      "outputs": []
    },
    {
      "cell_type": "markdown",
      "metadata": {
        "id": "njRiJgY2cqai",
        "colab_type": "text"
      },
      "source": [
        "###Предварительная обработка"
      ]
    },
    {
      "cell_type": "markdown",
      "metadata": {
        "id": "T0Wx1vM6b4mh",
        "colab_type": "text"
      },
      "source": [
        "Теперь можем работать уже с готовым датафреймом"
      ]
    },
    {
      "cell_type": "code",
      "metadata": {
        "id": "0DtS5rKTbTC4",
        "colab_type": "code",
        "colab": {}
      },
      "source": [
        "df = pd.read_csv('/content/drive/My Drive/imdb.csv', index_col=0)"
      ],
      "execution_count": 0,
      "outputs": []
    },
    {
      "cell_type": "code",
      "metadata": {
        "id": "qKoZPPi8bsqj",
        "colab_type": "code",
        "outputId": "a7ad15ca-6a96-491d-9da8-b157b0883cb4",
        "colab": {
          "base_uri": "https://localhost:8080/",
          "height": 685
        }
      },
      "source": [
        "df"
      ],
      "execution_count": 76,
      "outputs": [
        {
          "output_type": "execute_result",
          "data": {
            "text/html": [
              "<div>\n",
              "<style scoped>\n",
              "    .dataframe tbody tr th:only-of-type {\n",
              "        vertical-align: middle;\n",
              "    }\n",
              "\n",
              "    .dataframe tbody tr th {\n",
              "        vertical-align: top;\n",
              "    }\n",
              "\n",
              "    .dataframe thead th {\n",
              "        text-align: right;\n",
              "    }\n",
              "</style>\n",
              "<table border=\"1\" class=\"dataframe\">\n",
              "  <thead>\n",
              "    <tr style=\"text-align: right;\">\n",
              "      <th></th>\n",
              "      <th>Название</th>\n",
              "      <th>Жанр</th>\n",
              "      <th>Cтрана производства</th>\n",
              "      <th>Язык</th>\n",
              "      <th>Рейтинг</th>\n",
              "      <th>Количество проголосовавших</th>\n",
              "      <th>Бюджет</th>\n",
              "      <th>Заработок в мире</th>\n",
              "      <th>Metascore</th>\n",
              "      <th>Цвет</th>\n",
              "      <th>Звук</th>\n",
              "      <th>Дата выхода</th>\n",
              "      <th>Длительность</th>\n",
              "    </tr>\n",
              "  </thead>\n",
              "  <tbody>\n",
              "    <tr>\n",
              "      <th>0</th>\n",
              "      <td>Robin Hood(2018)</td>\n",
              "      <td>Action</td>\n",
              "      <td>USA</td>\n",
              "      <td>English</td>\n",
              "      <td>5.3</td>\n",
              "      <td>58894</td>\n",
              "      <td>100000000.0</td>\n",
              "      <td>86489031.0</td>\n",
              "      <td>NaN</td>\n",
              "      <td>Color</td>\n",
              "      <td>Dolby</td>\n",
              "      <td>21 November 2018</td>\n",
              "      <td>1h 56min</td>\n",
              "    </tr>\n",
              "    <tr>\n",
              "      <th>1</th>\n",
              "      <td>Finding Nemo(2003)</td>\n",
              "      <td>Animation</td>\n",
              "      <td>USA</td>\n",
              "      <td>English</td>\n",
              "      <td>8.1</td>\n",
              "      <td>918678</td>\n",
              "      <td>94000000.0</td>\n",
              "      <td>940343261.0</td>\n",
              "      <td>90.0</td>\n",
              "      <td>Color</td>\n",
              "      <td>DTS</td>\n",
              "      <td>30 May 2003</td>\n",
              "      <td>1h 40min</td>\n",
              "    </tr>\n",
              "    <tr>\n",
              "      <th>2</th>\n",
              "      <td>A Serious Man(2009)</td>\n",
              "      <td>Comedy</td>\n",
              "      <td>USA</td>\n",
              "      <td>English</td>\n",
              "      <td>7.0</td>\n",
              "      <td>128822</td>\n",
              "      <td>7000000.0</td>\n",
              "      <td>31430334.0</td>\n",
              "      <td>83.0</td>\n",
              "      <td>Color</td>\n",
              "      <td>DTS</td>\n",
              "      <td>6 November 2009</td>\n",
              "      <td>1h 46min</td>\n",
              "    </tr>\n",
              "    <tr>\n",
              "      <th>3</th>\n",
              "      <td>Detroit(2017)</td>\n",
              "      <td>Crime</td>\n",
              "      <td>USA</td>\n",
              "      <td>English</td>\n",
              "      <td>7.3</td>\n",
              "      <td>45204</td>\n",
              "      <td>34000000.0</td>\n",
              "      <td>23355100.0</td>\n",
              "      <td>77.0</td>\n",
              "      <td>Color</td>\n",
              "      <td>Dolby</td>\n",
              "      <td>4 August 2017</td>\n",
              "      <td>2h 23min</td>\n",
              "    </tr>\n",
              "    <tr>\n",
              "      <th>4</th>\n",
              "      <td>Replicas(2018)</td>\n",
              "      <td>Drama</td>\n",
              "      <td>UK</td>\n",
              "      <td>English</td>\n",
              "      <td>5.5</td>\n",
              "      <td>27748</td>\n",
              "      <td>30000000.0</td>\n",
              "      <td>9330075.0</td>\n",
              "      <td>NaN</td>\n",
              "      <td>Color</td>\n",
              "      <td>NaN</td>\n",
              "      <td>11 January 2019</td>\n",
              "      <td>1h 47min</td>\n",
              "    </tr>\n",
              "    <tr>\n",
              "      <th>...</th>\n",
              "      <td>...</td>\n",
              "      <td>...</td>\n",
              "      <td>...</td>\n",
              "      <td>...</td>\n",
              "      <td>...</td>\n",
              "      <td>...</td>\n",
              "      <td>...</td>\n",
              "      <td>...</td>\n",
              "      <td>...</td>\n",
              "      <td>...</td>\n",
              "      <td>...</td>\n",
              "      <td>...</td>\n",
              "      <td>...</td>\n",
              "    </tr>\n",
              "    <tr>\n",
              "      <th>5029</th>\n",
              "      <td>In Bruges(2008)</td>\n",
              "      <td>Comedy</td>\n",
              "      <td>UK</td>\n",
              "      <td>English</td>\n",
              "      <td>7.9</td>\n",
              "      <td>380040</td>\n",
              "      <td>15000000.0</td>\n",
              "      <td>34085749.0</td>\n",
              "      <td>67.0</td>\n",
              "      <td>Color</td>\n",
              "      <td>Dolby</td>\n",
              "      <td>29 February 2008</td>\n",
              "      <td>1h 47min</td>\n",
              "    </tr>\n",
              "    <tr>\n",
              "      <th>5030</th>\n",
              "      <td>The Changeling(1980)</td>\n",
              "      <td>Horror</td>\n",
              "      <td>Canada</td>\n",
              "      <td>English</td>\n",
              "      <td>7.2</td>\n",
              "      <td>28625</td>\n",
              "      <td>NaN</td>\n",
              "      <td>NaN</td>\n",
              "      <td>70.0</td>\n",
              "      <td>Color</td>\n",
              "      <td>Dolby</td>\n",
              "      <td>28 March 1980</td>\n",
              "      <td>1h 47min</td>\n",
              "    </tr>\n",
              "    <tr>\n",
              "      <th>5031</th>\n",
              "      <td>The Zookeeper's Wife(2017)</td>\n",
              "      <td>Biography</td>\n",
              "      <td>Czech Republic</td>\n",
              "      <td>English</td>\n",
              "      <td>7.0</td>\n",
              "      <td>36252</td>\n",
              "      <td>20000000.0</td>\n",
              "      <td>26152835.0</td>\n",
              "      <td>NaN</td>\n",
              "      <td>Color</td>\n",
              "      <td>Dolby</td>\n",
              "      <td>7 April 2017</td>\n",
              "      <td>2h 7min</td>\n",
              "    </tr>\n",
              "    <tr>\n",
              "      <th>5032</th>\n",
              "      <td>The Devil Inside(2012)</td>\n",
              "      <td>Horror</td>\n",
              "      <td>USA</td>\n",
              "      <td>English</td>\n",
              "      <td>4.2</td>\n",
              "      <td>34423</td>\n",
              "      <td>1000000.0</td>\n",
              "      <td>101758490.0</td>\n",
              "      <td>NaN</td>\n",
              "      <td>Color</td>\n",
              "      <td>Dolby</td>\n",
              "      <td>6 January 2012</td>\n",
              "      <td>1h 23min</td>\n",
              "    </tr>\n",
              "    <tr>\n",
              "      <th>5033</th>\n",
              "      <td>Friday the 13th Part 2(1981)</td>\n",
              "      <td>Horror</td>\n",
              "      <td>USA</td>\n",
              "      <td>English</td>\n",
              "      <td>6.1</td>\n",
              "      <td>56153</td>\n",
              "      <td>1250000.0</td>\n",
              "      <td>21722776.0</td>\n",
              "      <td>NaN</td>\n",
              "      <td>Color</td>\n",
              "      <td>Mono</td>\n",
              "      <td>30 April 1981</td>\n",
              "      <td>1h 27min</td>\n",
              "    </tr>\n",
              "  </tbody>\n",
              "</table>\n",
              "<p>5034 rows × 13 columns</p>\n",
              "</div>"
            ],
            "text/plain": [
              "                          Название       Жанр  ...       Дата выхода Длительность\n",
              "0                 Robin Hood(2018)     Action  ...  21 November 2018     1h 56min\n",
              "1               Finding Nemo(2003)  Animation  ...       30 May 2003     1h 40min\n",
              "2              A Serious Man(2009)     Comedy  ...   6 November 2009     1h 46min\n",
              "3                    Detroit(2017)      Crime  ...     4 August 2017     2h 23min\n",
              "4                   Replicas(2018)      Drama  ...   11 January 2019     1h 47min\n",
              "...                            ...        ...  ...               ...          ...\n",
              "5029               In Bruges(2008)     Comedy  ...  29 February 2008     1h 47min\n",
              "5030          The Changeling(1980)     Horror  ...     28 March 1980     1h 47min\n",
              "5031    The Zookeeper's Wife(2017)  Biography  ...      7 April 2017      2h 7min\n",
              "5032        The Devil Inside(2012)     Horror  ...    6 January 2012     1h 23min\n",
              "5033  Friday the 13th Part 2(1981)     Horror  ...     30 April 1981     1h 27min\n",
              "\n",
              "[5034 rows x 13 columns]"
            ]
          },
          "metadata": {
            "tags": []
          },
          "execution_count": 76
        }
      ]
    },
    {
      "cell_type": "code",
      "metadata": {
        "id": "zj5eLwhybteY",
        "colab_type": "code",
        "outputId": "ab016202-9157-4e8e-93ba-2aa18f74534d",
        "colab": {
          "base_uri": "https://localhost:8080/",
          "height": 263
        }
      },
      "source": [
        "df.isna().sum()"
      ],
      "execution_count": 77,
      "outputs": [
        {
          "output_type": "execute_result",
          "data": {
            "text/plain": [
              "Название                         0\n",
              "Жанр                             0\n",
              "Cтрана производства              0\n",
              "Язык                             0\n",
              "Рейтинг                          0\n",
              "Количество проголосовавших       0\n",
              "Бюджет                         855\n",
              "Заработок в мире               202\n",
              "Metascore                     2874\n",
              "Цвет                             4\n",
              "Звук                           202\n",
              "Дата выхода                      0\n",
              "Длительность                     0\n",
              "dtype: int64"
            ]
          },
          "metadata": {
            "tags": []
          },
          "execution_count": 77
        }
      ]
    },
    {
      "cell_type": "markdown",
      "metadata": {
        "id": "669QFks2q3YH",
        "colab_type": "text"
      },
      "source": [
        "Больше всего у нас пропусков в колонке с бюджетом и Metascore, однако потом можно будет что-то придумать со строками, где их нет, но есть\n",
        "другая полезная информация, поэтому удалять и менять ничего не будем"
      ]
    },
    {
      "cell_type": "markdown",
      "metadata": {
        "id": "j_bPJA69rTQH",
        "colab_type": "text"
      },
      "source": [
        "Дата выхода и время у нас в не очень хорошем виде, поэтому переведем время в минуты, а дату в дейттайм"
      ]
    },
    {
      "cell_type": "code",
      "metadata": {
        "id": "mesCpHSoczxv",
        "colab_type": "code",
        "colab": {}
      },
      "source": [
        "df['Дата выхода'] = df['Дата выхода'].str.replace('July', '07', regex=True)\n",
        "df['Дата выхода'] = df['Дата выхода'].str.replace('August', '08', regex=True)\n",
        "df['Дата выхода'] = df['Дата выхода'].str.replace('September', '09', regex=True)\n",
        "df['Дата выхода'] = df['Дата выхода'].str.replace('October', '10', regex=True)\n",
        "df['Дата выхода'] = df['Дата выхода'].str.replace('November', '11', regex=True)\n",
        "df['Дата выхода'] = df['Дата выхода'].str.replace('December', '12', regex=True)\n",
        "df['Дата выхода'] = df['Дата выхода'].str.replace('January', '01', regex=True)\n",
        "df['Дата выхода'] = df['Дата выхода'].str.replace('February', '02', regex=True)\n",
        "df['Дата выхода'] = df['Дата выхода'].str.replace('March', '03', regex=True)\n",
        "df['Дата выхода'] = df['Дата выхода'].str.replace('April', '04', regex=True)\n",
        "df['Дата выхода'] = df['Дата выхода'].str.replace('May', '05', regex=True)\n",
        "df['Дата выхода'] = df['Дата выхода'].str.replace('June', '06', regex=True).str.replace(' ','-',regex=True)\n",
        "df = df[df['Дата выхода'].map(len) > 8].reset_index(drop=True) # удалим строки, где нет точной даты выхода\n",
        "df['Дата выхода'] = pd.to_datetime(df['Дата выхода'],format='%d-%m-%Y') # переведем в дейттайм"
      ],
      "execution_count": 0,
      "outputs": []
    },
    {
      "cell_type": "code",
      "metadata": {
        "id": "TDdjg5VTrm_A",
        "colab_type": "code",
        "outputId": "f5401099-7315-4d03-d32d-1c2701c20d08",
        "colab": {
          "base_uri": "https://localhost:8080/",
          "height": 511
        }
      },
      "source": [
        "for i in range(len(df['Длительность'])): # здесь используем цикл, чтоб отловить фильмы со сложными длительностями\n",
        "  if df['Длительность'][i][1] != 'h': # короткие фильмы, меньше часа\n",
        "    df['Длительность'][i] = int(df['Длительность'][i].replace('min',''))\n",
        "  elif len(df['Длительность'][i]) != 2: \n",
        "    df['Длительность'][i] = int(df['Длительность'][i].split()[0].replace('h',''))*60 + int(df['Длительность'][i].split()[1].replace('min',''))\n",
        "  else:  #фильмы, которые длятся ровное количество часов без минут\n",
        "    df['Длительность'][i] = int(df['Длительность'][i].replace('h',''))*60\n",
        "df['Длительность']  "
      ],
      "execution_count": 79,
      "outputs": [
        {
          "output_type": "stream",
          "text": [
            "/usr/local/lib/python3.6/dist-packages/ipykernel_launcher.py:5: SettingWithCopyWarning: \n",
            "A value is trying to be set on a copy of a slice from a DataFrame\n",
            "\n",
            "See the caveats in the documentation: https://pandas.pydata.org/pandas-docs/stable/user_guide/indexing.html#returning-a-view-versus-a-copy\n",
            "  \"\"\"\n",
            "/usr/local/lib/python3.6/dist-packages/ipykernel_launcher.py:7: SettingWithCopyWarning: \n",
            "A value is trying to be set on a copy of a slice from a DataFrame\n",
            "\n",
            "See the caveats in the documentation: https://pandas.pydata.org/pandas-docs/stable/user_guide/indexing.html#returning-a-view-versus-a-copy\n",
            "  import sys\n",
            "/usr/local/lib/python3.6/dist-packages/ipykernel_launcher.py:3: SettingWithCopyWarning: \n",
            "A value is trying to be set on a copy of a slice from a DataFrame\n",
            "\n",
            "See the caveats in the documentation: https://pandas.pydata.org/pandas-docs/stable/user_guide/indexing.html#returning-a-view-versus-a-copy\n",
            "  This is separate from the ipykernel package so we can avoid doing imports until\n"
          ],
          "name": "stderr"
        },
        {
          "output_type": "execute_result",
          "data": {
            "text/plain": [
              "0       116\n",
              "1       100\n",
              "2       106\n",
              "3       143\n",
              "4       107\n",
              "       ... \n",
              "5009    107\n",
              "5010    107\n",
              "5011    127\n",
              "5012     83\n",
              "5013     87\n",
              "Name: Длительность, Length: 5014, dtype: object"
            ]
          },
          "metadata": {
            "tags": []
          },
          "execution_count": 79
        }
      ]
    },
    {
      "cell_type": "markdown",
      "metadata": {
        "id": "hNnS6qu70C1C",
        "colab_type": "text"
      },
      "source": [
        "Рейтинг критиков у нас имеет тип \"строка\", поэтому превтратим его в числовые показтели для удобства"
      ]
    },
    {
      "cell_type": "code",
      "metadata": {
        "id": "GqsNCIdf0XfF",
        "colab_type": "code",
        "colab": {}
      },
      "source": [
        "df['Metascore'] = pd.to_numeric(df['Metascore'])"
      ],
      "execution_count": 0,
      "outputs": []
    },
    {
      "cell_type": "code",
      "metadata": {
        "id": "1KLv_h2wCJK3",
        "colab_type": "code",
        "outputId": "4abf31a2-bfd4-4ae0-bbdc-3933432912e2",
        "colab": {
          "base_uri": "https://localhost:8080/",
          "height": 617
        }
      },
      "source": [
        "df"
      ],
      "execution_count": 81,
      "outputs": [
        {
          "output_type": "execute_result",
          "data": {
            "text/html": [
              "<div>\n",
              "<style scoped>\n",
              "    .dataframe tbody tr th:only-of-type {\n",
              "        vertical-align: middle;\n",
              "    }\n",
              "\n",
              "    .dataframe tbody tr th {\n",
              "        vertical-align: top;\n",
              "    }\n",
              "\n",
              "    .dataframe thead th {\n",
              "        text-align: right;\n",
              "    }\n",
              "</style>\n",
              "<table border=\"1\" class=\"dataframe\">\n",
              "  <thead>\n",
              "    <tr style=\"text-align: right;\">\n",
              "      <th></th>\n",
              "      <th>Название</th>\n",
              "      <th>Жанр</th>\n",
              "      <th>Cтрана производства</th>\n",
              "      <th>Язык</th>\n",
              "      <th>Рейтинг</th>\n",
              "      <th>Количество проголосовавших</th>\n",
              "      <th>Бюджет</th>\n",
              "      <th>Заработок в мире</th>\n",
              "      <th>Metascore</th>\n",
              "      <th>Цвет</th>\n",
              "      <th>Звук</th>\n",
              "      <th>Дата выхода</th>\n",
              "      <th>Длительность</th>\n",
              "    </tr>\n",
              "  </thead>\n",
              "  <tbody>\n",
              "    <tr>\n",
              "      <th>0</th>\n",
              "      <td>Robin Hood(2018)</td>\n",
              "      <td>Action</td>\n",
              "      <td>USA</td>\n",
              "      <td>English</td>\n",
              "      <td>5.3</td>\n",
              "      <td>58894</td>\n",
              "      <td>100000000.0</td>\n",
              "      <td>86489031.0</td>\n",
              "      <td>NaN</td>\n",
              "      <td>Color</td>\n",
              "      <td>Dolby</td>\n",
              "      <td>2018-11-21</td>\n",
              "      <td>116</td>\n",
              "    </tr>\n",
              "    <tr>\n",
              "      <th>1</th>\n",
              "      <td>Finding Nemo(2003)</td>\n",
              "      <td>Animation</td>\n",
              "      <td>USA</td>\n",
              "      <td>English</td>\n",
              "      <td>8.1</td>\n",
              "      <td>918678</td>\n",
              "      <td>94000000.0</td>\n",
              "      <td>940343261.0</td>\n",
              "      <td>90.0</td>\n",
              "      <td>Color</td>\n",
              "      <td>DTS</td>\n",
              "      <td>2003-05-30</td>\n",
              "      <td>100</td>\n",
              "    </tr>\n",
              "    <tr>\n",
              "      <th>2</th>\n",
              "      <td>A Serious Man(2009)</td>\n",
              "      <td>Comedy</td>\n",
              "      <td>USA</td>\n",
              "      <td>English</td>\n",
              "      <td>7.0</td>\n",
              "      <td>128822</td>\n",
              "      <td>7000000.0</td>\n",
              "      <td>31430334.0</td>\n",
              "      <td>83.0</td>\n",
              "      <td>Color</td>\n",
              "      <td>DTS</td>\n",
              "      <td>2009-11-06</td>\n",
              "      <td>106</td>\n",
              "    </tr>\n",
              "    <tr>\n",
              "      <th>3</th>\n",
              "      <td>Detroit(2017)</td>\n",
              "      <td>Crime</td>\n",
              "      <td>USA</td>\n",
              "      <td>English</td>\n",
              "      <td>7.3</td>\n",
              "      <td>45204</td>\n",
              "      <td>34000000.0</td>\n",
              "      <td>23355100.0</td>\n",
              "      <td>77.0</td>\n",
              "      <td>Color</td>\n",
              "      <td>Dolby</td>\n",
              "      <td>2017-08-04</td>\n",
              "      <td>143</td>\n",
              "    </tr>\n",
              "    <tr>\n",
              "      <th>4</th>\n",
              "      <td>Replicas(2018)</td>\n",
              "      <td>Drama</td>\n",
              "      <td>UK</td>\n",
              "      <td>English</td>\n",
              "      <td>5.5</td>\n",
              "      <td>27748</td>\n",
              "      <td>30000000.0</td>\n",
              "      <td>9330075.0</td>\n",
              "      <td>NaN</td>\n",
              "      <td>Color</td>\n",
              "      <td>NaN</td>\n",
              "      <td>2019-01-11</td>\n",
              "      <td>107</td>\n",
              "    </tr>\n",
              "    <tr>\n",
              "      <th>...</th>\n",
              "      <td>...</td>\n",
              "      <td>...</td>\n",
              "      <td>...</td>\n",
              "      <td>...</td>\n",
              "      <td>...</td>\n",
              "      <td>...</td>\n",
              "      <td>...</td>\n",
              "      <td>...</td>\n",
              "      <td>...</td>\n",
              "      <td>...</td>\n",
              "      <td>...</td>\n",
              "      <td>...</td>\n",
              "      <td>...</td>\n",
              "    </tr>\n",
              "    <tr>\n",
              "      <th>5009</th>\n",
              "      <td>In Bruges(2008)</td>\n",
              "      <td>Comedy</td>\n",
              "      <td>UK</td>\n",
              "      <td>English</td>\n",
              "      <td>7.9</td>\n",
              "      <td>380040</td>\n",
              "      <td>15000000.0</td>\n",
              "      <td>34085749.0</td>\n",
              "      <td>67.0</td>\n",
              "      <td>Color</td>\n",
              "      <td>Dolby</td>\n",
              "      <td>2008-02-29</td>\n",
              "      <td>107</td>\n",
              "    </tr>\n",
              "    <tr>\n",
              "      <th>5010</th>\n",
              "      <td>The Changeling(1980)</td>\n",
              "      <td>Horror</td>\n",
              "      <td>Canada</td>\n",
              "      <td>English</td>\n",
              "      <td>7.2</td>\n",
              "      <td>28625</td>\n",
              "      <td>NaN</td>\n",
              "      <td>NaN</td>\n",
              "      <td>70.0</td>\n",
              "      <td>Color</td>\n",
              "      <td>Dolby</td>\n",
              "      <td>1980-03-28</td>\n",
              "      <td>107</td>\n",
              "    </tr>\n",
              "    <tr>\n",
              "      <th>5011</th>\n",
              "      <td>The Zookeeper's Wife(2017)</td>\n",
              "      <td>Biography</td>\n",
              "      <td>Czech Republic</td>\n",
              "      <td>English</td>\n",
              "      <td>7.0</td>\n",
              "      <td>36252</td>\n",
              "      <td>20000000.0</td>\n",
              "      <td>26152835.0</td>\n",
              "      <td>NaN</td>\n",
              "      <td>Color</td>\n",
              "      <td>Dolby</td>\n",
              "      <td>2017-04-07</td>\n",
              "      <td>127</td>\n",
              "    </tr>\n",
              "    <tr>\n",
              "      <th>5012</th>\n",
              "      <td>The Devil Inside(2012)</td>\n",
              "      <td>Horror</td>\n",
              "      <td>USA</td>\n",
              "      <td>English</td>\n",
              "      <td>4.2</td>\n",
              "      <td>34423</td>\n",
              "      <td>1000000.0</td>\n",
              "      <td>101758490.0</td>\n",
              "      <td>NaN</td>\n",
              "      <td>Color</td>\n",
              "      <td>Dolby</td>\n",
              "      <td>2012-01-06</td>\n",
              "      <td>83</td>\n",
              "    </tr>\n",
              "    <tr>\n",
              "      <th>5013</th>\n",
              "      <td>Friday the 13th Part 2(1981)</td>\n",
              "      <td>Horror</td>\n",
              "      <td>USA</td>\n",
              "      <td>English</td>\n",
              "      <td>6.1</td>\n",
              "      <td>56153</td>\n",
              "      <td>1250000.0</td>\n",
              "      <td>21722776.0</td>\n",
              "      <td>NaN</td>\n",
              "      <td>Color</td>\n",
              "      <td>Mono</td>\n",
              "      <td>1981-04-30</td>\n",
              "      <td>87</td>\n",
              "    </tr>\n",
              "  </tbody>\n",
              "</table>\n",
              "<p>5014 rows × 13 columns</p>\n",
              "</div>"
            ],
            "text/plain": [
              "                          Название       Жанр  ... Дата выхода Длительность\n",
              "0                 Robin Hood(2018)     Action  ...  2018-11-21          116\n",
              "1               Finding Nemo(2003)  Animation  ...  2003-05-30          100\n",
              "2              A Serious Man(2009)     Comedy  ...  2009-11-06          106\n",
              "3                    Detroit(2017)      Crime  ...  2017-08-04          143\n",
              "4                   Replicas(2018)      Drama  ...  2019-01-11          107\n",
              "...                            ...        ...  ...         ...          ...\n",
              "5009               In Bruges(2008)     Comedy  ...  2008-02-29          107\n",
              "5010          The Changeling(1980)     Horror  ...  1980-03-28          107\n",
              "5011    The Zookeeper's Wife(2017)  Biography  ...  2017-04-07          127\n",
              "5012        The Devil Inside(2012)     Horror  ...  2012-01-06           83\n",
              "5013  Friday the 13th Part 2(1981)     Horror  ...  1981-04-30           87\n",
              "\n",
              "[5014 rows x 13 columns]"
            ]
          },
          "metadata": {
            "tags": []
          },
          "execution_count": 81
        }
      ]
    },
    {
      "cell_type": "markdown",
      "metadata": {
        "id": "FvgQRUwr5gel",
        "colab_type": "text"
      },
      "source": [
        "###Создание новых признаков"
      ]
    },
    {
      "cell_type": "markdown",
      "metadata": {
        "id": "6IKh1Drv2EZk",
        "colab_type": "text"
      },
      "source": [
        "Интересно узнать, насколько оценки пользователей отличаются от оценок критиков - создадим новую колонку"
      ]
    },
    {
      "cell_type": "code",
      "metadata": {
        "id": "G46sb5Hd0WHT",
        "colab_type": "code",
        "colab": {}
      },
      "source": [
        "df['Разница оценок'] = df['Рейтинг']-df['Metascore']/10"
      ],
      "execution_count": 0,
      "outputs": []
    },
    {
      "cell_type": "markdown",
      "metadata": {
        "id": "aLOIup-20nrO",
        "colab_type": "text"
      },
      "source": [
        "Также создадим колонку для прибыли "
      ]
    },
    {
      "cell_type": "code",
      "metadata": {
        "id": "taq04m1P0udf",
        "colab_type": "code",
        "colab": {}
      },
      "source": [
        "df['Прибыль'] = df['Заработок в мире']-df['Бюджет']"
      ],
      "execution_count": 0,
      "outputs": []
    },
    {
      "cell_type": "markdown",
      "metadata": {
        "id": "mMOBm0Zt2i58",
        "colab_type": "text"
      },
      "source": [
        "Если бы у нас была возможность отменить съемки фильма, а раздать все деньги тем, кто за него проголосовал, сколько бы они получили?"
      ]
    },
    {
      "cell_type": "code",
      "metadata": {
        "id": "rr9VtLCu1dFk",
        "colab_type": "code",
        "colab": {}
      },
      "source": [
        "df['Стоимость голоса'] = df['Бюджет']/df['Количество проголосовавших']"
      ],
      "execution_count": 0,
      "outputs": []
    },
    {
      "cell_type": "markdown",
      "metadata": {
        "id": "pPq8fh326Kpg",
        "colab_type": "text"
      },
      "source": [
        "Также посмторим, сколько стоит снимать минуту каждого фильма"
      ]
    },
    {
      "cell_type": "code",
      "metadata": {
        "id": "1yT-TGwQDChf",
        "colab_type": "code",
        "colab": {}
      },
      "source": [
        "df['Стоимость 1 минуты'] = df['Бюджет']/df['Длительность']"
      ],
      "execution_count": 0,
      "outputs": []
    },
    {
      "cell_type": "code",
      "metadata": {
        "id": "--vvsL7DzCCj",
        "colab_type": "code",
        "outputId": "7725d567-3641-4550-d047-9c4c9d0838f3",
        "colab": {
          "base_uri": "https://localhost:8080/",
          "height": 439
        }
      },
      "source": [
        "df.info()"
      ],
      "execution_count": 86,
      "outputs": [
        {
          "output_type": "stream",
          "text": [
            "<class 'pandas.core.frame.DataFrame'>\n",
            "RangeIndex: 5014 entries, 0 to 5013\n",
            "Data columns (total 17 columns):\n",
            " #   Column                      Non-Null Count  Dtype         \n",
            "---  ------                      --------------  -----         \n",
            " 0   Название                    5014 non-null   object        \n",
            " 1   Жанр                        5014 non-null   object        \n",
            " 2   Cтрана производства         5014 non-null   object        \n",
            " 3   Язык                        5014 non-null   object        \n",
            " 4   Рейтинг                     5014 non-null   float64       \n",
            " 5   Количество проголосовавших  5014 non-null   int64         \n",
            " 6   Бюджет                      4170 non-null   float64       \n",
            " 7   Заработок в мире            4820 non-null   float64       \n",
            " 8   Metascore                   2153 non-null   float64       \n",
            " 9   Цвет                        5010 non-null   object        \n",
            " 10  Звук                        4814 non-null   object        \n",
            " 11  Дата выхода                 5014 non-null   datetime64[ns]\n",
            " 12  Длительность                5014 non-null   object        \n",
            " 13  Разница оценок              2153 non-null   float64       \n",
            " 14  Прибыль                     4066 non-null   float64       \n",
            " 15  Стоимость голоса            4170 non-null   float64       \n",
            " 16  Стоимость 1 минуты          4170 non-null   object        \n",
            "dtypes: datetime64[ns](1), float64(7), int64(1), object(8)\n",
            "memory usage: 666.0+ KB\n"
          ],
          "name": "stdout"
        }
      ]
    },
    {
      "cell_type": "code",
      "metadata": {
        "id": "DuYWylMe6LGs",
        "colab_type": "code",
        "outputId": "f1706891-6423-4ae6-eeb1-7571fc20d12e",
        "colab": {
          "base_uri": "https://localhost:8080/",
          "height": 210
        }
      },
      "source": [
        "print(df['Cтрана производства'].nunique())\n",
        "df['Cтрана производства'].unique()"
      ],
      "execution_count": 87,
      "outputs": [
        {
          "output_type": "stream",
          "text": [
            "52\n"
          ],
          "name": "stdout"
        },
        {
          "output_type": "execute_result",
          "data": {
            "text/plain": [
              "array(['USA', 'UK', 'Germany', 'South Korea', 'China', 'Spain', 'Sweden',\n",
              "       'Denmark', 'India', 'Colombia', 'Australia', 'Italy', 'France',\n",
              "       'Turkey', 'Netherlands', 'Ireland', 'Finland', 'South Africa',\n",
              "       'Switzerland', 'Mexico', 'Canada', 'Belgium', 'Hong Kong', 'Japan',\n",
              "       'Norway', 'Brazil', 'Russia', 'Austria', 'New Zealand', 'Thailand',\n",
              "       'Serbia', 'Soviet Union', 'West Germany', 'Indonesia',\n",
              "       'Federal Republic of Yugoslavia', 'Czech Republic', 'Iran',\n",
              "       'Pakistan', 'United Arab Emirates', 'Argentina', 'Poland',\n",
              "       'Iceland', 'Hungary', 'Malta', 'Greece', 'Romania', 'Lebanon',\n",
              "       'Kenya', 'Estonia', 'Chile', 'Taiwan', 'Algeria'], dtype=object)"
            ]
          },
          "metadata": {
            "tags": []
          },
          "execution_count": 87
        }
      ]
    },
    {
      "cell_type": "markdown",
      "metadata": {
        "id": "jqp2KS9uF8Rv",
        "colab_type": "text"
      },
      "source": [
        "Поскольку у нас всего 52 страны, создадим листы стран по континентам и сделаем новый столбец"
      ]
    },
    {
      "cell_type": "code",
      "metadata": {
        "id": "pLZ-ikg3DuC6",
        "colab_type": "code",
        "colab": {}
      },
      "source": [
        "europe =['UK','Germany','Malta','Belgium','Spain','Sweden','Italy','France','Russia','Czech Republic', 'Austria', 'Denmark', 'Netherlands','Finland', 'Turkey','Ireland', 'Hungary', 'Iceland','Greece','Switzerland', 'Norway','Poland','Estonia','Romania','Serbia' ]\n",
        "not_exist = ['Soviet Union','West Germany','Federal Republic of Yugoslavia']\n",
        "asia = ['Japan','India','Thailand','Pakistan','Indonesia','Lebanon','United Arab Emirates', 'Iran','Taiwan','China', 'Hong Kong', 'South Korea']\n",
        "africa = ['South Africa','Algeria','Kenya']\n",
        "north_america = ['USA', 'Canada','Mexico']\n",
        "south_america = ['Brazil','Argentina','Chile','Colombia']\n",
        "oceania = ['New Zealand','Australia']"
      ],
      "execution_count": 0,
      "outputs": []
    },
    {
      "cell_type": "code",
      "metadata": {
        "id": "Gh0iFLyWHb5z",
        "colab_type": "code",
        "outputId": "4b2c9193-2f8a-4159-fb78-3c4ce688dfd2",
        "colab": {
          "base_uri": "https://localhost:8080/",
          "height": 740
        }
      },
      "source": [
        "df[\"Континент\"] = np.nan\n",
        "for i in range(len(df['Cтрана производства'])):\n",
        "  if df['Cтрана производства'][i] in europe:\n",
        "   df['Континент'][i] = 'Europe'\n",
        "  if df['Cтрана производства'][i] in asia:\n",
        "    df['Континент'][i] = 'Asia'\n",
        "  if df['Cтрана производства'][i] in not_exist:\n",
        "    df['Континент'][i] = 'Not exist'\n",
        "  if df['Cтрана производства'][i] in africa:\n",
        "    df['Континент'][i] = 'Africa'\n",
        "  if df['Cтрана производства'][i] in north_america:\n",
        "    df['Континент'][i] = 'North America'\n",
        "  if df['Cтрана производства'][i]in south_america:\n",
        "    df['Континент'][i] = 'South America'\n",
        "  if df['Cтрана производства'][i]in oceania:\n",
        "    df['Континент'][i] = 'Oceania'"
      ],
      "execution_count": 89,
      "outputs": [
        {
          "output_type": "stream",
          "text": [
            "/usr/local/lib/python3.6/dist-packages/ipykernel_launcher.py:12: SettingWithCopyWarning: \n",
            "A value is trying to be set on a copy of a slice from a DataFrame\n",
            "\n",
            "See the caveats in the documentation: https://pandas.pydata.org/pandas-docs/stable/user_guide/indexing.html#returning-a-view-versus-a-copy\n",
            "  if sys.path[0] == '':\n",
            "/usr/local/lib/python3.6/dist-packages/pandas/core/indexing.py:671: SettingWithCopyWarning: \n",
            "A value is trying to be set on a copy of a slice from a DataFrame\n",
            "\n",
            "See the caveats in the documentation: https://pandas.pydata.org/pandas-docs/stable/user_guide/indexing.html#returning-a-view-versus-a-copy\n",
            "  self._setitem_with_indexer(indexer, value)\n",
            "/usr/local/lib/python3.6/dist-packages/ipykernel_launcher.py:4: SettingWithCopyWarning: \n",
            "A value is trying to be set on a copy of a slice from a DataFrame\n",
            "\n",
            "See the caveats in the documentation: https://pandas.pydata.org/pandas-docs/stable/user_guide/indexing.html#returning-a-view-versus-a-copy\n",
            "  after removing the cwd from sys.path.\n",
            "/usr/local/lib/python3.6/dist-packages/ipykernel_launcher.py:6: SettingWithCopyWarning: \n",
            "A value is trying to be set on a copy of a slice from a DataFrame\n",
            "\n",
            "See the caveats in the documentation: https://pandas.pydata.org/pandas-docs/stable/user_guide/indexing.html#returning-a-view-versus-a-copy\n",
            "  \n",
            "/usr/local/lib/python3.6/dist-packages/ipykernel_launcher.py:14: SettingWithCopyWarning: \n",
            "A value is trying to be set on a copy of a slice from a DataFrame\n",
            "\n",
            "See the caveats in the documentation: https://pandas.pydata.org/pandas-docs/stable/user_guide/indexing.html#returning-a-view-versus-a-copy\n",
            "  \n",
            "/usr/local/lib/python3.6/dist-packages/ipykernel_launcher.py:16: SettingWithCopyWarning: \n",
            "A value is trying to be set on a copy of a slice from a DataFrame\n",
            "\n",
            "See the caveats in the documentation: https://pandas.pydata.org/pandas-docs/stable/user_guide/indexing.html#returning-a-view-versus-a-copy\n",
            "  app.launch_new_instance()\n",
            "/usr/local/lib/python3.6/dist-packages/ipykernel_launcher.py:10: SettingWithCopyWarning: \n",
            "A value is trying to be set on a copy of a slice from a DataFrame\n",
            "\n",
            "See the caveats in the documentation: https://pandas.pydata.org/pandas-docs/stable/user_guide/indexing.html#returning-a-view-versus-a-copy\n",
            "  # Remove the CWD from sys.path while we load stuff.\n",
            "/usr/local/lib/python3.6/dist-packages/ipykernel_launcher.py:8: SettingWithCopyWarning: \n",
            "A value is trying to be set on a copy of a slice from a DataFrame\n",
            "\n",
            "See the caveats in the documentation: https://pandas.pydata.org/pandas-docs/stable/user_guide/indexing.html#returning-a-view-versus-a-copy\n",
            "  \n"
          ],
          "name": "stderr"
        }
      ]
    },
    {
      "cell_type": "markdown",
      "metadata": {
        "id": "NHo1oYF12wZa",
        "colab_type": "text"
      },
      "source": [
        "Также создадим колонку с временами года"
      ]
    },
    {
      "cell_type": "code",
      "metadata": {
        "id": "NswQEJGC6OwU",
        "colab_type": "code",
        "colab": {
          "base_uri": "https://localhost:8080/",
          "height": 388
        },
        "outputId": "c7d60771-3ff1-4d19-f821-03130ac94477"
      },
      "source": [
        "df['Время года'] = np.nan\n",
        "df['Время года'][(df['Дата выхода'].dt.month <12) & (df['Дата выхода'].dt.month >8)] = 'Autumn'\n",
        "df['Время года'][(df['Дата выхода'].dt.month <9) & (df['Дата выхода'].dt.month >5)] = 'Summer'\n",
        "df['Время года'][(df['Дата выхода'].dt.month <6) & (df['Дата выхода'].dt.month >2)] = 'Spring'\n",
        "df['Время года'][(df['Дата выхода'].dt.month <3) | (df['Дата выхода'].dt.month >11)] = 'Winter'"
      ],
      "execution_count": 90,
      "outputs": [
        {
          "output_type": "stream",
          "text": [
            "/usr/local/lib/python3.6/dist-packages/ipykernel_launcher.py:2: SettingWithCopyWarning: \n",
            "A value is trying to be set on a copy of a slice from a DataFrame\n",
            "\n",
            "See the caveats in the documentation: https://pandas.pydata.org/pandas-docs/stable/user_guide/indexing.html#returning-a-view-versus-a-copy\n",
            "  \n",
            "/usr/local/lib/python3.6/dist-packages/ipykernel_launcher.py:3: SettingWithCopyWarning: \n",
            "A value is trying to be set on a copy of a slice from a DataFrame\n",
            "\n",
            "See the caveats in the documentation: https://pandas.pydata.org/pandas-docs/stable/user_guide/indexing.html#returning-a-view-versus-a-copy\n",
            "  This is separate from the ipykernel package so we can avoid doing imports until\n",
            "/usr/local/lib/python3.6/dist-packages/ipykernel_launcher.py:4: SettingWithCopyWarning: \n",
            "A value is trying to be set on a copy of a slice from a DataFrame\n",
            "\n",
            "See the caveats in the documentation: https://pandas.pydata.org/pandas-docs/stable/user_guide/indexing.html#returning-a-view-versus-a-copy\n",
            "  after removing the cwd from sys.path.\n",
            "/usr/local/lib/python3.6/dist-packages/ipykernel_launcher.py:5: SettingWithCopyWarning: \n",
            "A value is trying to be set on a copy of a slice from a DataFrame\n",
            "\n",
            "See the caveats in the documentation: https://pandas.pydata.org/pandas-docs/stable/user_guide/indexing.html#returning-a-view-versus-a-copy\n",
            "  \"\"\"\n"
          ],
          "name": "stderr"
        }
      ]
    },
    {
      "cell_type": "code",
      "metadata": {
        "id": "VIzZAElW2H5y",
        "colab_type": "code",
        "outputId": "121853b9-b0a7-487a-b191-84ba45501230",
        "colab": {
          "base_uri": "https://localhost:8080/",
          "height": 321
        }
      },
      "source": [
        "df.head()"
      ],
      "execution_count": 91,
      "outputs": [
        {
          "output_type": "execute_result",
          "data": {
            "text/html": [
              "<div>\n",
              "<style scoped>\n",
              "    .dataframe tbody tr th:only-of-type {\n",
              "        vertical-align: middle;\n",
              "    }\n",
              "\n",
              "    .dataframe tbody tr th {\n",
              "        vertical-align: top;\n",
              "    }\n",
              "\n",
              "    .dataframe thead th {\n",
              "        text-align: right;\n",
              "    }\n",
              "</style>\n",
              "<table border=\"1\" class=\"dataframe\">\n",
              "  <thead>\n",
              "    <tr style=\"text-align: right;\">\n",
              "      <th></th>\n",
              "      <th>Название</th>\n",
              "      <th>Жанр</th>\n",
              "      <th>Cтрана производства</th>\n",
              "      <th>Язык</th>\n",
              "      <th>Рейтинг</th>\n",
              "      <th>Количество проголосовавших</th>\n",
              "      <th>Бюджет</th>\n",
              "      <th>Заработок в мире</th>\n",
              "      <th>Metascore</th>\n",
              "      <th>Цвет</th>\n",
              "      <th>Звук</th>\n",
              "      <th>Дата выхода</th>\n",
              "      <th>Длительность</th>\n",
              "      <th>Разница оценок</th>\n",
              "      <th>Прибыль</th>\n",
              "      <th>Стоимость голоса</th>\n",
              "      <th>Стоимость 1 минуты</th>\n",
              "      <th>Континент</th>\n",
              "      <th>Время года</th>\n",
              "    </tr>\n",
              "  </thead>\n",
              "  <tbody>\n",
              "    <tr>\n",
              "      <th>0</th>\n",
              "      <td>Robin Hood(2018)</td>\n",
              "      <td>Action</td>\n",
              "      <td>USA</td>\n",
              "      <td>English</td>\n",
              "      <td>5.3</td>\n",
              "      <td>58894</td>\n",
              "      <td>100000000.0</td>\n",
              "      <td>86489031.0</td>\n",
              "      <td>NaN</td>\n",
              "      <td>Color</td>\n",
              "      <td>Dolby</td>\n",
              "      <td>2018-11-21</td>\n",
              "      <td>116</td>\n",
              "      <td>NaN</td>\n",
              "      <td>-13510969.0</td>\n",
              "      <td>1697.965837</td>\n",
              "      <td>862069</td>\n",
              "      <td>North America</td>\n",
              "      <td>Autumn</td>\n",
              "    </tr>\n",
              "    <tr>\n",
              "      <th>1</th>\n",
              "      <td>Finding Nemo(2003)</td>\n",
              "      <td>Animation</td>\n",
              "      <td>USA</td>\n",
              "      <td>English</td>\n",
              "      <td>8.1</td>\n",
              "      <td>918678</td>\n",
              "      <td>94000000.0</td>\n",
              "      <td>940343261.0</td>\n",
              "      <td>90.0</td>\n",
              "      <td>Color</td>\n",
              "      <td>DTS</td>\n",
              "      <td>2003-05-30</td>\n",
              "      <td>100</td>\n",
              "      <td>-0.9</td>\n",
              "      <td>846343261.0</td>\n",
              "      <td>102.320944</td>\n",
              "      <td>940000</td>\n",
              "      <td>North America</td>\n",
              "      <td>Spring</td>\n",
              "    </tr>\n",
              "    <tr>\n",
              "      <th>2</th>\n",
              "      <td>A Serious Man(2009)</td>\n",
              "      <td>Comedy</td>\n",
              "      <td>USA</td>\n",
              "      <td>English</td>\n",
              "      <td>7.0</td>\n",
              "      <td>128822</td>\n",
              "      <td>7000000.0</td>\n",
              "      <td>31430334.0</td>\n",
              "      <td>83.0</td>\n",
              "      <td>Color</td>\n",
              "      <td>DTS</td>\n",
              "      <td>2009-11-06</td>\n",
              "      <td>106</td>\n",
              "      <td>-1.3</td>\n",
              "      <td>24430334.0</td>\n",
              "      <td>54.338545</td>\n",
              "      <td>66037.7</td>\n",
              "      <td>North America</td>\n",
              "      <td>Autumn</td>\n",
              "    </tr>\n",
              "    <tr>\n",
              "      <th>3</th>\n",
              "      <td>Detroit(2017)</td>\n",
              "      <td>Crime</td>\n",
              "      <td>USA</td>\n",
              "      <td>English</td>\n",
              "      <td>7.3</td>\n",
              "      <td>45204</td>\n",
              "      <td>34000000.0</td>\n",
              "      <td>23355100.0</td>\n",
              "      <td>77.0</td>\n",
              "      <td>Color</td>\n",
              "      <td>Dolby</td>\n",
              "      <td>2017-08-04</td>\n",
              "      <td>143</td>\n",
              "      <td>-0.4</td>\n",
              "      <td>-10644900.0</td>\n",
              "      <td>752.145828</td>\n",
              "      <td>237762</td>\n",
              "      <td>North America</td>\n",
              "      <td>Summer</td>\n",
              "    </tr>\n",
              "    <tr>\n",
              "      <th>4</th>\n",
              "      <td>Replicas(2018)</td>\n",
              "      <td>Drama</td>\n",
              "      <td>UK</td>\n",
              "      <td>English</td>\n",
              "      <td>5.5</td>\n",
              "      <td>27748</td>\n",
              "      <td>30000000.0</td>\n",
              "      <td>9330075.0</td>\n",
              "      <td>NaN</td>\n",
              "      <td>Color</td>\n",
              "      <td>NaN</td>\n",
              "      <td>2019-01-11</td>\n",
              "      <td>107</td>\n",
              "      <td>NaN</td>\n",
              "      <td>-20669925.0</td>\n",
              "      <td>1081.159002</td>\n",
              "      <td>280374</td>\n",
              "      <td>Europe</td>\n",
              "      <td>Winter</td>\n",
              "    </tr>\n",
              "  </tbody>\n",
              "</table>\n",
              "</div>"
            ],
            "text/plain": [
              "              Название       Жанр  ...      Континент Время года\n",
              "0     Robin Hood(2018)     Action  ...  North America     Autumn\n",
              "1   Finding Nemo(2003)  Animation  ...  North America     Spring\n",
              "2  A Serious Man(2009)     Comedy  ...  North America     Autumn\n",
              "3        Detroit(2017)      Crime  ...  North America     Summer\n",
              "4       Replicas(2018)      Drama  ...         Europe     Winter\n",
              "\n",
              "[5 rows x 19 columns]"
            ]
          },
          "metadata": {
            "tags": []
          },
          "execution_count": 91
        }
      ]
    },
    {
      "cell_type": "markdown",
      "metadata": {
        "id": "nRo8eXgycp1Y",
        "colab_type": "text"
      },
      "source": [
        "###Визуализация"
      ]
    },
    {
      "cell_type": "markdown",
      "metadata": {
        "id": "74VGYnIrihPx",
        "colab_type": "text"
      },
      "source": [
        "Посмотрим, фильмы из каких стран и континентов попали в наш список фильмов и в каком количестве"
      ]
    },
    {
      "cell_type": "code",
      "metadata": {
        "id": "d9GHblpNKqzl",
        "colab_type": "code",
        "outputId": "14f68c24-7319-4d75-fa06-918c0b08db84",
        "colab": {
          "base_uri": "https://localhost:8080/",
          "height": 467
        }
      },
      "source": [
        "plt.style.use('seaborn-pastel')\n",
        "fig, ax = plt.subplots(ncols=2,figsize = (18,5))\n",
        "ax[0].bar(pd.value_counts(df['Cтрана производства']).index,height=pd.value_counts(df['Cтрана производства']))\n",
        "ax[0].tick_params(axis='x', rotation=90)\n",
        "ax[0].set_title('Количество фильмов в зависимости от страны производства')\n",
        "ax[0].set_xlabel('Страны')\n",
        "ax[0].set_ylabel('Количество фильмов')\n",
        "ax[1].bar(pd.value_counts(df['Континент']).index,height=pd.value_counts(df['Континент']))\n",
        "ax[1].set_title('Количество фильмов в зависимости от континента')\n",
        "ax[1].set_xlabel('Континенты')\n",
        "ax[1].set_ylabel('Количество фильмов')\n",
        "plt.show()"
      ],
      "execution_count": 92,
      "outputs": [
        {
          "output_type": "display_data",
          "data": {
            "image/png": "[encoded data removed]",
            "text/plain": [
              "<Figure size 1296x360 with 2 Axes>"
            ]
          },
          "metadata": {
            "tags": []
          }
        }
      ]
    },
    {
      "cell_type": "code",
      "metadata": {
        "id": "NZoiN2-9kRaN",
        "colab_type": "code",
        "outputId": "aa4a574b-9cc3-4645-ead5-6ebba3c12ddd",
        "colab": {
          "base_uri": "https://localhost:8080/",
          "height": 324
        }
      },
      "source": [
        "df.corr() # матрица коореляции"
      ],
      "execution_count": 93,
      "outputs": [
        {
          "output_type": "execute_result",
          "data": {
            "text/html": [
              "<div>\n",
              "<style scoped>\n",
              "    .dataframe tbody tr th:only-of-type {\n",
              "        vertical-align: middle;\n",
              "    }\n",
              "\n",
              "    .dataframe tbody tr th {\n",
              "        vertical-align: top;\n",
              "    }\n",
              "\n",
              "    .dataframe thead th {\n",
              "        text-align: right;\n",
              "    }\n",
              "</style>\n",
              "<table border=\"1\" class=\"dataframe\">\n",
              "  <thead>\n",
              "    <tr style=\"text-align: right;\">\n",
              "      <th></th>\n",
              "      <th>Рейтинг</th>\n",
              "      <th>Количество проголосовавших</th>\n",
              "      <th>Бюджет</th>\n",
              "      <th>Заработок в мире</th>\n",
              "      <th>Metascore</th>\n",
              "      <th>Разница оценок</th>\n",
              "      <th>Прибыль</th>\n",
              "      <th>Стоимость голоса</th>\n",
              "    </tr>\n",
              "  </thead>\n",
              "  <tbody>\n",
              "    <tr>\n",
              "      <th>Рейтинг</th>\n",
              "      <td>1.000000</td>\n",
              "      <td>0.363455</td>\n",
              "      <td>-0.085161</td>\n",
              "      <td>0.072948</td>\n",
              "      <td>0.516797</td>\n",
              "      <td>0.122484</td>\n",
              "      <td>0.162316</td>\n",
              "      <td>-0.437946</td>\n",
              "    </tr>\n",
              "    <tr>\n",
              "      <th>Количество проголосовавших</th>\n",
              "      <td>0.363455</td>\n",
              "      <td>1.000000</td>\n",
              "      <td>0.358404</td>\n",
              "      <td>0.562963</td>\n",
              "      <td>0.140126</td>\n",
              "      <td>0.179551</td>\n",
              "      <td>0.553926</td>\n",
              "      <td>-0.258528</td>\n",
              "    </tr>\n",
              "    <tr>\n",
              "      <th>Бюджет</th>\n",
              "      <td>-0.085161</td>\n",
              "      <td>0.358404</td>\n",
              "      <td>1.000000</td>\n",
              "      <td>0.725680</td>\n",
              "      <td>-0.152578</td>\n",
              "      <td>0.162108</td>\n",
              "      <td>0.591976</td>\n",
              "      <td>0.463337</td>\n",
              "    </tr>\n",
              "    <tr>\n",
              "      <th>Заработок в мире</th>\n",
              "      <td>0.072948</td>\n",
              "      <td>0.562963</td>\n",
              "      <td>0.725680</td>\n",
              "      <td>1.000000</td>\n",
              "      <td>-0.017445</td>\n",
              "      <td>0.115838</td>\n",
              "      <td>0.984109</td>\n",
              "      <td>0.054295</td>\n",
              "    </tr>\n",
              "    <tr>\n",
              "      <th>Metascore</th>\n",
              "      <td>0.516797</td>\n",
              "      <td>0.140126</td>\n",
              "      <td>-0.152578</td>\n",
              "      <td>-0.017445</td>\n",
              "      <td>1.000000</td>\n",
              "      <td>-0.786362</td>\n",
              "      <td>0.024573</td>\n",
              "      <td>-0.312463</td>\n",
              "    </tr>\n",
              "    <tr>\n",
              "      <th>Разница оценок</th>\n",
              "      <td>0.122484</td>\n",
              "      <td>0.179551</td>\n",
              "      <td>0.162108</td>\n",
              "      <td>0.115838</td>\n",
              "      <td>-0.786362</td>\n",
              "      <td>1.000000</td>\n",
              "      <td>0.102779</td>\n",
              "      <td>0.056308</td>\n",
              "    </tr>\n",
              "    <tr>\n",
              "      <th>Прибыль</th>\n",
              "      <td>0.162316</td>\n",
              "      <td>0.553926</td>\n",
              "      <td>0.591976</td>\n",
              "      <td>0.984109</td>\n",
              "      <td>0.024573</td>\n",
              "      <td>0.102779</td>\n",
              "      <td>1.000000</td>\n",
              "      <td>-0.053761</td>\n",
              "    </tr>\n",
              "    <tr>\n",
              "      <th>Стоимость голоса</th>\n",
              "      <td>-0.437946</td>\n",
              "      <td>-0.258528</td>\n",
              "      <td>0.463337</td>\n",
              "      <td>0.054295</td>\n",
              "      <td>-0.312463</td>\n",
              "      <td>0.056308</td>\n",
              "      <td>-0.053761</td>\n",
              "      <td>1.000000</td>\n",
              "    </tr>\n",
              "  </tbody>\n",
              "</table>\n",
              "</div>"
            ],
            "text/plain": [
              "                             Рейтинг  ...  Стоимость голоса\n",
              "Рейтинг                     1.000000  ...         -0.437946\n",
              "Количество проголосовавших  0.363455  ...         -0.258528\n",
              "Бюджет                     -0.085161  ...          0.463337\n",
              "Заработок в мире            0.072948  ...          0.054295\n",
              "Metascore                   0.516797  ...         -0.312463\n",
              "Разница оценок              0.122484  ...          0.056308\n",
              "Прибыль                     0.162316  ...         -0.053761\n",
              "Стоимость голоса           -0.437946  ...          1.000000\n",
              "\n",
              "[8 rows x 8 columns]"
            ]
          },
          "metadata": {
            "tags": []
          },
          "execution_count": 93
        }
      ]
    },
    {
      "cell_type": "markdown",
      "metadata": {
        "id": "WkbFhXfOpiyC",
        "colab_type": "text"
      },
      "source": [
        "Построим несколько интересных диаграмм рассеяния и попробуем их проинтерпретировать"
      ]
    },
    {
      "cell_type": "code",
      "metadata": {
        "id": "2Fj4nL8DlRz5",
        "colab_type": "code",
        "outputId": "64e15604-013c-4cf8-af3c-f05727ec87d8",
        "colab": {
          "base_uri": "https://localhost:8080/",
          "height": 622
        }
      },
      "source": [
        "plt.style.use('seaborn')\n",
        "fig, ax = plt.subplots(ncols=2, nrows=2,figsize=(17,10))\n",
        "sns.regplot('Metascore', 'Рейтинг',data=df,fit_reg=True,ax=ax[0,0], scatter_kws={'s':20})\n",
        "ax[0,0].set_title('Связь рейтинга пользователей и оценок критиков')\n",
        "sns.regplot('Прибыль', 'Заработок в мире',data=df,fit_reg=True, scatter_kws={'s':10},ax=ax[1,1])\n",
        "ax[1,1].set_title('Связь прибыли от фильма и заработка в мире')\n",
        "sns.regplot('Прибыль', 'Количество проголосовавших',data=df,fit_reg=True, scatter_kws={'s':10},ax=ax[0,1])\n",
        "ax[0,1].set_title('Связь прибыли от фильма и количества проголосоваших')\n",
        "sns.regplot('Рейтинг', 'Стоимость голоса',data=df,fit_reg=True, scatter_kws={'s':10},ax=ax[1,0])\n",
        "ax[1,0].set_title('Связь рейтинга пользователей и стоимости голоса')\n",
        "plt.show()"
      ],
      "execution_count": 94,
      "outputs": [
        {
          "output_type": "display_data",
          "data": {
            "image/png": "[encoded data removed]",
            "text/plain": [
              "<Figure size 1224x720 with 4 Axes>"
            ]
          },
          "metadata": {
            "tags": []
          }
        }
      ]
    },
    {
      "cell_type": "markdown",
      "metadata": {
        "id": "QP9BeDXjZtFy",
        "colab_type": "text"
      },
      "source": [
        "1.   Наблюдается положительная связь между оценками критиков и зрителей, однако она не настолько сильна, как можно было этого ожидать. \n",
        "2.   Связь прибыли и заработка имеет очень четкую положительную связь, что говорит о важности величины заработка для получения высокой прибыли, при этом значимость бюджета сильно меньше (корреляция прибыли и бюджета 0.591976). \n",
        "3.Интересно, что связь оценки за фильм и денег, которые мог бы получить каждый голосовавший имеет сильную отрицательную связь. Если будут раздавать деньги за голоса, не ставьте оценки фильмам с высоким рейтингом)\n",
        "4.Положительная связь прибыль и количества проголосовавших может интерпретироваться через посещаемость кинотеатров. Люди больше ходят в кино на фильм - свят больше голосов и добавляют больше прибыли компании"
      ]
    },
    {
      "cell_type": "code",
      "metadata": {
        "id": "sH0pGHqmqDyh",
        "colab_type": "code",
        "outputId": "2f442652-a878-4b53-c8ed-3212a4dfd5b1",
        "colab": {
          "base_uri": "https://localhost:8080/",
          "height": 377
        }
      },
      "source": [
        "fig, ax = plt.subplots()\n",
        "ax.plot(df[['Бюджет','Дата выхода']].groupby(df['Дата выхода'].dt.year).mean())\n",
        "ax.set_title('Средний бюджет фильмов по годам')\n",
        "ax.ticklabel_format(style='sci',scilimits=(6, 6), axis='y')\n",
        "ax.set_xlabel('Годы')\n",
        "ax.set_ylabel('Бюджет млн долларов')\n",
        "plt.show()"
      ],
      "execution_count": 95,
      "outputs": [
        {
          "output_type": "display_data",
          "data": {
            "image/png": "[encoded data removed]",
            "text/plain": [
              "<Figure size 576x396 with 1 Axes>"
            ]
          },
          "metadata": {
            "tags": []
          }
        }
      ]
    },
    {
      "cell_type": "markdown",
      "metadata": {
        "id": "VtE5QJtiHaeI",
        "colab_type": "text"
      },
      "source": [
        "Интересно заметитить, как росли средние бюджеты, затраченные на производство фильмов каждый год"
      ]
    },
    {
      "cell_type": "code",
      "metadata": {
        "id": "Ju0HH9Dcra19",
        "colab_type": "code",
        "outputId": "6ea96dda-66db-42fb-ca89-304a9e39078f",
        "colab": {
          "base_uri": "https://localhost:8080/",
          "height": 404
        }
      },
      "source": [
        "fig, ax = plt.subplots(ncols=2, figsize =(17,6))\n",
        "ax[0].bar(pd.value_counts(df['Время года']).index, height = pd.value_counts(df['Время года']), color=('orange'))\n",
        "ax[0].set_title('Вышедшие фильмы по временам года')\n",
        "ax[0].set_xlabel('Время года')\n",
        "ax[0].set_ylabel('Количество фильмов')\n",
        "ax[1].bar(df[['Заработок в мире','Время года']].groupby(df['Время года']).sum().index, df[['Заработок в мире','Время года']].groupby(df['Время года']).sum()['Заработок в мире'])\n",
        "ax[1].ticklabel_format(style='sci',scilimits=(9, 9), axis='y')\n",
        "ax[1].set_title('Заработок в мире по временам года')\n",
        "ax[1].set_xlabel('Время года')\n",
        "ax[1].set_ylabel('Заработок в мире в млрд долларов')\n",
        "plt.show()"
      ],
      "execution_count": 96,
      "outputs": [
        {
          "output_type": "display_data",
          "data": {
            "image/png": "[encoded data removed]",
            "text/plain": [
              "<Figure size 1224x432 with 2 Axes>"
            ]
          },
          "metadata": {
            "tags": []
          }
        }
      ]
    },
    {
      "cell_type": "markdown",
      "metadata": {
        "id": "UEKAKvN8fjoN",
        "colab_type": "text"
      },
      "source": [
        "Больше всего хороших фильмов выходит весной и осенью, что может быть связано с тем, что все основные кинофестивали проходят в первой половине года, а сами фильмы добираются до широкого экрана как раз к осеннему сезону. При этом больше всего зарабатывают фильмы, вышедшие летом, что скорее всего связано с сезоном каникул и отпусков - у людей больше времени на кино"
      ]
    },
    {
      "cell_type": "markdown",
      "metadata": {
        "id": "lZoC1YWQloei",
        "colab_type": "text"
      },
      "source": [
        "###Гипотезы"
      ]
    },
    {
      "cell_type": "markdown",
      "metadata": {
        "id": "kYlP3gP2l5YU",
        "colab_type": "text"
      },
      "source": [
        "Придумаем и протестируем гипотезы:\n",
        "1. В среднем фильмы, выпущенные на английском языке зарабатывают больше а длятся меньше, чем другие\n",
        "2. Критики ставят в среднем самые низкие оценки комедиям, в то время людям меньше всего нравятся мелодрамы\n",
        "3. Если бюджет фильма превышает 200 000 000 $, значит, он выпущен в США\n",
        "4. Все немые фильмы в нашей подборке - черно-белые\n",
        "5. Выборочная несмещенная дисперсия для прибыли немецких фильмов больше, чем для французских\n",
        "6. Критики и зрители более единогласны в оценках относительно фильмов, выпущенных в Европе, нежели в Азии, то есть сумма модулей разниц оценок для Европы меньше\n",
        "7. Если рейтинг фильма ниже 5 и он вышел в 20 веке, то он точно снят не в Южной Америке или Азии\n",
        "\n"
      ]
    },
    {
      "cell_type": "code",
      "metadata": {
        "id": "gQPpnVhcnFpO",
        "colab_type": "code",
        "colab": {
          "base_uri": "https://localhost:8080/",
          "height": 70
        },
        "outputId": "d077a5f5-a323-48d2-acb4-b6ae529f3221"
      },
      "source": [
        "#1 В среднем фильмы, выпущенные на английском языке зарабатывают больше а длятся меньше, чем другие\n",
        "eng = df[df['Язык'] == 'English']['Заработок в мире'].mean()\n",
        "noteng = df[df['Язык'] != 'English']['Заработок в мире'].mean()\n",
        "verno = 0\n",
        "if eng > noteng:\n",
        "  print(f'{eng:.10} > {noteng:.10}: фильмы на английском зарабатывают больше')\n",
        "  verno +=1\n",
        "else:\n",
        "  print(f'{eng:.10} < {noteng:.10}: фильмы на английском зарабатывают меньше')\n",
        "dliteng = df[df['Язык'] == 'English']['Длительность'].mean()\n",
        "dlitnoteng = df[df['Язык'] != 'English']['Длительность'].mean()\n",
        "if dliteng > dlitnoteng:\n",
        "  print(f'{dliteng:.10} > {dlitnoteng:.10}: фильмы на английском длятся дольше')\n",
        "else:\n",
        "  print(f'{dliteng:.10} < {dlitnoteng:.10}: фильмы на английском длятся меньше')\n",
        "  verno +=1\n",
        "if verno ==2:\n",
        "  print('Наша гипотеза верна')\n",
        "else:\n",
        "  print('Наша гипотеза неверна')"
      ],
      "execution_count": 97,
      "outputs": [
        {
          "output_type": "stream",
          "text": [
            "126249570.7 > 34197461.3: фильмы на английском зарабатывают больше\n",
            "109.8324373 < 122.0490909: фильмы на английском длятся меньше\n",
            "Наша гипотеза верна\n"
          ],
          "name": "stdout"
        }
      ]
    },
    {
      "cell_type": "code",
      "metadata": {
        "id": "EnIru9G_-lUi",
        "colab_type": "code",
        "colab": {
          "base_uri": "https://localhost:8080/",
          "height": 34
        },
        "outputId": "26fa5114-632e-480c-90a8-3c7f79980eab"
      },
      "source": [
        "#2 Критики ставят в среднем самые низкие оценки комедиям, в то время людям меньше всего нравятся мелодрамы\n",
        "genre = df[['Жанр', 'Metascore', 'Рейтинг']].groupby('Жанр').mean() #отберем нужные нам колонки и посчитаем среднее\n",
        "if genre[genre['Metascore']==genre['Metascore'].min()].index[0] == 'Comedy' and genre[genre['Рейтинг']==genre['Рейтинг'].min()].index[0] == 'Romance':\n",
        "  print('Наша гипотеза верна, критики меньше всего любят комедии, а люди мелордрамы ')\n",
        "else:\n",
        "  x = genre[genre['Metascore']==genre['Metascore'].min()].index[0]\n",
        "  y = genre[genre['Рейтинг']==genre['Рейтинг'].min()].index[0]\n",
        "  print(f'Наша гипотеза неверна, критики меньше всего любят {x}, а люди {y}')"
      ],
      "execution_count": 163,
      "outputs": [
        {
          "output_type": "stream",
          "text": [
            "Наша гипотеза неверна, критики меньше всего любят Sci-Fi, а люди Fantasy\n"
          ],
          "name": "stdout"
        }
      ]
    },
    {
      "cell_type": "code",
      "metadata": {
        "id": "ut4GoBUwluzS",
        "colab_type": "code",
        "colab": {
          "base_uri": "https://localhost:8080/",
          "height": 52
        },
        "outputId": "45b31884-4cdb-42b5-a658-ad7e6779d48f"
      },
      "source": [
        "#3 Если бюджет фильма превышает 200 000 000 $, значит, он выпущен в США\n",
        "n = 200 #миллионов долларов, можно задать другой n и потестить гипотезу\n",
        "if n*10**6 < df['Бюджет'].max():\n",
        "  x = df[df['Бюджет']>n*10**6].loc[lambda df: df[df['Бюджет']>n*10**6]['Cтрана производства']!='USA'] # страны, где снимали фильмы с бюджетом больше 200 000 000 $\n",
        "  if len(x) !=0:\n",
        "    strani = x['Cтрана производства'].unique()\n",
        "    print(f'Наша гипотеза неверна \\nВот страны в которых выпускались фильмы c бюджетом больше {n} млн  долларов: {strani}')\n",
        "  else:\n",
        "    print(f'Наша гипотеза верна \\nТолько в США выпускались фильмы c бюджетом больше {n} млн  долларов')\n",
        "else:\n",
        "  print(f'Фильмы с бюджетом {n} млн долларов не выпускались нигде')"
      ],
      "execution_count": 62,
      "outputs": [
        {
          "output_type": "stream",
          "text": [
            "Наша гипотеза неверна \n",
            "Вот страны в которых выпускались фильмы c бюджетом больше 200 млн  долларов: ['UK' 'New Zealand' 'China' 'Canada']\n"
          ],
          "name": "stdout"
        }
      ]
    },
    {
      "cell_type": "code",
      "metadata": {
        "id": "VYtldLE1_YpP",
        "colab_type": "code",
        "colab": {
          "base_uri": "https://localhost:8080/",
          "height": 70
        },
        "outputId": "b0258670-2399-4389-d751-f19f0892427b"
      },
      "source": [
        "#4 Все немые фильмы в нашей подборке - черно-белые\n",
        "if len(df[df['Звук'] == 'Silent']) == len(df[df['Звук'] == 'Silent'][df[df['Звук'] == 'Silent']['Цвет'] == 'Black']):\n",
        "  x=df[df['Звук'] == 'Silent']['Название'].unique()\n",
        "  print(f'Наша гипотеза верна - вот эти фильмы:{x}')\n",
        "else:\n",
        "  print('Наша гипотеза неверна')"
      ],
      "execution_count": 104,
      "outputs": [
        {
          "output_type": "stream",
          "text": [
            "Наша гипотеза верна - вот эти фильмы:['The Cabinet of Dr. Caligari(1920)' 'Nosferatu(1922)'\n",
            " 'Sherlock Jr.(1924)' 'The General(1926)' 'City Lights(1931)'\n",
            " 'The Passion of Joan of Arc(1928)' 'Battleship Potemkin(1925)']\n"
          ],
          "name": "stdout"
        }
      ]
    },
    {
      "cell_type": "code",
      "metadata": {
        "id": "5CflH7vNFX4g",
        "colab_type": "code",
        "colab": {
          "base_uri": "https://localhost:8080/",
          "height": 52
        },
        "outputId": "b1a0840f-2844-4230-94fc-b764aa1d0c6a"
      },
      "source": [
        "#5 Выборочная несмещенная дисперсия для прибыли немецких фильмов больше, чем для французских\n",
        "nem = df[df['Cтрана производства'] == 'Germany']\n",
        "vibdispnem = ((np.array(nem['Прибыль'].dropna())-nem['Прибыль'].mean())**2).sum()/(len(nem)-1)\n",
        "fran = df[df['Cтрана производства'] == 'France']\n",
        "vibdispfran = ((np.array(fran['Прибыль'].dropna())-fran['Прибыль'].mean())**2).sum()/(len(fran)-1)\n",
        "if vibdispnem > vibdispfran:\n",
        "  print(f'Наша гипотеза верна \\nВыборочная несмещенная дисперсия для немецких фильмов больше, так как: {vibdispnem}>{vibdispfran}')\n",
        "else:\n",
        "  print(f'Наша гипотеза неверна \\nВыборочная несмещенная дисперсия для немецких фильмов меньше, так как: {vibdispnem}<{vibdispfran}')"
      ],
      "execution_count": 122,
      "outputs": [
        {
          "output_type": "stream",
          "text": [
            "Наша гипотеза неверна \n",
            "Выборочная несмещенная дисперсия для немецких фильмов меньше, так как: 3311742069357280.0<4645992745965328.0\n"
          ],
          "name": "stdout"
        }
      ]
    },
    {
      "cell_type": "code",
      "metadata": {
        "id": "os3sNeXJIJqW",
        "colab_type": "code",
        "colab": {
          "base_uri": "https://localhost:8080/",
          "height": 52
        },
        "outputId": "16400118-a668-49b9-a30b-386156b545b8"
      },
      "source": [
        "#6 Критики и зрители более единогласны в оценках относительно фильмов, выпущенных в Европе, нежели в Азии, \n",
        "#то есть сумма модулей разниц оценок деленная на их количество для Европы меньше\n",
        "df['Разница оценок'] = abs(df['Разница оценок'])\n",
        "contin = df[['Разница оценок', 'Континент']].groupby('Континент').sum() #сгруппируем по континентам\n",
        "asi = contin.loc['Asia'][0]/pd.value_counts(df['Континент']).loc['Asia'] #для Европы\n",
        "eur = contin.loc['Europe'][0]/pd.value_counts(df['Континент']).loc['Europe'] #для Азии\n",
        "if eur < asi:\n",
        "  print(f'Наша гипотеза верна \\nКритики и зрители более единогласны в оценках относительно фильмов, выпущенных в Европе, {eur: .5} < {asi: .5}')\n",
        "else:\n",
        "  print(f'Наша гипотеза неверна \\nКритики и зрители более единогласны в оценках относительно фильмов, выпущенных в Азии, {eur: .5} > {asi: .5}')"
      ],
      "execution_count": 140,
      "outputs": [
        {
          "output_type": "stream",
          "text": [
            "Наша гипотеза неверна \n",
            "Критики и зрители более единогласны в оценках относительно фильмов, выпущенных в Азии,  0.34967 >  0.26679\n"
          ],
          "name": "stdout"
        }
      ]
    },
    {
      "cell_type": "code",
      "metadata": {
        "id": "xOP5HAhgPBzi",
        "colab_type": "code",
        "colab": {
          "base_uri": "https://localhost:8080/",
          "height": 34
        },
        "outputId": "162a1906-1cd0-43be-beae-97cd673db417"
      },
      "source": [
        "#7 Если рейтинг фильма ниже 5 и он вышел в 20 веке, то он точно снят не в Южной Америке или Азии\n",
        "rate = 5 #можно поменять рейтинг и потестировать \n",
        "year = 2001 #можно поменять год и потестировать \n",
        "dat = df[(df['Рейтинг']<rate) & (df['Дата выхода'].dt.year < year)]\n",
        "if 'Asia' not in dat['Континент'].unique() and 'South America' not in dat['Континент'].unique():\n",
        "  print('Наша гипотеза верна, точно снят не в Южной Америке или Азии')\n",
        "elif 'Asia' in dat['Континент'].unique() and 'South America' not in dat['Континент'].unique():\n",
        "  print('Наша гипотеза неверна, он может быть снят в Азии')\n",
        "elif 'Asia' not in dat['Континент'].unique() and 'South America'  in dat['Континент'].unique():\n",
        "  print('Наша гипотеза неверна, он может быть снят в Южной Америке')\n",
        "else:\n",
        "  print('Наша гипотеза неверна, он может быть снят и в Южной Америке, и в Азии')"
      ],
      "execution_count": 154,
      "outputs": [
        {
          "output_type": "stream",
          "text": [
            "Наша гипотеза неверна, он может быть снят в Азии\n"
          ],
          "name": "stdout"
        }
      ]
    }
  ]
}